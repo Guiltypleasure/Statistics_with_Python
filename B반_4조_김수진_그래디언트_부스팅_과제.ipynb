{
  "nbformat": 4,
  "nbformat_minor": 0,
  "metadata": {
    "colab": {
      "name": "B반 4조 김수진 그래디언트 부스팅 과제",
      "version": "0.3.2",
      "provenance": [],
      "collapsed_sections": [],
      "include_colab_link": true
    },
    "kernelspec": {
      "name": "python3",
      "display_name": "Python 3"
    }
  },
  "cells": [
    {
      "cell_type": "markdown",
      "metadata": {
        "id": "view-in-github",
        "colab_type": "text"
      },
      "source": [
        "<a href=\"https://colab.research.google.com/github/SJKIM2253/Statistics_with_Python/blob/master/B%EB%B0%98_4%EC%A1%B0_%EA%B9%80%EC%88%98%EC%A7%84_%EA%B7%B8%EB%9E%98%EB%94%94%EC%96%B8%ED%8A%B8_%EB%B6%80%EC%8A%A4%ED%8C%85_%EA%B3%BC%EC%A0%9C.ipynb\" target=\"_parent\"><img src=\"https://colab.research.google.com/assets/colab-badge.svg\" alt=\"Open In Colab\"/></a>"
      ]
    },
    {
      "cell_type": "markdown",
      "metadata": {
        "id": "A3pCJH9xSA58",
        "colab_type": "text"
      },
      "source": [
        "# 콘크리트 강도를 예측하는 그래디언트 부스팅 모델을 만들고 predict method를 이용하여 예측값을 구하라. 그리고 모델의 mse와 mae를 산출하여 비교하라. \n",
        "데이터 : Concrete.CSV(변수: 9개, 자료 수: 1,030개)\n",
        " -.목표변수(Concrete_compressive_strength)\n",
        " \n",
        "※ 데이터는 ( train(0.4) : validation(0.3) : validation(0.3) )의 비율로 분할 (train_validation_split 활용)\n",
        " 0. train_validation_split 함수를 이용하여 train:validation로 데이터 분할. 분할된 train 데이터를 재 분할하여 validation 데이터로 사용\n",
        " 1. train 데이터: 모델 훈련 \n",
        " 2. validation 데이터: 최적의 parameter 찾기(과정의 [연습/실습]에서 validation 데이터 역할)\n",
        " 3. validation 데이터: 2에서 찾은 최적의 parameter를 이용하여 만든 모델로 최종 성능 확인(단 한 번만 사용할 것)\n"
      ]
    },
    {
      "cell_type": "markdown",
      "metadata": {
        "id": "b8wHCahYlRmE",
        "colab_type": "text"
      },
      "source": [
        ""
      ]
    },
    {
      "cell_type": "code",
      "metadata": {
        "id": "Bsm3FugWQMGL",
        "colab_type": "code",
        "colab": {}
      },
      "source": [
        "import pandas as pd\n",
        "import numpy as np\n",
        "import matplotlib.pyplot as plt\n",
        "import seaborn as sns\n",
        "\n",
        "from statsmodels.formula.api import ols\n",
        "from statsmodels.api import qqplot, add_constant\n",
        "import statsmodels.formula.api as smf\n",
        "from statsmodels.tools.eval_measures import rmse  # 추정의 표준오차\n",
        "%matplotlib inline\n",
        "\n",
        "from sklearn.tree import export_graphviz\n",
        "import graphviz\n",
        "\n",
        "from sklearn.model_selection import train_test_split\n",
        "from sklearn.ensemble import GradientBoostingRegressor as GBR\n",
        "from sklearn.model_selection import GridSearchCV   # cross validation(구버전)\n",
        "from sklearn.metrics import mean_squared_error\n",
        "from sklearn.metrics import mean_absolute_error"
      ],
      "execution_count": 0,
      "outputs": []
    },
    {
      "cell_type": "code",
      "metadata": {
        "id": "gc5sLM8JQa8p",
        "colab_type": "code",
        "outputId": "55c798ae-2f6b-4e83-9eeb-bb162deb5f59",
        "colab": {
          "base_uri": "https://localhost:8080/",
          "height": 34
        }
      },
      "source": [
        "from google.colab import drive\n",
        "drive.mount('/content/drive')"
      ],
      "execution_count": 88,
      "outputs": [
        {
          "output_type": "stream",
          "text": [
            "Drive already mounted at /content/drive; to attempt to forcibly remount, call drive.mount(\"/content/drive\", force_remount=True).\n"
          ],
          "name": "stdout"
        }
      ]
    },
    {
      "cell_type": "markdown",
      "metadata": {
        "id": "9UKENkMqj2gt",
        "colab_type": "text"
      },
      "source": [
        "# 새 섹션"
      ]
    },
    {
      "cell_type": "code",
      "metadata": {
        "id": "g5T4ZBf_jgpq",
        "colab_type": "code",
        "outputId": "2cae44a9-c3a1-4326-8811-99f59b1e1fdc",
        "colab": {
          "base_uri": "https://localhost:8080/",
          "height": 34
        }
      },
      "source": [
        "pip install graphviz"
      ],
      "execution_count": 89,
      "outputs": [
        {
          "output_type": "stream",
          "text": [
            "Requirement already satisfied: graphviz in /usr/local/lib/python3.6/dist-packages (0.10.1)\n"
          ],
          "name": "stdout"
        }
      ]
    },
    {
      "cell_type": "code",
      "metadata": {
        "id": "D4Mbf1j7j_xP",
        "colab_type": "code",
        "outputId": "3529a82b-b194-4761-d7ba-b8e05fd78917",
        "colab": {
          "base_uri": "https://localhost:8080/",
          "height": 198
        }
      },
      "source": [
        "#Concrete.csv을 불러옴\n",
        "df_raw = pd.read_csv(\"/content/drive/My Drive/BigDataAnalysis/Concrete.csv\", engine = \"python\")\n",
        "df_raw.head()"
      ],
      "execution_count": 90,
      "outputs": [
        {
          "output_type": "execute_result",
          "data": {
            "text/html": [
              "<div>\n",
              "<style scoped>\n",
              "    .dataframe tbody tr th:only-of-type {\n",
              "        vertical-align: middle;\n",
              "    }\n",
              "\n",
              "    .dataframe tbody tr th {\n",
              "        vertical-align: top;\n",
              "    }\n",
              "\n",
              "    .dataframe thead th {\n",
              "        text-align: right;\n",
              "    }\n",
              "</style>\n",
              "<table border=\"1\" class=\"dataframe\">\n",
              "  <thead>\n",
              "    <tr style=\"text-align: right;\">\n",
              "      <th></th>\n",
              "      <th>CEMENT</th>\n",
              "      <th>BLAST_FURNACE_SLAG</th>\n",
              "      <th>FLY_ASH</th>\n",
              "      <th>WATER</th>\n",
              "      <th>SUPERPLASTICIZER</th>\n",
              "      <th>COARSE_AGGREGATE</th>\n",
              "      <th>FINE_AGGREGATE</th>\n",
              "      <th>AGE</th>\n",
              "      <th>CONCRETE_COMPRESSIVE_STRENGTH</th>\n",
              "    </tr>\n",
              "  </thead>\n",
              "  <tbody>\n",
              "    <tr>\n",
              "      <th>0</th>\n",
              "      <td>540.0</td>\n",
              "      <td>0.0</td>\n",
              "      <td>0.0</td>\n",
              "      <td>162.0</td>\n",
              "      <td>2.5</td>\n",
              "      <td>1040.0</td>\n",
              "      <td>676.0</td>\n",
              "      <td>28</td>\n",
              "      <td>79.99</td>\n",
              "    </tr>\n",
              "    <tr>\n",
              "      <th>1</th>\n",
              "      <td>540.0</td>\n",
              "      <td>0.0</td>\n",
              "      <td>0.0</td>\n",
              "      <td>162.0</td>\n",
              "      <td>2.5</td>\n",
              "      <td>1055.0</td>\n",
              "      <td>676.0</td>\n",
              "      <td>28</td>\n",
              "      <td>61.89</td>\n",
              "    </tr>\n",
              "    <tr>\n",
              "      <th>2</th>\n",
              "      <td>332.5</td>\n",
              "      <td>142.5</td>\n",
              "      <td>0.0</td>\n",
              "      <td>228.0</td>\n",
              "      <td>0.0</td>\n",
              "      <td>932.0</td>\n",
              "      <td>594.0</td>\n",
              "      <td>270</td>\n",
              "      <td>40.27</td>\n",
              "    </tr>\n",
              "    <tr>\n",
              "      <th>3</th>\n",
              "      <td>332.5</td>\n",
              "      <td>142.5</td>\n",
              "      <td>0.0</td>\n",
              "      <td>228.0</td>\n",
              "      <td>0.0</td>\n",
              "      <td>932.0</td>\n",
              "      <td>594.0</td>\n",
              "      <td>365</td>\n",
              "      <td>41.05</td>\n",
              "    </tr>\n",
              "    <tr>\n",
              "      <th>4</th>\n",
              "      <td>198.6</td>\n",
              "      <td>132.4</td>\n",
              "      <td>0.0</td>\n",
              "      <td>192.0</td>\n",
              "      <td>0.0</td>\n",
              "      <td>978.4</td>\n",
              "      <td>825.5</td>\n",
              "      <td>360</td>\n",
              "      <td>44.30</td>\n",
              "    </tr>\n",
              "  </tbody>\n",
              "</table>\n",
              "</div>"
            ],
            "text/plain": [
              "   CEMENT  BLAST_FURNACE_SLAG  ...  AGE  CONCRETE_COMPRESSIVE_STRENGTH\n",
              "0   540.0                 0.0  ...   28                          79.99\n",
              "1   540.0                 0.0  ...   28                          61.89\n",
              "2   332.5               142.5  ...  270                          40.27\n",
              "3   332.5               142.5  ...  365                          41.05\n",
              "4   198.6               132.4  ...  360                          44.30\n",
              "\n",
              "[5 rows x 9 columns]"
            ]
          },
          "metadata": {
            "tags": []
          },
          "execution_count": 90
        }
      ]
    },
    {
      "cell_type": "code",
      "metadata": {
        "id": "Oq7GWlubkZsr",
        "colab_type": "code",
        "colab": {
          "base_uri": "https://localhost:8080/",
          "height": 121
        },
        "outputId": "d71d185e-db77-4482-e17c-ca4848843255"
      },
      "source": [
        "# 목표변수, 설명변수 데이터 지정\n",
        "df_raw_y = df_raw[\"CONCRETE_COMPRESSIVE_STRENGTH\"]\n",
        "df_raw_x = df_raw.drop(\"CONCRETE_COMPRESSIVE_STRENGTH\", axis= 1, inplace = False)\n",
        "\n",
        "# train_set_split(x:설명변수 데이터, Y: 목표변수 데이터, validation_size=validation 데이터 비율, random_state: random seed)\n",
        "# train_set_split 함수를 이용하여 데이터는 ( train(0.4) : validation(0.3) : test(0.3) )의 비율로 분할\n",
        "# train_set_split 함수를 이용하여 train:test로 데이터 분할. 분할된 train 데이터를 재 분할하여 validation 데이터로 사용\n",
        "#random state=8로 지정하여 입력 데이터 고정df_train_x, df_rest_x, df_train_y, df_rest_y= train_test_split(df_raw_x, df_raw_y, test_size=0.6, random_state=8)\n",
        "df_train_x, df_rest_x, df_train_y, df_rest_y= train_test_split(df_raw_x, df_raw_y, test_size=0.6, random_state=87)\n",
        "df_validation_x, df_test_x, df_validation_y, df_test_y= train_test_split(df_rest_x, df_rest_y, test_size=0.5, random_state=87)\n",
        "\n",
        "print(\"train data X size:{}\".format(df_train_x.shape))\n",
        "print(\"train data Y size:{}\".format(df_train_y.shape))\n",
        "print(\"validation data X size:{}\".format(df_validation_x.shape))\n",
        "print(\"validation data Y size:{}\".format(df_validation_y.shape))\n",
        "print(\"test data X size:{}\".format(df_test_x.shape))\n",
        "print(\"test data Y size:{}\".format(df_test_y.shape))"
      ],
      "execution_count": 91,
      "outputs": [
        {
          "output_type": "stream",
          "text": [
            "train data X size:(412, 8)\n",
            "train data Y size:(412,)\n",
            "validation data X size:(309, 8)\n",
            "validation data Y size:(309,)\n",
            "test data X size:(309, 8)\n",
            "test data Y size:(309,)\n"
          ],
          "name": "stdout"
        }
      ]
    },
    {
      "cell_type": "code",
      "metadata": {
        "id": "ygsJl6skld2_",
        "colab_type": "code",
        "colab": {
          "base_uri": "https://localhost:8080/",
          "height": 52
        },
        "outputId": "a490972c-03b8-4168-f6a9-0dcb955236ae"
      },
      "source": [
        "# GradientBoostingRegressor을 이용하여 그래디언트 부스팅 모델 생성\n",
        "# GradientBoostingRegressor import할 때 GBR로 줄여줌\n",
        "gb_uncustomized = GBR(random_state=8)\n",
        "gb_uncustomized.fit(df_train_x, df_train_y)\n",
        "print(\"Score on training set: {:.3f}\".format(gb_uncustomized.score(df_train_x,df_train_y)))\n",
        "print(\"Score on validation set: {:.3f}\".format(gb_uncustomized.score(df_validation_x,df_validation_y)))"
      ],
      "execution_count": 92,
      "outputs": [
        {
          "output_type": "stream",
          "text": [
            "Score on training set: 0.965\n",
            "Score on validation set: 0.875\n"
          ],
          "name": "stdout"
        }
      ]
    },
    {
      "cell_type": "code",
      "metadata": {
        "id": "5gaRiVbTmI3J",
        "colab_type": "code",
        "colab": {
          "base_uri": "https://localhost:8080/",
          "height": 173
        },
        "outputId": "93a5cad1-cb0b-48be-bb60-c2f2f4527242"
      },
      "source": [
        "#최초 GBR 모델\n",
        "gb_uncustomized"
      ],
      "execution_count": 93,
      "outputs": [
        {
          "output_type": "execute_result",
          "data": {
            "text/plain": [
              "GradientBoostingRegressor(alpha=0.9, criterion='friedman_mse', init=None,\n",
              "                          learning_rate=0.1, loss='ls', max_depth=3,\n",
              "                          max_features=None, max_leaf_nodes=None,\n",
              "                          min_impurity_decrease=0.0, min_impurity_split=None,\n",
              "                          min_samples_leaf=1, min_samples_split=2,\n",
              "                          min_weight_fraction_leaf=0.0, n_estimators=100,\n",
              "                          n_iter_no_change=None, presort='auto', random_state=8,\n",
              "                          subsample=1.0, tol=0.0001, validation_fraction=0.1,\n",
              "                          verbose=0, warm_start=False)"
            ]
          },
          "metadata": {
            "tags": []
          },
          "execution_count": 93
        }
      ]
    },
    {
      "cell_type": "code",
      "metadata": {
        "id": "jhidIxiJmKyH",
        "colab_type": "code",
        "colab": {
          "base_uri": "https://localhost:8080/",
          "height": 349
        },
        "outputId": "258bc1c0-945d-459e-d88b-77c8a2e942bd"
      },
      "source": [
        "# 그래디언트 부스팅 - 모델 parameter 조정\n",
        "# estimators 값을  10~300까지 조정하면서 TrainScore, ValidationScore 값 출력\n",
        "\n",
        "train_score = []; validation_score =[]\n",
        "para_n_tree=[n_tree * 10 for n_tree in range(1,11)]\n",
        "\n",
        "for v_n_estimators in para_n_tree:\n",
        "  gb =GBR(random_state=8, n_estimators=v_n_estimators)\n",
        "  gb.fit(df_train_x, df_train_y)\n",
        "  train_score.append(gb.score(df_train_x,df_train_y))\n",
        "  validation_score.append(gb.score(df_validation_x,df_validation_y))\n",
        "  \n",
        "df_score_n = pd.DataFrame()\n",
        "df_score_n[\"estimators\"]=para_n_tree\n",
        "df_score_n[\"TrainScore\"]=train_score\n",
        "df_score_n[\"validationScore\"]=validation_score\n",
        "  \n",
        "# 각 para_n_tree 수에 따른 TrainScore와 ValidationScore을 내림차순으로 출력\n",
        "df_score_n.round(3)"
      ],
      "execution_count": 94,
      "outputs": [
        {
          "output_type": "execute_result",
          "data": {
            "text/html": [
              "<div>\n",
              "<style scoped>\n",
              "    .dataframe tbody tr th:only-of-type {\n",
              "        vertical-align: middle;\n",
              "    }\n",
              "\n",
              "    .dataframe tbody tr th {\n",
              "        vertical-align: top;\n",
              "    }\n",
              "\n",
              "    .dataframe thead th {\n",
              "        text-align: right;\n",
              "    }\n",
              "</style>\n",
              "<table border=\"1\" class=\"dataframe\">\n",
              "  <thead>\n",
              "    <tr style=\"text-align: right;\">\n",
              "      <th></th>\n",
              "      <th>estimators</th>\n",
              "      <th>TrainScore</th>\n",
              "      <th>validationScore</th>\n",
              "    </tr>\n",
              "  </thead>\n",
              "  <tbody>\n",
              "    <tr>\n",
              "      <th>0</th>\n",
              "      <td>10</td>\n",
              "      <td>0.660</td>\n",
              "      <td>0.609</td>\n",
              "    </tr>\n",
              "    <tr>\n",
              "      <th>1</th>\n",
              "      <td>20</td>\n",
              "      <td>0.824</td>\n",
              "      <td>0.757</td>\n",
              "    </tr>\n",
              "    <tr>\n",
              "      <th>2</th>\n",
              "      <td>30</td>\n",
              "      <td>0.886</td>\n",
              "      <td>0.811</td>\n",
              "    </tr>\n",
              "    <tr>\n",
              "      <th>3</th>\n",
              "      <td>40</td>\n",
              "      <td>0.916</td>\n",
              "      <td>0.835</td>\n",
              "    </tr>\n",
              "    <tr>\n",
              "      <th>4</th>\n",
              "      <td>50</td>\n",
              "      <td>0.933</td>\n",
              "      <td>0.848</td>\n",
              "    </tr>\n",
              "    <tr>\n",
              "      <th>5</th>\n",
              "      <td>60</td>\n",
              "      <td>0.943</td>\n",
              "      <td>0.856</td>\n",
              "    </tr>\n",
              "    <tr>\n",
              "      <th>6</th>\n",
              "      <td>70</td>\n",
              "      <td>0.951</td>\n",
              "      <td>0.865</td>\n",
              "    </tr>\n",
              "    <tr>\n",
              "      <th>7</th>\n",
              "      <td>80</td>\n",
              "      <td>0.957</td>\n",
              "      <td>0.869</td>\n",
              "    </tr>\n",
              "    <tr>\n",
              "      <th>8</th>\n",
              "      <td>90</td>\n",
              "      <td>0.962</td>\n",
              "      <td>0.872</td>\n",
              "    </tr>\n",
              "    <tr>\n",
              "      <th>9</th>\n",
              "      <td>100</td>\n",
              "      <td>0.965</td>\n",
              "      <td>0.875</td>\n",
              "    </tr>\n",
              "  </tbody>\n",
              "</table>\n",
              "</div>"
            ],
            "text/plain": [
              "   estimators  TrainScore  validationScore\n",
              "0          10       0.660            0.609\n",
              "1          20       0.824            0.757\n",
              "2          30       0.886            0.811\n",
              "3          40       0.916            0.835\n",
              "4          50       0.933            0.848\n",
              "5          60       0.943            0.856\n",
              "6          70       0.951            0.865\n",
              "7          80       0.957            0.869\n",
              "8          90       0.962            0.872\n",
              "9         100       0.965            0.875"
            ]
          },
          "metadata": {
            "tags": []
          },
          "execution_count": 94
        }
      ]
    },
    {
      "cell_type": "code",
      "metadata": {
        "id": "8xM3I_zHnO6L",
        "colab_type": "code",
        "colab": {
          "base_uri": "https://localhost:8080/",
          "height": 301
        },
        "outputId": "30cc2dc6-c8c7-47c0-a05b-bf141b3f44bb"
      },
      "source": [
        "plt.plot(para_n_tree, train_score, linestyle = \"-\", label = \"Train Score\")\n",
        "plt.plot(para_n_tree, validation_score, linestyle = \"--\", label = \"validation Score\")\n",
        "plt.ylabel(\"score\"); plt.xlabel(\"n_estimators\")\n",
        "plt.legend()"
      ],
      "execution_count": 95,
      "outputs": [
        {
          "output_type": "execute_result",
          "data": {
            "text/plain": [
              "<matplotlib.legend.Legend at 0x7efef3a26898>"
            ]
          },
          "metadata": {
            "tags": []
          },
          "execution_count": 95
        },
        {
          "output_type": "display_data",
          "data": {
            "image/png": "[encoded data removed]",
            "text/plain": [
              "<Figure size 432x288 with 1 Axes>"
            ]
          },
          "metadata": {
            "tags": []
          }
        }
      ]
    },
    {
      "cell_type": "code",
      "metadata": {
        "id": "2Xj5YiA-nuZE",
        "colab_type": "code",
        "colab": {
          "base_uri": "https://localhost:8080/",
          "height": 649
        },
        "outputId": "0d533b8d-8876-4941-b17d-bc4b78b5c209"
      },
      "source": [
        "# estimators 값을 50으로 지정하고 min_samples_leaf 값을 1~20까지 조정했을 때 train_score, validation_score 값 출력\n",
        "train_score = []; validation_score =[]\n",
        "para_leaf=[n_leaf * 1 for n_leaf in range(1,21)]\n",
        "\n",
        "for v_min_samples_leaf in para_leaf:\n",
        "  \n",
        "  rf =GBR(random_state=8, n_estimators=50, min_samples_leaf = v_min_samples_leaf)\n",
        "  rf.fit(df_train_x,df_train_y)\n",
        "  \n",
        "  train_score.append(rf.score(df_train_x,df_train_y))\n",
        "  validation_score.append(rf.score(df_validation_x,df_validation_y))\n",
        "  \n",
        "df_score_leaf = pd.DataFrame()\n",
        "df_score_leaf[\"min_samples_leaf\"]=para_leaf\n",
        "df_score_leaf[\"TrainScore\"]=train_score\n",
        "df_score_leaf[\"validationScore\"]=validation_score\n",
        "  \n",
        "df_score_leaf.round(3)  "
      ],
      "execution_count": 96,
      "outputs": [
        {
          "output_type": "execute_result",
          "data": {
            "text/html": [
              "<div>\n",
              "<style scoped>\n",
              "    .dataframe tbody tr th:only-of-type {\n",
              "        vertical-align: middle;\n",
              "    }\n",
              "\n",
              "    .dataframe tbody tr th {\n",
              "        vertical-align: top;\n",
              "    }\n",
              "\n",
              "    .dataframe thead th {\n",
              "        text-align: right;\n",
              "    }\n",
              "</style>\n",
              "<table border=\"1\" class=\"dataframe\">\n",
              "  <thead>\n",
              "    <tr style=\"text-align: right;\">\n",
              "      <th></th>\n",
              "      <th>min_samples_leaf</th>\n",
              "      <th>TrainScore</th>\n",
              "      <th>validationScore</th>\n",
              "    </tr>\n",
              "  </thead>\n",
              "  <tbody>\n",
              "    <tr>\n",
              "      <th>0</th>\n",
              "      <td>1</td>\n",
              "      <td>0.933</td>\n",
              "      <td>0.848</td>\n",
              "    </tr>\n",
              "    <tr>\n",
              "      <th>1</th>\n",
              "      <td>2</td>\n",
              "      <td>0.931</td>\n",
              "      <td>0.848</td>\n",
              "    </tr>\n",
              "    <tr>\n",
              "      <th>2</th>\n",
              "      <td>3</td>\n",
              "      <td>0.933</td>\n",
              "      <td>0.845</td>\n",
              "    </tr>\n",
              "    <tr>\n",
              "      <th>3</th>\n",
              "      <td>4</td>\n",
              "      <td>0.931</td>\n",
              "      <td>0.848</td>\n",
              "    </tr>\n",
              "    <tr>\n",
              "      <th>4</th>\n",
              "      <td>5</td>\n",
              "      <td>0.931</td>\n",
              "      <td>0.849</td>\n",
              "    </tr>\n",
              "    <tr>\n",
              "      <th>5</th>\n",
              "      <td>6</td>\n",
              "      <td>0.931</td>\n",
              "      <td>0.848</td>\n",
              "    </tr>\n",
              "    <tr>\n",
              "      <th>6</th>\n",
              "      <td>7</td>\n",
              "      <td>0.929</td>\n",
              "      <td>0.847</td>\n",
              "    </tr>\n",
              "    <tr>\n",
              "      <th>7</th>\n",
              "      <td>8</td>\n",
              "      <td>0.925</td>\n",
              "      <td>0.844</td>\n",
              "    </tr>\n",
              "    <tr>\n",
              "      <th>8</th>\n",
              "      <td>9</td>\n",
              "      <td>0.924</td>\n",
              "      <td>0.845</td>\n",
              "    </tr>\n",
              "    <tr>\n",
              "      <th>9</th>\n",
              "      <td>10</td>\n",
              "      <td>0.921</td>\n",
              "      <td>0.840</td>\n",
              "    </tr>\n",
              "    <tr>\n",
              "      <th>10</th>\n",
              "      <td>11</td>\n",
              "      <td>0.918</td>\n",
              "      <td>0.839</td>\n",
              "    </tr>\n",
              "    <tr>\n",
              "      <th>11</th>\n",
              "      <td>12</td>\n",
              "      <td>0.918</td>\n",
              "      <td>0.838</td>\n",
              "    </tr>\n",
              "    <tr>\n",
              "      <th>12</th>\n",
              "      <td>13</td>\n",
              "      <td>0.920</td>\n",
              "      <td>0.843</td>\n",
              "    </tr>\n",
              "    <tr>\n",
              "      <th>13</th>\n",
              "      <td>14</td>\n",
              "      <td>0.916</td>\n",
              "      <td>0.840</td>\n",
              "    </tr>\n",
              "    <tr>\n",
              "      <th>14</th>\n",
              "      <td>15</td>\n",
              "      <td>0.918</td>\n",
              "      <td>0.845</td>\n",
              "    </tr>\n",
              "    <tr>\n",
              "      <th>15</th>\n",
              "      <td>16</td>\n",
              "      <td>0.916</td>\n",
              "      <td>0.847</td>\n",
              "    </tr>\n",
              "    <tr>\n",
              "      <th>16</th>\n",
              "      <td>17</td>\n",
              "      <td>0.918</td>\n",
              "      <td>0.850</td>\n",
              "    </tr>\n",
              "    <tr>\n",
              "      <th>17</th>\n",
              "      <td>18</td>\n",
              "      <td>0.915</td>\n",
              "      <td>0.847</td>\n",
              "    </tr>\n",
              "    <tr>\n",
              "      <th>18</th>\n",
              "      <td>19</td>\n",
              "      <td>0.913</td>\n",
              "      <td>0.844</td>\n",
              "    </tr>\n",
              "    <tr>\n",
              "      <th>19</th>\n",
              "      <td>20</td>\n",
              "      <td>0.911</td>\n",
              "      <td>0.845</td>\n",
              "    </tr>\n",
              "  </tbody>\n",
              "</table>\n",
              "</div>"
            ],
            "text/plain": [
              "    min_samples_leaf  TrainScore  validationScore\n",
              "0                  1       0.933            0.848\n",
              "1                  2       0.931            0.848\n",
              "2                  3       0.933            0.845\n",
              "3                  4       0.931            0.848\n",
              "4                  5       0.931            0.849\n",
              "5                  6       0.931            0.848\n",
              "6                  7       0.929            0.847\n",
              "7                  8       0.925            0.844\n",
              "8                  9       0.924            0.845\n",
              "9                 10       0.921            0.840\n",
              "10                11       0.918            0.839\n",
              "11                12       0.918            0.838\n",
              "12                13       0.920            0.843\n",
              "13                14       0.916            0.840\n",
              "14                15       0.918            0.845\n",
              "15                16       0.916            0.847\n",
              "16                17       0.918            0.850\n",
              "17                18       0.915            0.847\n",
              "18                19       0.913            0.844\n",
              "19                20       0.911            0.845"
            ]
          },
          "metadata": {
            "tags": []
          },
          "execution_count": 96
        }
      ]
    },
    {
      "cell_type": "code",
      "metadata": {
        "id": "oba4BS3NoK_Z",
        "colab_type": "code",
        "colab": {
          "base_uri": "https://localhost:8080/",
          "height": 301
        },
        "outputId": "bd776af8-9dd8-49f7-da76-e4f119b6bcde"
      },
      "source": [
        "# 위의 값을 그래프로 출력\n",
        "plt.plot(para_leaf, train_score, linestyle = \"-\", label = \"Train Score\")\n",
        "plt.plot(para_leaf, validation_score, linestyle = \"--\", label = \"validation Score\")\n",
        "plt.ylabel(\"score\"); plt.xlabel(\"min samples leaf\")\n",
        "plt.legend()\n",
        "# 차이가 가장 적으면서, 전체적으로 score가 높은 MinSamplesLeaf 선정 = 17"
      ],
      "execution_count": 97,
      "outputs": [
        {
          "output_type": "execute_result",
          "data": {
            "text/plain": [
              "<matplotlib.legend.Legend at 0x7efeea943a90>"
            ]
          },
          "metadata": {
            "tags": []
          },
          "execution_count": 97
        },
        {
          "output_type": "display_data",
          "data": {
            "image/png": "[encoded data removed]",
            "text/plain": [
              "<Figure size 432x288 with 1 Axes>"
            ]
          },
          "metadata": {
            "tags": []
          }
        }
      ]
    },
    {
      "cell_type": "code",
      "metadata": {
        "id": "hAw7TjYmocP5",
        "colab_type": "code",
        "colab": {
          "base_uri": "https://localhost:8080/",
          "height": 649
        },
        "outputId": "39d08ecd-e540-4261-a54b-ed03cc8bfe28"
      },
      "source": [
        "# n_estimators=50, min_samples_leaf = 17로 고정하고 min_samples_split을 2~40으로 조정했을 때 train_score, validation_score 값 출력\n",
        "train_score = []; validation_score =[]\n",
        "para_split=[n_split * 2 for n_split in range(1,21)]\n",
        "\n",
        "for v_min_samples_split in para_split:\n",
        "  \n",
        "  gb =GBR(random_state=8, n_estimators=50, min_samples_leaf = 17, min_samples_split = v_min_samples_split)\n",
        "  gb.fit(df_train_x,df_train_y)\n",
        "  \n",
        "  train_score.append(gb.score(df_train_x,df_train_y))\n",
        "  validation_score.append(gb.score(df_validation_x,df_validation_y))\n",
        "  \n",
        "df_score_split = pd.DataFrame()\n",
        "df_score_split[\"Estimators\"]=para_split\n",
        "df_score_split[\"TrainScore\"]=train_score\n",
        "df_score_split[\"validationScore\"]=validation_score\n",
        "  \n",
        "df_score_split.round(3)  "
      ],
      "execution_count": 98,
      "outputs": [
        {
          "output_type": "execute_result",
          "data": {
            "text/html": [
              "<div>\n",
              "<style scoped>\n",
              "    .dataframe tbody tr th:only-of-type {\n",
              "        vertical-align: middle;\n",
              "    }\n",
              "\n",
              "    .dataframe tbody tr th {\n",
              "        vertical-align: top;\n",
              "    }\n",
              "\n",
              "    .dataframe thead th {\n",
              "        text-align: right;\n",
              "    }\n",
              "</style>\n",
              "<table border=\"1\" class=\"dataframe\">\n",
              "  <thead>\n",
              "    <tr style=\"text-align: right;\">\n",
              "      <th></th>\n",
              "      <th>Estimators</th>\n",
              "      <th>TrainScore</th>\n",
              "      <th>validationScore</th>\n",
              "    </tr>\n",
              "  </thead>\n",
              "  <tbody>\n",
              "    <tr>\n",
              "      <th>0</th>\n",
              "      <td>2</td>\n",
              "      <td>0.918</td>\n",
              "      <td>0.850</td>\n",
              "    </tr>\n",
              "    <tr>\n",
              "      <th>1</th>\n",
              "      <td>4</td>\n",
              "      <td>0.918</td>\n",
              "      <td>0.850</td>\n",
              "    </tr>\n",
              "    <tr>\n",
              "      <th>2</th>\n",
              "      <td>6</td>\n",
              "      <td>0.918</td>\n",
              "      <td>0.850</td>\n",
              "    </tr>\n",
              "    <tr>\n",
              "      <th>3</th>\n",
              "      <td>8</td>\n",
              "      <td>0.918</td>\n",
              "      <td>0.850</td>\n",
              "    </tr>\n",
              "    <tr>\n",
              "      <th>4</th>\n",
              "      <td>10</td>\n",
              "      <td>0.918</td>\n",
              "      <td>0.850</td>\n",
              "    </tr>\n",
              "    <tr>\n",
              "      <th>5</th>\n",
              "      <td>12</td>\n",
              "      <td>0.918</td>\n",
              "      <td>0.850</td>\n",
              "    </tr>\n",
              "    <tr>\n",
              "      <th>6</th>\n",
              "      <td>14</td>\n",
              "      <td>0.918</td>\n",
              "      <td>0.850</td>\n",
              "    </tr>\n",
              "    <tr>\n",
              "      <th>7</th>\n",
              "      <td>16</td>\n",
              "      <td>0.918</td>\n",
              "      <td>0.850</td>\n",
              "    </tr>\n",
              "    <tr>\n",
              "      <th>8</th>\n",
              "      <td>18</td>\n",
              "      <td>0.918</td>\n",
              "      <td>0.850</td>\n",
              "    </tr>\n",
              "    <tr>\n",
              "      <th>9</th>\n",
              "      <td>20</td>\n",
              "      <td>0.918</td>\n",
              "      <td>0.850</td>\n",
              "    </tr>\n",
              "    <tr>\n",
              "      <th>10</th>\n",
              "      <td>22</td>\n",
              "      <td>0.918</td>\n",
              "      <td>0.850</td>\n",
              "    </tr>\n",
              "    <tr>\n",
              "      <th>11</th>\n",
              "      <td>24</td>\n",
              "      <td>0.918</td>\n",
              "      <td>0.850</td>\n",
              "    </tr>\n",
              "    <tr>\n",
              "      <th>12</th>\n",
              "      <td>26</td>\n",
              "      <td>0.918</td>\n",
              "      <td>0.850</td>\n",
              "    </tr>\n",
              "    <tr>\n",
              "      <th>13</th>\n",
              "      <td>28</td>\n",
              "      <td>0.918</td>\n",
              "      <td>0.850</td>\n",
              "    </tr>\n",
              "    <tr>\n",
              "      <th>14</th>\n",
              "      <td>30</td>\n",
              "      <td>0.918</td>\n",
              "      <td>0.850</td>\n",
              "    </tr>\n",
              "    <tr>\n",
              "      <th>15</th>\n",
              "      <td>32</td>\n",
              "      <td>0.918</td>\n",
              "      <td>0.850</td>\n",
              "    </tr>\n",
              "    <tr>\n",
              "      <th>16</th>\n",
              "      <td>34</td>\n",
              "      <td>0.918</td>\n",
              "      <td>0.850</td>\n",
              "    </tr>\n",
              "    <tr>\n",
              "      <th>17</th>\n",
              "      <td>36</td>\n",
              "      <td>0.916</td>\n",
              "      <td>0.848</td>\n",
              "    </tr>\n",
              "    <tr>\n",
              "      <th>18</th>\n",
              "      <td>38</td>\n",
              "      <td>0.916</td>\n",
              "      <td>0.848</td>\n",
              "    </tr>\n",
              "    <tr>\n",
              "      <th>19</th>\n",
              "      <td>40</td>\n",
              "      <td>0.916</td>\n",
              "      <td>0.848</td>\n",
              "    </tr>\n",
              "  </tbody>\n",
              "</table>\n",
              "</div>"
            ],
            "text/plain": [
              "    Estimators  TrainScore  validationScore\n",
              "0            2       0.918            0.850\n",
              "1            4       0.918            0.850\n",
              "2            6       0.918            0.850\n",
              "3            8       0.918            0.850\n",
              "4           10       0.918            0.850\n",
              "5           12       0.918            0.850\n",
              "6           14       0.918            0.850\n",
              "7           16       0.918            0.850\n",
              "8           18       0.918            0.850\n",
              "9           20       0.918            0.850\n",
              "10          22       0.918            0.850\n",
              "11          24       0.918            0.850\n",
              "12          26       0.918            0.850\n",
              "13          28       0.918            0.850\n",
              "14          30       0.918            0.850\n",
              "15          32       0.918            0.850\n",
              "16          34       0.918            0.850\n",
              "17          36       0.916            0.848\n",
              "18          38       0.916            0.848\n",
              "19          40       0.916            0.848"
            ]
          },
          "metadata": {
            "tags": []
          },
          "execution_count": 98
        }
      ]
    },
    {
      "cell_type": "code",
      "metadata": {
        "id": "RZ15fojipCmF",
        "colab_type": "code",
        "colab": {
          "base_uri": "https://localhost:8080/",
          "height": 301
        },
        "outputId": "6ee358e7-035b-49cf-8314-f36d247336a7"
      },
      "source": [
        "plt.plot(para_split, train_score, linestyle = \"-\", label = \"Train Score\")\n",
        "plt.plot(para_split, validation_score, linestyle = \"--\", label = \"validation Score\")\n",
        "plt.ylabel(\"score\"); plt.xlabel(\"min samples split\")\n",
        "plt.legend()"
      ],
      "execution_count": 99,
      "outputs": [
        {
          "output_type": "execute_result",
          "data": {
            "text/plain": [
              "<matplotlib.legend.Legend at 0x7efeea971438>"
            ]
          },
          "metadata": {
            "tags": []
          },
          "execution_count": 99
        },
        {
          "output_type": "display_data",
          "data": {
            "image/png": "[encoded data removed]",
            "text/plain": [
              "<Figure size 432x288 with 1 Axes>"
            ]
          },
          "metadata": {
            "tags": []
          }
        }
      ]
    },
    {
      "cell_type": "code",
      "metadata": {
        "id": "XOx6cHRypuPF",
        "colab_type": "code",
        "colab": {
          "base_uri": "https://localhost:8080/",
          "height": 349
        },
        "outputId": "9922cbdb-9bc8-4315-b0af-4ee373602ef5"
      },
      "source": [
        "# n_estimators=50, min_samples_leaf = 17, min_samples_split =34로 고정하고, max_depth를 1~10으로 조정했을 때 train_score, validation_score 값 출력\n",
        "\n",
        "train_score = []; validation_score =[]\n",
        "para_depth = [depth for depth in range(1,11)]\n",
        "\n",
        "for v_max_depth in para_depth:\n",
        "  \n",
        "  gb =GBR(random_state=8, n_estimators=50, min_samples_leaf = 17, min_samples_split =34, max_depth = v_max_depth)\n",
        "  gb.fit(df_train_x,df_train_y)\n",
        "  \n",
        "  train_score.append(gb.score(df_train_x,df_train_y))\n",
        "  validation_score.append(gb.score(df_validation_x,df_validation_y))\n",
        "  \n",
        "df_score_depth = pd.DataFrame()\n",
        "df_score_depth[\"Depth\"]=para_depth\n",
        "df_score_depth[\"TrainScore\"]=train_score\n",
        "df_score_depth[\"validationScore\"]=validation_score\n",
        "  \n",
        "df_score_depth.round(3)  "
      ],
      "execution_count": 100,
      "outputs": [
        {
          "output_type": "execute_result",
          "data": {
            "text/html": [
              "<div>\n",
              "<style scoped>\n",
              "    .dataframe tbody tr th:only-of-type {\n",
              "        vertical-align: middle;\n",
              "    }\n",
              "\n",
              "    .dataframe tbody tr th {\n",
              "        vertical-align: top;\n",
              "    }\n",
              "\n",
              "    .dataframe thead th {\n",
              "        text-align: right;\n",
              "    }\n",
              "</style>\n",
              "<table border=\"1\" class=\"dataframe\">\n",
              "  <thead>\n",
              "    <tr style=\"text-align: right;\">\n",
              "      <th></th>\n",
              "      <th>Depth</th>\n",
              "      <th>TrainScore</th>\n",
              "      <th>validationScore</th>\n",
              "    </tr>\n",
              "  </thead>\n",
              "  <tbody>\n",
              "    <tr>\n",
              "      <th>0</th>\n",
              "      <td>1</td>\n",
              "      <td>0.712</td>\n",
              "      <td>0.698</td>\n",
              "    </tr>\n",
              "    <tr>\n",
              "      <th>1</th>\n",
              "      <td>2</td>\n",
              "      <td>0.864</td>\n",
              "      <td>0.817</td>\n",
              "    </tr>\n",
              "    <tr>\n",
              "      <th>2</th>\n",
              "      <td>3</td>\n",
              "      <td>0.918</td>\n",
              "      <td>0.850</td>\n",
              "    </tr>\n",
              "    <tr>\n",
              "      <th>3</th>\n",
              "      <td>4</td>\n",
              "      <td>0.941</td>\n",
              "      <td>0.855</td>\n",
              "    </tr>\n",
              "    <tr>\n",
              "      <th>4</th>\n",
              "      <td>5</td>\n",
              "      <td>0.949</td>\n",
              "      <td>0.860</td>\n",
              "    </tr>\n",
              "    <tr>\n",
              "      <th>5</th>\n",
              "      <td>6</td>\n",
              "      <td>0.958</td>\n",
              "      <td>0.861</td>\n",
              "    </tr>\n",
              "    <tr>\n",
              "      <th>6</th>\n",
              "      <td>7</td>\n",
              "      <td>0.963</td>\n",
              "      <td>0.859</td>\n",
              "    </tr>\n",
              "    <tr>\n",
              "      <th>7</th>\n",
              "      <td>8</td>\n",
              "      <td>0.966</td>\n",
              "      <td>0.862</td>\n",
              "    </tr>\n",
              "    <tr>\n",
              "      <th>8</th>\n",
              "      <td>9</td>\n",
              "      <td>0.966</td>\n",
              "      <td>0.859</td>\n",
              "    </tr>\n",
              "    <tr>\n",
              "      <th>9</th>\n",
              "      <td>10</td>\n",
              "      <td>0.968</td>\n",
              "      <td>0.858</td>\n",
              "    </tr>\n",
              "  </tbody>\n",
              "</table>\n",
              "</div>"
            ],
            "text/plain": [
              "   Depth  TrainScore  validationScore\n",
              "0      1       0.712            0.698\n",
              "1      2       0.864            0.817\n",
              "2      3       0.918            0.850\n",
              "3      4       0.941            0.855\n",
              "4      5       0.949            0.860\n",
              "5      6       0.958            0.861\n",
              "6      7       0.963            0.859\n",
              "7      8       0.966            0.862\n",
              "8      9       0.966            0.859\n",
              "9     10       0.968            0.858"
            ]
          },
          "metadata": {
            "tags": []
          },
          "execution_count": 100
        }
      ]
    },
    {
      "cell_type": "code",
      "metadata": {
        "id": "Q-fJ9IKzqLiL",
        "colab_type": "code",
        "colab": {
          "base_uri": "https://localhost:8080/",
          "height": 301
        },
        "outputId": "ec9fcd46-c51b-453c-d2cf-e5f35f378a20"
      },
      "source": [
        "plt.plot(para_depth, train_score, linestyle = \"-\", label = \"Train Score\")\n",
        "plt.plot(para_depth, validation_score, linestyle = \"--\", label = \"validation Score\")\n",
        "plt.ylabel(\"score\"); plt.xlabel(\"depth\")\n",
        "plt.legend()"
      ],
      "execution_count": 101,
      "outputs": [
        {
          "output_type": "execute_result",
          "data": {
            "text/plain": [
              "<matplotlib.legend.Legend at 0x7efeea9ad8d0>"
            ]
          },
          "metadata": {
            "tags": []
          },
          "execution_count": 101
        },
        {
          "output_type": "display_data",
          "data": {
            "image/png": "[encoded data removed]",
            "text/plain": [
              "<Figure size 432x288 with 1 Axes>"
            ]
          },
          "metadata": {
            "tags": []
          }
        }
      ]
    },
    {
      "cell_type": "code",
      "metadata": {
        "id": "2k1fZePkqjd3",
        "colab_type": "code",
        "colab": {
          "base_uri": "https://localhost:8080/",
          "height": 319
        },
        "outputId": "7a09fcad-3139-49f5-d209-96222d9e3470"
      },
      "source": [
        "# n_estimators=50, min_samples_leaf = 17, min_samples_split =34,\n",
        "# max_depth = 3을 고정하고 learning_rate를 0.1~1까지 조정했을 떄 train_score, validation_score 값 출력\n",
        "train_score = []; validation_score =[]\n",
        "\n",
        "para_lr = [lr * 0.1 for lr in range(1,10)]\n",
        "\n",
        "for v_learning_rate in para_lr :\n",
        "  \n",
        "  gb =GBR(random_state=8, n_estimators=50, min_samples_leaf = 17, min_samples_split =34, max_depth = 3, learning_rate = v_learning_rate)\n",
        "  gb.fit(df_train_x,df_train_y)\n",
        "  \n",
        "  train_score.append(gb.score(df_train_x,df_train_y))\n",
        "  validation_score.append(gb.score(df_validation_x,df_validation_y))\n",
        "  \n",
        "df_score_lr = pd.DataFrame()\n",
        "df_score_lr[\"LearningRate\"]=para_lr\n",
        "df_score_lr[\"TrainScore\"]=train_score\n",
        "df_score_lr[\"validationScore\"]=validation_score\n",
        "  \n",
        "df_score_lr.round(3)  "
      ],
      "execution_count": 102,
      "outputs": [
        {
          "output_type": "execute_result",
          "data": {
            "text/html": [
              "<div>\n",
              "<style scoped>\n",
              "    .dataframe tbody tr th:only-of-type {\n",
              "        vertical-align: middle;\n",
              "    }\n",
              "\n",
              "    .dataframe tbody tr th {\n",
              "        vertical-align: top;\n",
              "    }\n",
              "\n",
              "    .dataframe thead th {\n",
              "        text-align: right;\n",
              "    }\n",
              "</style>\n",
              "<table border=\"1\" class=\"dataframe\">\n",
              "  <thead>\n",
              "    <tr style=\"text-align: right;\">\n",
              "      <th></th>\n",
              "      <th>LearningRate</th>\n",
              "      <th>TrainScore</th>\n",
              "      <th>validationScore</th>\n",
              "    </tr>\n",
              "  </thead>\n",
              "  <tbody>\n",
              "    <tr>\n",
              "      <th>0</th>\n",
              "      <td>0.1</td>\n",
              "      <td>0.918</td>\n",
              "      <td>0.850</td>\n",
              "    </tr>\n",
              "    <tr>\n",
              "      <th>1</th>\n",
              "      <td>0.2</td>\n",
              "      <td>0.948</td>\n",
              "      <td>0.866</td>\n",
              "    </tr>\n",
              "    <tr>\n",
              "      <th>2</th>\n",
              "      <td>0.3</td>\n",
              "      <td>0.961</td>\n",
              "      <td>0.871</td>\n",
              "    </tr>\n",
              "    <tr>\n",
              "      <th>3</th>\n",
              "      <td>0.4</td>\n",
              "      <td>0.967</td>\n",
              "      <td>0.877</td>\n",
              "    </tr>\n",
              "    <tr>\n",
              "      <th>4</th>\n",
              "      <td>0.5</td>\n",
              "      <td>0.970</td>\n",
              "      <td>0.873</td>\n",
              "    </tr>\n",
              "    <tr>\n",
              "      <th>5</th>\n",
              "      <td>0.6</td>\n",
              "      <td>0.974</td>\n",
              "      <td>0.858</td>\n",
              "    </tr>\n",
              "    <tr>\n",
              "      <th>6</th>\n",
              "      <td>0.7</td>\n",
              "      <td>0.974</td>\n",
              "      <td>0.844</td>\n",
              "    </tr>\n",
              "    <tr>\n",
              "      <th>7</th>\n",
              "      <td>0.8</td>\n",
              "      <td>0.977</td>\n",
              "      <td>0.852</td>\n",
              "    </tr>\n",
              "    <tr>\n",
              "      <th>8</th>\n",
              "      <td>0.9</td>\n",
              "      <td>0.973</td>\n",
              "      <td>0.813</td>\n",
              "    </tr>\n",
              "  </tbody>\n",
              "</table>\n",
              "</div>"
            ],
            "text/plain": [
              "   LearningRate  TrainScore  validationScore\n",
              "0           0.1       0.918            0.850\n",
              "1           0.2       0.948            0.866\n",
              "2           0.3       0.961            0.871\n",
              "3           0.4       0.967            0.877\n",
              "4           0.5       0.970            0.873\n",
              "5           0.6       0.974            0.858\n",
              "6           0.7       0.974            0.844\n",
              "7           0.8       0.977            0.852\n",
              "8           0.9       0.973            0.813"
            ]
          },
          "metadata": {
            "tags": []
          },
          "execution_count": 102
        }
      ]
    },
    {
      "cell_type": "code",
      "metadata": {
        "id": "HR3OvwiNrE_a",
        "colab_type": "code",
        "colab": {
          "base_uri": "https://localhost:8080/",
          "height": 301
        },
        "outputId": "ed254053-79ab-4177-914b-3c311b2f9807"
      },
      "source": [
        "plt.plot(para_lr, train_score, linestyle = \"-\", label = \"Train Score\")\n",
        "plt.plot(para_lr, validation_score, linestyle = \"--\", label = \"validation Score\")\n",
        "plt.ylabel(\"score\"); plt.xlabel(\"learning rate\")\n",
        "plt.legend()"
      ],
      "execution_count": 103,
      "outputs": [
        {
          "output_type": "execute_result",
          "data": {
            "text/plain": [
              "<matplotlib.legend.Legend at 0x7efeea8704e0>"
            ]
          },
          "metadata": {
            "tags": []
          },
          "execution_count": 103
        },
        {
          "output_type": "display_data",
          "data": {
            "image/png": "[encoded data removed]",
            "text/plain": [
              "<Figure size 432x288 with 1 Axes>"
            ]
          },
          "metadata": {
            "tags": []
          }
        }
      ]
    },
    {
      "cell_type": "code",
      "metadata": {
        "id": "eloUuFm6rNRW",
        "colab_type": "code",
        "colab": {
          "base_uri": "https://localhost:8080/",
          "height": 69
        },
        "outputId": "4eac7288-4261-40e7-faa4-ba06e69b6f10"
      },
      "source": [
        "# learning_rate = 0.4로 하여 최종 모델 생성\n",
        "\n",
        "gb_final = GBR(random_state=8, n_estimators=40, min_samples_leaf = 17, min_samples_split =34, max_depth = 3, learning_rate = 0.4)\n",
        "gb_final.fit(df_train_x,df_train_y)\n",
        "\n",
        "# 최종 모델에 test set을 적용\n",
        "print(\"Score on training set: {:.3f}\".format(gb_final.score(df_train_x, df_train_y)))\n",
        "print(\"Score on validation set: {:.3f}\".format(gb_final.score(df_validation_x, df_validation_y)))\n",
        "print(\"Score on test set: {:.3f}\".format(gb_final.score(df_test_x, df_test_y)))"
      ],
      "execution_count": 104,
      "outputs": [
        {
          "output_type": "stream",
          "text": [
            "Score on training set: 0.962\n",
            "Score on validation set: 0.874\n",
            "Score on test set: 0.881\n"
          ],
          "name": "stdout"
        }
      ]
    },
    {
      "cell_type": "code",
      "metadata": {
        "id": "V43gIKebr3ck",
        "colab_type": "code",
        "colab": {
          "base_uri": "https://localhost:8080/",
          "height": 288
        },
        "outputId": "78758041-f089-4b3c-9bee-eda6e3d482cd"
      },
      "source": [
        "# 변수 중요도, AGE가 가장 높다.\n",
        "\n",
        "v_feature_name = df_train_x.columns\n",
        "\n",
        "df_importance = pd.DataFrame()\n",
        "df_importance[\"Feature\"]=v_feature_name\n",
        "df_importance[\"Importance\"]=gb_final.feature_importances_\n",
        "\n",
        "df_importance.sort_values(\"Importance\",ascending=False, inplace=True)\n",
        "df_importance.round(3)"
      ],
      "execution_count": 105,
      "outputs": [
        {
          "output_type": "execute_result",
          "data": {
            "text/html": [
              "<div>\n",
              "<style scoped>\n",
              "    .dataframe tbody tr th:only-of-type {\n",
              "        vertical-align: middle;\n",
              "    }\n",
              "\n",
              "    .dataframe tbody tr th {\n",
              "        vertical-align: top;\n",
              "    }\n",
              "\n",
              "    .dataframe thead th {\n",
              "        text-align: right;\n",
              "    }\n",
              "</style>\n",
              "<table border=\"1\" class=\"dataframe\">\n",
              "  <thead>\n",
              "    <tr style=\"text-align: right;\">\n",
              "      <th></th>\n",
              "      <th>Feature</th>\n",
              "      <th>Importance</th>\n",
              "    </tr>\n",
              "  </thead>\n",
              "  <tbody>\n",
              "    <tr>\n",
              "      <th>7</th>\n",
              "      <td>AGE</td>\n",
              "      <td>0.387</td>\n",
              "    </tr>\n",
              "    <tr>\n",
              "      <th>0</th>\n",
              "      <td>CEMENT</td>\n",
              "      <td>0.257</td>\n",
              "    </tr>\n",
              "    <tr>\n",
              "      <th>4</th>\n",
              "      <td>SUPERPLASTICIZER</td>\n",
              "      <td>0.153</td>\n",
              "    </tr>\n",
              "    <tr>\n",
              "      <th>3</th>\n",
              "      <td>WATER</td>\n",
              "      <td>0.083</td>\n",
              "    </tr>\n",
              "    <tr>\n",
              "      <th>6</th>\n",
              "      <td>FINE_AGGREGATE</td>\n",
              "      <td>0.056</td>\n",
              "    </tr>\n",
              "    <tr>\n",
              "      <th>1</th>\n",
              "      <td>BLAST_FURNACE_SLAG</td>\n",
              "      <td>0.052</td>\n",
              "    </tr>\n",
              "    <tr>\n",
              "      <th>5</th>\n",
              "      <td>COARSE_AGGREGATE</td>\n",
              "      <td>0.008</td>\n",
              "    </tr>\n",
              "    <tr>\n",
              "      <th>2</th>\n",
              "      <td>FLY_ASH</td>\n",
              "      <td>0.004</td>\n",
              "    </tr>\n",
              "  </tbody>\n",
              "</table>\n",
              "</div>"
            ],
            "text/plain": [
              "              Feature  Importance\n",
              "7                 AGE       0.387\n",
              "0              CEMENT       0.257\n",
              "4    SUPERPLASTICIZER       0.153\n",
              "3               WATER       0.083\n",
              "6      FINE_AGGREGATE       0.056\n",
              "1  BLAST_FURNACE_SLAG       0.052\n",
              "5    COARSE_AGGREGATE       0.008\n",
              "2             FLY_ASH       0.004"
            ]
          },
          "metadata": {
            "tags": []
          },
          "execution_count": 105
        }
      ]
    },
    {
      "cell_type": "code",
      "metadata": {
        "id": "YOstEownutKp",
        "colab_type": "code",
        "colab": {
          "base_uri": "https://localhost:8080/",
          "height": 301
        },
        "outputId": "d5e8a2c4-323d-45cc-dcf5-9b4695db7fb1"
      },
      "source": [
        "df_importance.sort_values(\"Importance\",ascending = True, inplace = True)\n",
        "coordinates=range(len(df_importance))\n",
        "plt.barh(y=coordinates, width = df_importance[\"Importance\"])\n",
        "plt.yticks(coordinates, df_importance[\"Feature\"])\n",
        "plt.xlabel(\"변수 중요도\")\n",
        "plt.ylabel(\"변수\")"
      ],
      "execution_count": 107,
      "outputs": [
        {
          "output_type": "execute_result",
          "data": {
            "text/plain": [
              "Text(0, 0.5, '변수')"
            ]
          },
          "metadata": {
            "tags": []
          },
          "execution_count": 107
        },
        {
          "output_type": "display_data",
          "data": {
            "image/png": "[encoded data removed]",
            "text/plain": [
              "<Figure size 432x288 with 1 Axes>"
            ]
          },
          "metadata": {
            "tags": []
          }
        }
      ]
    },
    {
      "cell_type": "code",
      "metadata": {
        "id": "9rLp3vO9aSUW",
        "colab_type": "code",
        "colab": {
          "base_uri": "https://localhost:8080/",
          "height": 1000
        },
        "outputId": "7a8fbbce-681e-4033-e965-a6eeaedd1568"
      },
      "source": [
        "#모델의 mse와 mae를 산출하여 비교\n",
        "gb_final = GBR(random_state=8, n_estimators=40, min_samples_leaf = 4, min_samples_split =8, max_depth = 4, learning_rate = 0.3)\n",
        "gb_final.fit(df_train_x,df_train_y)\n",
        "\n",
        "gb_MAE = GBR(criterion=\"mae\",random_state=8, n_estimators=40, min_samples_leaf = 4, min_samples_split =8, max_depth = 4, learning_rate = 0.3)\n",
        "gb_MAE.fit(df_train_x, df_train_y)\n",
        "\n",
        "# 예측값과 실제값의 비교\n",
        "y_pred = gb_final.predict(df_train_x)\n",
        "df_comparison = pd.DataFrame()\n",
        "df_comparison[\"y_predicted\"] = y_pred\n",
        "df_comparison[\"y_real\"]= df_raw_y\n",
        "\n",
        "df_comparison.round(3)"
      ],
      "execution_count": 108,
      "outputs": [
        {
          "output_type": "execute_result",
          "data": {
            "text/html": [
              "<div>\n",
              "<style scoped>\n",
              "    .dataframe tbody tr th:only-of-type {\n",
              "        vertical-align: middle;\n",
              "    }\n",
              "\n",
              "    .dataframe tbody tr th {\n",
              "        vertical-align: top;\n",
              "    }\n",
              "\n",
              "    .dataframe thead th {\n",
              "        text-align: right;\n",
              "    }\n",
              "</style>\n",
              "<table border=\"1\" class=\"dataframe\">\n",
              "  <thead>\n",
              "    <tr style=\"text-align: right;\">\n",
              "      <th></th>\n",
              "      <th>y_predicted</th>\n",
              "      <th>y_real</th>\n",
              "    </tr>\n",
              "  </thead>\n",
              "  <tbody>\n",
              "    <tr>\n",
              "      <th>0</th>\n",
              "      <td>40.417</td>\n",
              "      <td>79.99</td>\n",
              "    </tr>\n",
              "    <tr>\n",
              "      <th>1</th>\n",
              "      <td>62.200</td>\n",
              "      <td>61.89</td>\n",
              "    </tr>\n",
              "    <tr>\n",
              "      <th>2</th>\n",
              "      <td>24.358</td>\n",
              "      <td>40.27</td>\n",
              "    </tr>\n",
              "    <tr>\n",
              "      <th>3</th>\n",
              "      <td>44.595</td>\n",
              "      <td>41.05</td>\n",
              "    </tr>\n",
              "    <tr>\n",
              "      <th>4</th>\n",
              "      <td>25.340</td>\n",
              "      <td>44.30</td>\n",
              "    </tr>\n",
              "    <tr>\n",
              "      <th>5</th>\n",
              "      <td>42.827</td>\n",
              "      <td>47.03</td>\n",
              "    </tr>\n",
              "    <tr>\n",
              "      <th>6</th>\n",
              "      <td>41.033</td>\n",
              "      <td>43.70</td>\n",
              "    </tr>\n",
              "    <tr>\n",
              "      <th>7</th>\n",
              "      <td>22.828</td>\n",
              "      <td>36.45</td>\n",
              "    </tr>\n",
              "    <tr>\n",
              "      <th>8</th>\n",
              "      <td>23.559</td>\n",
              "      <td>45.85</td>\n",
              "    </tr>\n",
              "    <tr>\n",
              "      <th>9</th>\n",
              "      <td>81.680</td>\n",
              "      <td>39.29</td>\n",
              "    </tr>\n",
              "    <tr>\n",
              "      <th>10</th>\n",
              "      <td>69.067</td>\n",
              "      <td>38.07</td>\n",
              "    </tr>\n",
              "    <tr>\n",
              "      <th>11</th>\n",
              "      <td>36.753</td>\n",
              "      <td>28.02</td>\n",
              "    </tr>\n",
              "    <tr>\n",
              "      <th>12</th>\n",
              "      <td>24.810</td>\n",
              "      <td>43.01</td>\n",
              "    </tr>\n",
              "    <tr>\n",
              "      <th>13</th>\n",
              "      <td>26.765</td>\n",
              "      <td>42.33</td>\n",
              "    </tr>\n",
              "    <tr>\n",
              "      <th>14</th>\n",
              "      <td>27.730</td>\n",
              "      <td>47.81</td>\n",
              "    </tr>\n",
              "    <tr>\n",
              "      <th>15</th>\n",
              "      <td>16.189</td>\n",
              "      <td>52.91</td>\n",
              "    </tr>\n",
              "    <tr>\n",
              "      <th>16</th>\n",
              "      <td>38.725</td>\n",
              "      <td>39.36</td>\n",
              "    </tr>\n",
              "    <tr>\n",
              "      <th>17</th>\n",
              "      <td>47.327</td>\n",
              "      <td>56.14</td>\n",
              "    </tr>\n",
              "    <tr>\n",
              "      <th>18</th>\n",
              "      <td>40.607</td>\n",
              "      <td>40.56</td>\n",
              "    </tr>\n",
              "    <tr>\n",
              "      <th>19</th>\n",
              "      <td>55.370</td>\n",
              "      <td>42.62</td>\n",
              "    </tr>\n",
              "    <tr>\n",
              "      <th>20</th>\n",
              "      <td>30.610</td>\n",
              "      <td>41.84</td>\n",
              "    </tr>\n",
              "    <tr>\n",
              "      <th>21</th>\n",
              "      <td>30.431</td>\n",
              "      <td>28.24</td>\n",
              "    </tr>\n",
              "    <tr>\n",
              "      <th>22</th>\n",
              "      <td>25.818</td>\n",
              "      <td>8.06</td>\n",
              "    </tr>\n",
              "    <tr>\n",
              "      <th>23</th>\n",
              "      <td>64.567</td>\n",
              "      <td>44.21</td>\n",
              "    </tr>\n",
              "    <tr>\n",
              "      <th>24</th>\n",
              "      <td>21.068</td>\n",
              "      <td>52.52</td>\n",
              "    </tr>\n",
              "    <tr>\n",
              "      <th>25</th>\n",
              "      <td>39.554</td>\n",
              "      <td>53.30</td>\n",
              "    </tr>\n",
              "    <tr>\n",
              "      <th>26</th>\n",
              "      <td>25.437</td>\n",
              "      <td>41.15</td>\n",
              "    </tr>\n",
              "    <tr>\n",
              "      <th>27</th>\n",
              "      <td>19.474</td>\n",
              "      <td>52.12</td>\n",
              "    </tr>\n",
              "    <tr>\n",
              "      <th>28</th>\n",
              "      <td>56.717</td>\n",
              "      <td>37.43</td>\n",
              "    </tr>\n",
              "    <tr>\n",
              "      <th>29</th>\n",
              "      <td>28.966</td>\n",
              "      <td>38.60</td>\n",
              "    </tr>\n",
              "    <tr>\n",
              "      <th>...</th>\n",
              "      <td>...</td>\n",
              "      <td>...</td>\n",
              "    </tr>\n",
              "    <tr>\n",
              "      <th>382</th>\n",
              "      <td>52.226</td>\n",
              "      <td>64.02</td>\n",
              "    </tr>\n",
              "    <tr>\n",
              "      <th>383</th>\n",
              "      <td>42.015</td>\n",
              "      <td>78.80</td>\n",
              "    </tr>\n",
              "    <tr>\n",
              "      <th>384</th>\n",
              "      <td>41.965</td>\n",
              "      <td>41.37</td>\n",
              "    </tr>\n",
              "    <tr>\n",
              "      <th>385</th>\n",
              "      <td>19.043</td>\n",
              "      <td>60.28</td>\n",
              "    </tr>\n",
              "    <tr>\n",
              "      <th>386</th>\n",
              "      <td>34.842</td>\n",
              "      <td>56.83</td>\n",
              "    </tr>\n",
              "    <tr>\n",
              "      <th>387</th>\n",
              "      <td>35.225</td>\n",
              "      <td>51.02</td>\n",
              "    </tr>\n",
              "    <tr>\n",
              "      <th>388</th>\n",
              "      <td>33.055</td>\n",
              "      <td>55.55</td>\n",
              "    </tr>\n",
              "    <tr>\n",
              "      <th>389</th>\n",
              "      <td>28.251</td>\n",
              "      <td>44.13</td>\n",
              "    </tr>\n",
              "    <tr>\n",
              "      <th>390</th>\n",
              "      <td>14.004</td>\n",
              "      <td>39.38</td>\n",
              "    </tr>\n",
              "    <tr>\n",
              "      <th>391</th>\n",
              "      <td>35.795</td>\n",
              "      <td>55.65</td>\n",
              "    </tr>\n",
              "    <tr>\n",
              "      <th>392</th>\n",
              "      <td>47.427</td>\n",
              "      <td>47.28</td>\n",
              "    </tr>\n",
              "    <tr>\n",
              "      <th>393</th>\n",
              "      <td>35.126</td>\n",
              "      <td>44.33</td>\n",
              "    </tr>\n",
              "    <tr>\n",
              "      <th>394</th>\n",
              "      <td>58.225</td>\n",
              "      <td>52.30</td>\n",
              "    </tr>\n",
              "    <tr>\n",
              "      <th>395</th>\n",
              "      <td>39.186</td>\n",
              "      <td>49.25</td>\n",
              "    </tr>\n",
              "    <tr>\n",
              "      <th>396</th>\n",
              "      <td>17.967</td>\n",
              "      <td>41.37</td>\n",
              "    </tr>\n",
              "    <tr>\n",
              "      <th>397</th>\n",
              "      <td>33.209</td>\n",
              "      <td>29.16</td>\n",
              "    </tr>\n",
              "    <tr>\n",
              "      <th>398</th>\n",
              "      <td>16.827</td>\n",
              "      <td>39.40</td>\n",
              "    </tr>\n",
              "    <tr>\n",
              "      <th>399</th>\n",
              "      <td>10.745</td>\n",
              "      <td>39.30</td>\n",
              "    </tr>\n",
              "    <tr>\n",
              "      <th>400</th>\n",
              "      <td>66.448</td>\n",
              "      <td>67.87</td>\n",
              "    </tr>\n",
              "    <tr>\n",
              "      <th>401</th>\n",
              "      <td>36.098</td>\n",
              "      <td>58.52</td>\n",
              "    </tr>\n",
              "    <tr>\n",
              "      <th>402</th>\n",
              "      <td>21.234</td>\n",
              "      <td>53.58</td>\n",
              "    </tr>\n",
              "    <tr>\n",
              "      <th>403</th>\n",
              "      <td>14.557</td>\n",
              "      <td>59.00</td>\n",
              "    </tr>\n",
              "    <tr>\n",
              "      <th>404</th>\n",
              "      <td>39.819</td>\n",
              "      <td>76.24</td>\n",
              "    </tr>\n",
              "    <tr>\n",
              "      <th>405</th>\n",
              "      <td>52.290</td>\n",
              "      <td>69.84</td>\n",
              "    </tr>\n",
              "    <tr>\n",
              "      <th>406</th>\n",
              "      <td>8.897</td>\n",
              "      <td>14.40</td>\n",
              "    </tr>\n",
              "    <tr>\n",
              "      <th>407</th>\n",
              "      <td>13.520</td>\n",
              "      <td>19.42</td>\n",
              "    </tr>\n",
              "    <tr>\n",
              "      <th>408</th>\n",
              "      <td>61.755</td>\n",
              "      <td>20.73</td>\n",
              "    </tr>\n",
              "    <tr>\n",
              "      <th>409</th>\n",
              "      <td>59.564</td>\n",
              "      <td>14.94</td>\n",
              "    </tr>\n",
              "    <tr>\n",
              "      <th>410</th>\n",
              "      <td>10.223</td>\n",
              "      <td>21.29</td>\n",
              "    </tr>\n",
              "    <tr>\n",
              "      <th>411</th>\n",
              "      <td>64.933</td>\n",
              "      <td>23.08</td>\n",
              "    </tr>\n",
              "  </tbody>\n",
              "</table>\n",
              "<p>412 rows × 2 columns</p>\n",
              "</div>"
            ],
            "text/plain": [
              "     y_predicted  y_real\n",
              "0         40.417   79.99\n",
              "1         62.200   61.89\n",
              "2         24.358   40.27\n",
              "3         44.595   41.05\n",
              "4         25.340   44.30\n",
              "5         42.827   47.03\n",
              "6         41.033   43.70\n",
              "7         22.828   36.45\n",
              "8         23.559   45.85\n",
              "9         81.680   39.29\n",
              "10        69.067   38.07\n",
              "11        36.753   28.02\n",
              "12        24.810   43.01\n",
              "13        26.765   42.33\n",
              "14        27.730   47.81\n",
              "15        16.189   52.91\n",
              "16        38.725   39.36\n",
              "17        47.327   56.14\n",
              "18        40.607   40.56\n",
              "19        55.370   42.62\n",
              "20        30.610   41.84\n",
              "21        30.431   28.24\n",
              "22        25.818    8.06\n",
              "23        64.567   44.21\n",
              "24        21.068   52.52\n",
              "25        39.554   53.30\n",
              "26        25.437   41.15\n",
              "27        19.474   52.12\n",
              "28        56.717   37.43\n",
              "29        28.966   38.60\n",
              "..           ...     ...\n",
              "382       52.226   64.02\n",
              "383       42.015   78.80\n",
              "384       41.965   41.37\n",
              "385       19.043   60.28\n",
              "386       34.842   56.83\n",
              "387       35.225   51.02\n",
              "388       33.055   55.55\n",
              "389       28.251   44.13\n",
              "390       14.004   39.38\n",
              "391       35.795   55.65\n",
              "392       47.427   47.28\n",
              "393       35.126   44.33\n",
              "394       58.225   52.30\n",
              "395       39.186   49.25\n",
              "396       17.967   41.37\n",
              "397       33.209   29.16\n",
              "398       16.827   39.40\n",
              "399       10.745   39.30\n",
              "400       66.448   67.87\n",
              "401       36.098   58.52\n",
              "402       21.234   53.58\n",
              "403       14.557   59.00\n",
              "404       39.819   76.24\n",
              "405       52.290   69.84\n",
              "406        8.897   14.40\n",
              "407       13.520   19.42\n",
              "408       61.755   20.73\n",
              "409       59.564   14.94\n",
              "410       10.223   21.29\n",
              "411       64.933   23.08\n",
              "\n",
              "[412 rows x 2 columns]"
            ]
          },
          "metadata": {
            "tags": []
          },
          "execution_count": 108
        }
      ]
    },
    {
      "cell_type": "code",
      "metadata": {
        "id": "QDNFIz6XcZK4",
        "colab_type": "code",
        "colab": {
          "base_uri": "https://localhost:8080/",
          "height": 52
        },
        "outputId": "e7046728-cb05-4e32-88a5-4df9d2841960"
      },
      "source": [
        "# 모델의 mse와 mae \n",
        "# MSE : 실제값과 예측값의 차이의 제곱\n",
        "# 특이값이 존재하면 수치가 크게 증가한다.\n",
        "\n",
        "# MAE : 실제값과 예측값의 차이의 절댓값\n",
        "# 오류 지표를 실제 값과 유사한 단위로 다시 변환하여 해석을 쉽게 한다.\n",
        "# 절대값을 취하기 때문에 가장 직관적으로 알 수 있는 지표이다.\n",
        "# MSE 보다 특이치에 영향을 덜 받는다.\n",
        "# 절대값을 취하기 때문에 모델이 실제보다 높은지 낮은지 알 수 없다.\n",
        "\n",
        "mse = mean_squared_error(df_train_y, y_pred)\n",
        "mae = mean_absolute_error(df_train_y, y_pred)\n",
        "print(\"MSE :\",mse.round(4))\n",
        "print(\"MAE :\",mae.round(4))"
      ],
      "execution_count": 109,
      "outputs": [
        {
          "output_type": "stream",
          "text": [
            "MSE : 4.3792\n",
            "MAE : 1.465\n"
          ],
          "name": "stdout"
        }
      ]
    },
    {
      "cell_type": "code",
      "metadata": {
        "id": "TFpuLhB-ebpE",
        "colab_type": "code",
        "colab": {
          "base_uri": "https://localhost:8080/",
          "height": 152
        },
        "outputId": "84ddf384-87e4-4351-8ca9-6c9889f7cf2d"
      },
      "source": [
        "# 그래디언트 부스팅 개별 그래프 출력(0, 1, 2번)\n",
        "from numpy import loadtxt\n",
        "from xgboost import XGBClassifier\n",
        "from xgboost import plot_tree\n",
        "from xgboost import to_graphviz\n",
        "import matplotlib.pyplot as plt\n",
        "\n",
        "model = XGBClassifier()\n",
        "model.fit(df_train_x, df_train_y)\n",
        "to_graphviz(model, fmap='', num_trees=0, rankdir='LR', yes_color='red', no_color='blue')"
      ],
      "execution_count": 110,
      "outputs": [
        {
          "output_type": "execute_result",
          "data": {
            "text/plain": [
              "<graphviz.dot.Digraph at 0x7efeeaa61588>"
            ],
            "image/svg+xml": "<?xml version=\"1.0\" encoding=\"UTF-8\" standalone=\"no\"?>\n<!DOCTYPE svg PUBLIC \"-//W3C//DTD SVG 1.1//EN\"\n \"http://www.w3.org/Graphics/SVG/1.1/DTD/svg11.dtd\">\n<!-- Generated by graphviz version 2.40.1 (20161225.0304)\n -->\n<!-- Title: %3 Pages: 1 -->\n<svg width=\"615pt\" height=\"98pt\"\n viewBox=\"0.00 0.00 615.46 98.00\" xmlns=\"http://www.w3.org/2000/svg\" xmlns:xlink=\"http://www.w3.org/1999/xlink\">\n<g id=\"graph0\" class=\"graph\" transform=\"scale(1 1) rotate(0) translate(4 94)\">\n<title>%3</title>\n<polygon fill=\"#ffffff\" stroke=\"transparent\" points=\"-4,4 -4,-94 611.4556,-94 611.4556,4 -4,4\"/>\n<!-- 0 -->\n<g id=\"node1\" class=\"node\">\n<title>0</title>\n<ellipse fill=\"none\" stroke=\"#000000\" cx=\"161.8356\" cy=\"-45\" rx=\"161.6714\" ry=\"18\"/>\n<text text-anchor=\"middle\" x=\"161.8356\" y=\"-41.3\" font-family=\"Times,serif\" font-size=\"14.00\" fill=\"#000000\">COARSE_AGGREGATE&lt;965.200012</text>\n</g>\n<!-- 1 -->\n<g id=\"node2\" class=\"node\">\n<title>1</title>\n<ellipse fill=\"none\" stroke=\"#000000\" cx=\"519.0634\" cy=\"-72\" rx=\"85.2851\" ry=\"18\"/>\n<text text-anchor=\"middle\" x=\"519.0634\" y=\"-68.3\" font-family=\"Times,serif\" font-size=\"14.00\" fill=\"#000000\">leaf=0.0247357097</text>\n</g>\n<!-- 0&#45;&gt;1 -->\n<g id=\"edge1\" class=\"edge\">\n<title>0&#45;&gt;1</title>\n<path fill=\"none\" stroke=\"#ff0000\" d=\"M295.8704,-55.1306C340.2206,-58.4827 388.4882,-62.1309 428.7551,-65.1743\"/>\n<polygon fill=\"#ff0000\" stroke=\"#ff0000\" points=\"428.5775,-68.6708 438.8128,-65.9345 429.1051,-61.6907 428.5775,-68.6708\"/>\n<text text-anchor=\"middle\" x=\"377.1713\" y=\"-66.8\" font-family=\"Times,serif\" font-size=\"14.00\" fill=\"#000000\">yes, missing</text>\n</g>\n<!-- 2 -->\n<g id=\"node3\" class=\"node\">\n<title>2</title>\n<ellipse fill=\"none\" stroke=\"#000000\" cx=\"519.0634\" cy=\"-18\" rx=\"88.2844\" ry=\"18\"/>\n<text text-anchor=\"middle\" x=\"519.0634\" y=\"-14.3\" font-family=\"Times,serif\" font-size=\"14.00\" fill=\"#000000\">leaf=&#45;0.0270790402</text>\n</g>\n<!-- 0&#45;&gt;2 -->\n<g id=\"edge2\" class=\"edge\">\n<title>0&#45;&gt;2</title>\n<path fill=\"none\" stroke=\"#0000ff\" d=\"M295.8704,-34.8694C339.125,-31.6001 386.1058,-28.0492 425.7563,-25.0523\"/>\n<polygon fill=\"#0000ff\" stroke=\"#0000ff\" points=\"426.2293,-28.5267 435.937,-24.2829 425.7016,-21.5466 426.2293,-28.5267\"/>\n<text text-anchor=\"middle\" x=\"377.1713\" y=\"-33.8\" font-family=\"Times,serif\" font-size=\"14.00\" fill=\"#000000\">no</text>\n</g>\n</g>\n</svg>\n"
          },
          "metadata": {
            "tags": []
          },
          "execution_count": 110
        }
      ]
    },
    {
      "cell_type": "code",
      "metadata": {
        "id": "FtdQg7LChnQ5",
        "colab_type": "code",
        "colab": {
          "base_uri": "https://localhost:8080/",
          "height": 152
        },
        "outputId": "251762b4-2fc2-45f0-b545-eeed6eff8bd9"
      },
      "source": [
        "to_graphviz(model, fmap='', num_trees=1, rankdir='LR', yes_color='red', no_color='blue')"
      ],
      "execution_count": 111,
      "outputs": [
        {
          "output_type": "execute_result",
          "data": {
            "text/plain": [
              "<graphviz.dot.Digraph at 0x7efeea7f5ef0>"
            ],
            "image/svg+xml": "<?xml version=\"1.0\" encoding=\"UTF-8\" standalone=\"no\"?>\n<!DOCTYPE svg PUBLIC \"-//W3C//DTD SVG 1.1//EN\"\n \"http://www.w3.org/Graphics/SVG/1.1/DTD/svg11.dtd\">\n<!-- Generated by graphviz version 2.40.1 (20161225.0304)\n -->\n<!-- Title: %3 Pages: 1 -->\n<svg width=\"495pt\" height=\"98pt\"\n viewBox=\"0.00 0.00 494.57 98.00\" xmlns=\"http://www.w3.org/2000/svg\" xmlns:xlink=\"http://www.w3.org/1999/xlink\">\n<g id=\"graph0\" class=\"graph\" transform=\"scale(1 1) rotate(0) translate(4 94)\">\n<title>%3</title>\n<polygon fill=\"#ffffff\" stroke=\"transparent\" points=\"-4,4 -4,-94 490.5663,-94 490.5663,4 -4,4\"/>\n<!-- 0 -->\n<g id=\"node1\" class=\"node\">\n<title>0</title>\n<ellipse fill=\"none\" stroke=\"#000000\" cx=\"101.391\" cy=\"-45\" rx=\"101.2821\" ry=\"18\"/>\n<text text-anchor=\"middle\" x=\"101.391\" y=\"-41.3\" font-family=\"Times,serif\" font-size=\"14.00\" fill=\"#000000\">CEMENT&lt;280.399994</text>\n</g>\n<!-- 1 -->\n<g id=\"node2\" class=\"node\">\n<title>1</title>\n<ellipse fill=\"none\" stroke=\"#000000\" cx=\"398.1742\" cy=\"-72\" rx=\"88.2844\" ry=\"18\"/>\n<text text-anchor=\"middle\" x=\"398.1742\" y=\"-68.3\" font-family=\"Times,serif\" font-size=\"14.00\" fill=\"#000000\">leaf=&#45;0.0270790402</text>\n</g>\n<!-- 0&#45;&gt;1 -->\n<g id=\"edge1\" class=\"edge\">\n<title>0&#45;&gt;1</title>\n<path fill=\"none\" stroke=\"#ff0000\" d=\"M191.6445,-53.2109C228.2768,-56.5435 270.5238,-60.3869 307.2265,-63.726\"/>\n<polygon fill=\"#ff0000\" stroke=\"#ff0000\" points=\"307.1462,-67.2331 317.4222,-64.6535 307.7805,-60.2618 307.1462,-67.2331\"/>\n<text text-anchor=\"middle\" x=\"256.282\" y=\"-64.8\" font-family=\"Times,serif\" font-size=\"14.00\" fill=\"#000000\">yes, missing</text>\n</g>\n<!-- 2 -->\n<g id=\"node3\" class=\"node\">\n<title>2</title>\n<ellipse fill=\"none\" stroke=\"#000000\" cx=\"398.1742\" cy=\"-18\" rx=\"85.2851\" ry=\"18\"/>\n<text text-anchor=\"middle\" x=\"398.1742\" y=\"-14.3\" font-family=\"Times,serif\" font-size=\"14.00\" fill=\"#000000\">leaf=0.0247357097</text>\n</g>\n<!-- 0&#45;&gt;2 -->\n<g id=\"edge2\" class=\"edge\">\n<title>0&#45;&gt;2</title>\n<path fill=\"none\" stroke=\"#0000ff\" d=\"M191.6445,-36.7891C229.0562,-33.3856 272.3241,-29.4493 309.5615,-26.0616\"/>\n<polygon fill=\"#0000ff\" stroke=\"#0000ff\" points=\"310.2529,-29.5132 319.8946,-25.1215 309.6186,-22.542 310.2529,-29.5132\"/>\n<text text-anchor=\"middle\" x=\"256.282\" y=\"-36.8\" font-family=\"Times,serif\" font-size=\"14.00\" fill=\"#000000\">no</text>\n</g>\n</g>\n</svg>\n"
          },
          "metadata": {
            "tags": []
          },
          "execution_count": 111
        }
      ]
    },
    {
      "cell_type": "code",
      "metadata": {
        "id": "6qYxVOKWirdn",
        "colab_type": "code",
        "colab": {
          "base_uri": "https://localhost:8080/",
          "height": 152
        },
        "outputId": "b1d95e7b-30a5-4314-9f4e-827a50f4cda6"
      },
      "source": [
        "to_graphviz(model, fmap='', num_trees=10, rankdir='LR', yes_color='red', no_color='blue')"
      ],
      "execution_count": 112,
      "outputs": [
        {
          "output_type": "execute_result",
          "data": {
            "text/plain": [
              "<graphviz.dot.Digraph at 0x7efeeaafec18>"
            ],
            "image/svg+xml": "<?xml version=\"1.0\" encoding=\"UTF-8\" standalone=\"no\"?>\n<!DOCTYPE svg PUBLIC \"-//W3C//DTD SVG 1.1//EN\"\n \"http://www.w3.org/Graphics/SVG/1.1/DTD/svg11.dtd\">\n<!-- Generated by graphviz version 2.40.1 (20161225.0304)\n -->\n<!-- Title: %3 Pages: 1 -->\n<svg width=\"480pt\" height=\"98pt\"\n viewBox=\"0.00 0.00 480.27 98.00\" xmlns=\"http://www.w3.org/2000/svg\" xmlns:xlink=\"http://www.w3.org/1999/xlink\">\n<g id=\"graph0\" class=\"graph\" transform=\"scale(1 1) rotate(0) translate(4 94)\">\n<title>%3</title>\n<polygon fill=\"#ffffff\" stroke=\"transparent\" points=\"-4,4 -4,-94 476.2676,-94 476.2676,4 -4,4\"/>\n<!-- 0 -->\n<g id=\"node1\" class=\"node\">\n<title>0</title>\n<ellipse fill=\"none\" stroke=\"#000000\" cx=\"94.2416\" cy=\"-45\" rx=\"94.4839\" ry=\"18\"/>\n<text text-anchor=\"middle\" x=\"94.2416\" y=\"-41.3\" font-family=\"Times,serif\" font-size=\"14.00\" fill=\"#000000\">WATER&lt;181.050003</text>\n</g>\n<!-- 1 -->\n<g id=\"node2\" class=\"node\">\n<title>1</title>\n<ellipse fill=\"none\" stroke=\"#000000\" cx=\"383.8754\" cy=\"-72\" rx=\"85.2851\" ry=\"18\"/>\n<text text-anchor=\"middle\" x=\"383.8754\" y=\"-68.3\" font-family=\"Times,serif\" font-size=\"14.00\" fill=\"#000000\">leaf=0.0247357097</text>\n</g>\n<!-- 0&#45;&gt;1 -->\n<g id=\"edge1\" class=\"edge\">\n<title>0&#45;&gt;1</title>\n<path fill=\"none\" stroke=\"#ff0000\" d=\"M179.1843,-52.9185C215.8022,-56.332 258.619,-60.3234 295.6001,-63.7709\"/>\n<polygon fill=\"#ff0000\" stroke=\"#ff0000\" points=\"295.5842,-67.2845 305.866,-64.7279 296.234,-60.3147 295.5842,-67.2845\"/>\n<text text-anchor=\"middle\" x=\"241.9833\" y=\"-64.8\" font-family=\"Times,serif\" font-size=\"14.00\" fill=\"#000000\">yes, missing</text>\n</g>\n<!-- 2 -->\n<g id=\"node3\" class=\"node\">\n<title>2</title>\n<ellipse fill=\"none\" stroke=\"#000000\" cx=\"383.8754\" cy=\"-18\" rx=\"88.2844\" ry=\"18\"/>\n<text text-anchor=\"middle\" x=\"383.8754\" y=\"-14.3\" font-family=\"Times,serif\" font-size=\"14.00\" fill=\"#000000\">leaf=&#45;0.0270790402</text>\n</g>\n<!-- 0&#45;&gt;2 -->\n<g id=\"edge2\" class=\"edge\">\n<title>0&#45;&gt;2</title>\n<path fill=\"none\" stroke=\"#0000ff\" d=\"M179.1843,-37.0815C215.0393,-33.7391 256.8376,-29.8426 293.2813,-26.4453\"/>\n<polygon fill=\"#0000ff\" stroke=\"#0000ff\" points=\"293.777,-29.9143 303.4089,-25.5012 293.1272,-22.9446 293.777,-29.9143\"/>\n<text text-anchor=\"middle\" x=\"241.9833\" y=\"-36.8\" font-family=\"Times,serif\" font-size=\"14.00\" fill=\"#000000\">no</text>\n</g>\n</g>\n</svg>\n"
          },
          "metadata": {
            "tags": []
          },
          "execution_count": 112
        }
      ]
    },
    {
      "cell_type": "markdown",
      "metadata": {
        "id": "Ho-6nasMnWCK",
        "colab_type": "text"
      },
      "source": [
        "# 그래디언트 부스팅 모델 시각화 및 해석#\n",
        "\n",
        "1.  트리에 영향이 큰 변수는 AGE, CEMENT, SUPERPLASTICIZER 등이다.\n",
        "\n",
        "2. 첫 번째 트리에서 COARSE_AGGREGATE = 965.200012 값을 기준으로 True와 False로 나뉜다.\n",
        "\n",
        "    두 번째 트리에서 CEMENT = 280.399994 값을 기준으로 True와 False로 나뉜다.\n",
        "\n",
        "    열 번째 트리에서 WATER = 181.050003 값을 기준으로 True와 False로 나뉜다.\n",
        "\n",
        "\n",
        "3. 그 이후에도 분리 조건을 만족하면 좌측, 만족하지 않으면 우측으로 내려가서 최종 리프를 찾는다.\n",
        "\n",
        "\n",
        "4. 위의 그래디언트 부스팅 모델 도출 결과 학습 데이터로는 96.2%, validation 데이터로 parameter들을 조정한 결과 87.4%의 정확도를 보였다.\n",
        "\n",
        "\n",
        "5. 또한 최종 test 데이터를 적용해봤을 때에 정확도는 88.1%로 다소 증가하였다.\n",
        "  \n",
        "  \n",
        "#  의사결정트리, 랜덤 포레스트 모델과 비교\n",
        "    1. 의사결정트리, 랜덤 포레스트 모델과 비교해 봤을 때 가장 비교적 높은 정확도를 가지고 있다.\n",
        "2. 또한 두 모델과 비교했을 떄 MSE와 MAE 값이 현저히 낮다.\n",
        "    MSE와 MAE는 실제값과 예측값과의 차로, 모델의 정확도를 측정할 수 있는 지표이다.\n",
        "같은 데이터에 적용한 모델들의 각 값들은 크게 차이나며, 그래디언트 부스팅 모델이 상대적으로 그 값이 훨씬 작다.\n",
        "따라서 그래디언트 부스팅 모델의 정확성이 두 모델보다 높다고 할 수 있다.\n",
        "#\n",
        "\n",
        "3. 그러나, 역시 건축물의 재료로 쓰이는 콘크리트의 강도를 측정할 때 쓰기에는 안전에 관련되어 있으므로 84.1%의 값도 신뢰성이 아주 높다고 할 수는 없다.\n",
        "#\n",
        "4. 따라서 다른 변수 값을 넣어 분석해서 신뢰성이 더 높은 모델을 도출하는 것이 좋다고 판단된다.\n",
        "# \n",
        "    Score on training set: 0.962\n",
        "    Score on validation set: 0.874\n",
        "    Score on test set: 0.881\n",
        "\n",
        "# **각 모델 별 MSE와 MAE 비교**\n",
        "\n",
        "1. 랜덤 포레스트\n",
        "    MSE : 25.8659\n",
        "    MAE : 3.9118\n",
        "\n",
        "\n",
        "2. 의사결정트리\n",
        "    MSE : 50.1936\n",
        "    MAE : 5.3067\n",
        "\n",
        "\n",
        "3. 그래디언트 부스팅\n",
        "    MSE : 4.3792\n",
        "    MAE : 1.465"
      ]
    }
  ]
}