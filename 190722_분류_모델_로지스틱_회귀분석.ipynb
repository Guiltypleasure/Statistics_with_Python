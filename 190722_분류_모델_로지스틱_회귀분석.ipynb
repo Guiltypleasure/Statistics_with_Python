{
  "nbformat": 4,
  "nbformat_minor": 0,
  "metadata": {
    "colab": {
      "name": "190722 분류 모델 - 로지스틱 회귀분석",
      "version": "0.3.2",
      "provenance": [],
      "collapsed_sections": [],
      "include_colab_link": true
    },
    "kernelspec": {
      "name": "python3",
      "display_name": "Python 3"
    }
  },
  "cells": [
    {
      "cell_type": "markdown",
      "metadata": {
        "id": "view-in-github",
        "colab_type": "text"
      },
      "source": [
        "<a href=\"https://colab.research.google.com/github/SJKIM2253/Statistics_with_Python/blob/master/190722_%EB%B6%84%EB%A5%98_%EB%AA%A8%EB%8D%B8_%EB%A1%9C%EC%A7%80%EC%8A%A4%ED%8B%B1_%ED%9A%8C%EA%B7%80%EB%B6%84%EC%84%9D.ipynb\" target=\"_parent\"><img src=\"https://colab.research.google.com/assets/colab-badge.svg\" alt=\"Open In Colab\"/></a>"
      ]
    },
    {
      "cell_type": "markdown",
      "metadata": {
        "id": "6v33o36sRz8h",
        "colab_type": "text"
      },
      "source": [
        "p. 339"
      ]
    },
    {
      "cell_type": "code",
      "metadata": {
        "id": "pOkY96O3BIE1",
        "colab_type": "code",
        "colab": {}
      },
      "source": [
        "import pandas as pd\n",
        "import numpy as np\n",
        "import matplotlib.pyplot as plt\n",
        "import matplotlib as mp\n",
        "\n",
        "from sklearn.preprocessing import StandardScaler\n",
        "from sklearn.model_selection import train_test_split\n",
        "# 로지스틱 회귀\n",
        "from statsmodels.api import Logit\n",
        "# 평가 함수\n",
        "from sklearn.metrics import accuracy_score\n",
        "from sklearn.metrics import confusion_matrix"
      ],
      "execution_count": 0,
      "outputs": []
    },
    {
      "cell_type": "code",
      "metadata": {
        "id": "DIGGWOOgBj1s",
        "colab_type": "code",
        "colab": {
          "base_uri": "https://localhost:8080/",
          "height": 34
        },
        "outputId": "40448f2e-2ccf-4050-ade4-60189439916d"
      },
      "source": [
        "from google.colab import drive\n",
        "drive.mount('/content/drive')"
      ],
      "execution_count": 34,
      "outputs": [
        {
          "output_type": "stream",
          "text": [
            "Drive already mounted at /content/drive; to attempt to forcibly remount, call drive.mount(\"/content/drive\", force_remount=True).\n"
          ],
          "name": "stdout"
        }
      ]
    },
    {
      "cell_type": "code",
      "metadata": {
        "id": "_xRM5bpRBkiV",
        "colab_type": "code",
        "colab": {
          "base_uri": "https://localhost:8080/",
          "height": 195
        },
        "outputId": "cdd23089-d930-44ca-96a1-39a0d90dd88c"
      },
      "source": [
        "df_raw = pd.read_csv('/content/drive/My Drive/BigDataAnalysis/HMEQ.csv')\n",
        "df_raw.head()"
      ],
      "execution_count": 35,
      "outputs": [
        {
          "output_type": "execute_result",
          "data": {
            "text/html": [
              "<div>\n",
              "<style scoped>\n",
              "    .dataframe tbody tr th:only-of-type {\n",
              "        vertical-align: middle;\n",
              "    }\n",
              "\n",
              "    .dataframe tbody tr th {\n",
              "        vertical-align: top;\n",
              "    }\n",
              "\n",
              "    .dataframe thead th {\n",
              "        text-align: right;\n",
              "    }\n",
              "</style>\n",
              "<table border=\"1\" class=\"dataframe\">\n",
              "  <thead>\n",
              "    <tr style=\"text-align: right;\">\n",
              "      <th></th>\n",
              "      <th>BAD</th>\n",
              "      <th>LOAN</th>\n",
              "      <th>MORTDUE</th>\n",
              "      <th>VALUE</th>\n",
              "      <th>REASON</th>\n",
              "      <th>JOB</th>\n",
              "      <th>YOJ</th>\n",
              "      <th>DEROG</th>\n",
              "      <th>DELINQ</th>\n",
              "      <th>CLAGE</th>\n",
              "      <th>NINQ</th>\n",
              "      <th>CLNO</th>\n",
              "      <th>DEBTINC</th>\n",
              "    </tr>\n",
              "  </thead>\n",
              "  <tbody>\n",
              "    <tr>\n",
              "      <th>0</th>\n",
              "      <td>1</td>\n",
              "      <td>1700</td>\n",
              "      <td>30548</td>\n",
              "      <td>40320.0</td>\n",
              "      <td>HomeImp</td>\n",
              "      <td>Other</td>\n",
              "      <td>9.0</td>\n",
              "      <td>0</td>\n",
              "      <td>0.0</td>\n",
              "      <td>101.466002</td>\n",
              "      <td>1.0</td>\n",
              "      <td>8</td>\n",
              "      <td>37.113614</td>\n",
              "    </tr>\n",
              "    <tr>\n",
              "      <th>1</th>\n",
              "      <td>1</td>\n",
              "      <td>1800</td>\n",
              "      <td>28502</td>\n",
              "      <td>43034.0</td>\n",
              "      <td>HomeImp</td>\n",
              "      <td>Other</td>\n",
              "      <td>11.0</td>\n",
              "      <td>0</td>\n",
              "      <td>0.0</td>\n",
              "      <td>88.766030</td>\n",
              "      <td>0.0</td>\n",
              "      <td>8</td>\n",
              "      <td>36.884894</td>\n",
              "    </tr>\n",
              "    <tr>\n",
              "      <th>2</th>\n",
              "      <td>0</td>\n",
              "      <td>2300</td>\n",
              "      <td>102370</td>\n",
              "      <td>120953.0</td>\n",
              "      <td>HomeImp</td>\n",
              "      <td>Office</td>\n",
              "      <td>2.0</td>\n",
              "      <td>0</td>\n",
              "      <td>0.0</td>\n",
              "      <td>90.992533</td>\n",
              "      <td>0.0</td>\n",
              "      <td>13</td>\n",
              "      <td>31.588503</td>\n",
              "    </tr>\n",
              "    <tr>\n",
              "      <th>3</th>\n",
              "      <td>1</td>\n",
              "      <td>2400</td>\n",
              "      <td>34863</td>\n",
              "      <td>47471.0</td>\n",
              "      <td>HomeImp</td>\n",
              "      <td>Mgr</td>\n",
              "      <td>12.0</td>\n",
              "      <td>0</td>\n",
              "      <td>0.0</td>\n",
              "      <td>70.491080</td>\n",
              "      <td>1.0</td>\n",
              "      <td>21</td>\n",
              "      <td>38.263601</td>\n",
              "    </tr>\n",
              "    <tr>\n",
              "      <th>4</th>\n",
              "      <td>0</td>\n",
              "      <td>2400</td>\n",
              "      <td>98449</td>\n",
              "      <td>117195.0</td>\n",
              "      <td>HomeImp</td>\n",
              "      <td>Office</td>\n",
              "      <td>4.0</td>\n",
              "      <td>0</td>\n",
              "      <td>0.0</td>\n",
              "      <td>93.811775</td>\n",
              "      <td>0.0</td>\n",
              "      <td>13</td>\n",
              "      <td>29.681827</td>\n",
              "    </tr>\n",
              "  </tbody>\n",
              "</table>\n",
              "</div>"
            ],
            "text/plain": [
              "   BAD  LOAN  MORTDUE     VALUE  ...       CLAGE NINQ  CLNO    DEBTINC\n",
              "0    1  1700    30548   40320.0  ...  101.466002  1.0     8  37.113614\n",
              "1    1  1800    28502   43034.0  ...   88.766030  0.0     8  36.884894\n",
              "2    0  2300   102370  120953.0  ...   90.992533  0.0    13  31.588503\n",
              "3    1  2400    34863   47471.0  ...   70.491080  1.0    21  38.263601\n",
              "4    0  2400    98449  117195.0  ...   93.811775  0.0    13  29.681827\n",
              "\n",
              "[5 rows x 13 columns]"
            ]
          },
          "metadata": {
            "tags": []
          },
          "execution_count": 35
        }
      ]
    },
    {
      "cell_type": "code",
      "metadata": {
        "id": "tgnMP68RT0GV",
        "colab_type": "code",
        "colab": {
          "base_uri": "https://localhost:8080/",
          "height": 263
        },
        "outputId": "f082aaa4-9cc4-4377-b4e3-b7c69919402e"
      },
      "source": [
        "# 결측치 확인\n",
        "df_raw.isnull().sum(axis = 0)"
      ],
      "execution_count": 36,
      "outputs": [
        {
          "output_type": "execute_result",
          "data": {
            "text/plain": [
              "BAD          0\n",
              "LOAN         0\n",
              "MORTDUE      0\n",
              "VALUE       14\n",
              "REASON       0\n",
              "JOB         81\n",
              "YOJ        205\n",
              "DEROG        0\n",
              "DELINQ      30\n",
              "CLAGE       37\n",
              "NINQ        56\n",
              "CLNO         0\n",
              "DEBTINC      0\n",
              "dtype: int64"
            ]
          },
          "metadata": {
            "tags": []
          },
          "execution_count": 36
        }
      ]
    },
    {
      "cell_type": "code",
      "metadata": {
        "id": "kE0BcmapS2xD",
        "colab_type": "code",
        "colab": {
          "base_uri": "https://localhost:8080/",
          "height": 52
        },
        "outputId": "1639a100-5c07-4f5c-a45a-7b6522a56cfa"
      },
      "source": [
        "# fillna : 결측치 대체 함수\n",
        "# JOB 변수의 결측치는 'Other'로 대체, inplace: fillna 함수 적용 후 df_raw 데이터에 저장, False면 저장 안 함\n",
        "df_raw['JOB'].fillna(\"Other\", inplace = True)\n",
        "# 숫자형 변수의 결측치는 해당 변수의 평균값 입력 : df_raw.mean() 각 변수별 평균 계산 후 결측치 대체\n",
        "df_raw.fillna(df_raw.mean(), inplace = True)\n",
        "\n",
        "# train/data data를 7:3 으로 분할\n",
        "df_train, df_test = train_test_split(df_raw, test_size = 0.3, random_state=1234)\n",
        "\n",
        "print(\"train data size = {}\".format(df_train.shape))\n",
        "print(\"test data size = {}\".format(df_test.shape))"
      ],
      "execution_count": 37,
      "outputs": [
        {
          "output_type": "stream",
          "text": [
            "train data size = (2623, 13)\n",
            "test data size = (1125, 13)\n"
          ],
          "name": "stdout"
        }
      ]
    },
    {
      "cell_type": "code",
      "metadata": {
        "id": "4r4xtkFgTdGV",
        "colab_type": "code",
        "colab": {
          "base_uri": "https://localhost:8080/",
          "height": 598
        },
        "outputId": "b27b1aa9-6dd7-4c87-9e12-4791d31d8ad0"
      },
      "source": [
        "# from_formula 함수를 이용하여 변수 역할 지정\n",
        "\n",
        "#C()는 더미변수환\n",
        "log_model = Logit.from_formula(\"\"\"BAD\t~LOAN+\tMORTDUE+\tVALUE+\tC(REASON)+\tC(JOB)+\tYOJ+\tDEROG+\tDELINQ+\tCLAGE+\tNINQ+\tCLNO+\tDEBTINC\"\"\", df_train)\n",
        "log_result = log_model.fit()\n",
        "print(log_result.summary())"
      ],
      "execution_count": 38,
      "outputs": [
        {
          "output_type": "stream",
          "text": [
            "Optimization terminated successfully.\n",
            "         Current function value: 0.237614\n",
            "         Iterations 8\n",
            "                           Logit Regression Results                           \n",
            "==============================================================================\n",
            "Dep. Variable:                    BAD   No. Observations:                 2623\n",
            "Model:                          Logit   Df Residuals:                     2606\n",
            "Method:                           MLE   Df Model:                           16\n",
            "Date:                Mon, 22 Jul 2019   Pseudo R-squ.:                  0.2257\n",
            "Time:                        05:35:29   Log-Likelihood:                -623.26\n",
            "converged:                       True   LL-Null:                       -804.91\n",
            "Covariance Type:            nonrobust   LLR p-value:                 1.743e-67\n",
            "========================================================================================\n",
            "                           coef    std err          z      P>|z|      [0.025      0.975]\n",
            "----------------------------------------------------------------------------------------\n",
            "Intercept               -5.0942      0.560     -9.100      0.000      -6.191      -3.997\n",
            "C(REASON)[T.HomeImp]    -0.0080      0.176     -0.045      0.964      -0.354       0.338\n",
            "C(JOB)[T.Office]        -0.8256      0.294     -2.807      0.005      -1.402      -0.249\n",
            "C(JOB)[T.Other]         -0.3304      0.227     -1.454      0.146      -0.776       0.115\n",
            "C(JOB)[T.ProfExe]       -0.4247      0.271     -1.566      0.117      -0.956       0.107\n",
            "C(JOB)[T.Sales]          1.1323      0.476      2.381      0.017       0.200       2.064\n",
            "C(JOB)[T.Self]          -0.0454      0.432     -0.105      0.916      -0.892       0.801\n",
            "LOAN                 -1.223e-05   8.08e-06     -1.514      0.130   -2.81e-05     3.6e-06\n",
            "MORTDUE               -2.14e-06   3.57e-06     -0.599      0.549   -9.15e-06    4.87e-06\n",
            "VALUE                 3.061e-06   3.04e-06      1.008      0.313   -2.89e-06    9.01e-06\n",
            "YOJ                     -0.0053      0.012     -0.461      0.645      -0.028       0.017\n",
            "DEROG                    0.6221      0.103      6.043      0.000       0.420       0.824\n",
            "DELINQ                   0.7456      0.077      9.648      0.000       0.594       0.897\n",
            "CLAGE                   -0.0050      0.001     -4.320      0.000      -0.007      -0.003\n",
            "NINQ                     0.0939      0.044      2.131      0.033       0.008       0.180\n",
            "CLNO                    -0.0230      0.009     -2.587      0.010      -0.040      -0.006\n",
            "DEBTINC                  0.1097      0.012      8.829      0.000       0.085       0.134\n",
            "========================================================================================\n"
          ],
          "name": "stdout"
        }
      ]
    },
    {
      "cell_type": "code",
      "metadata": {
        "id": "Azj9nXtNUO9Q",
        "colab_type": "code",
        "colab": {
          "base_uri": "https://localhost:8080/",
          "height": 122
        },
        "outputId": "0718fa37-c1aa-472d-c5b3-5d99523bbe28"
      },
      "source": [
        "# test 데이터 예측\n",
        "y_pred = log_result.predict(df_test)\n",
        "# 0과 1의 값을 가진 class로 변환\n",
        "y_pred_class = (y_pred > 0.5).astype(int)\n",
        "y_pred_class.head()"
      ],
      "execution_count": 39,
      "outputs": [
        {
          "output_type": "execute_result",
          "data": {
            "text/plain": [
              "1721    0\n",
              "822     0\n",
              "1686    0\n",
              "789     0\n",
              "165     0\n",
              "dtype: int64"
            ]
          },
          "metadata": {
            "tags": []
          },
          "execution_count": 39
        }
      ]
    },
    {
      "cell_type": "code",
      "metadata": {
        "id": "mNLjkuUJUfzL",
        "colab_type": "code",
        "colab": {
          "base_uri": "https://localhost:8080/",
          "height": 105
        },
        "outputId": "9eedd8f5-f719-474f-cbc6-b708784ea19b"
      },
      "source": [
        "# 실제 test 데이터의 목표변수와 test 데이터의 예측값 비교\n",
        "print(\"Accuracy: {0:.3f}\\n\".format(accuracy_score(df_test[\"BAD\"],y_pred_class)))\n",
        "print(\"Confusion Matrix:\\n{}\".format(confusion_matrix(df_test[\"BAD\"],y_pred_class)))"
      ],
      "execution_count": 40,
      "outputs": [
        {
          "output_type": "stream",
          "text": [
            "Accuracy: 0.924\n",
            "\n",
            "Confusion Matrix:\n",
            "[[1017    4]\n",
            " [  81   23]]\n"
          ],
          "name": "stdout"
        }
      ]
    },
    {
      "cell_type": "code",
      "metadata": {
        "id": "iQjKmY3EZHWd",
        "colab_type": "code",
        "colab": {
          "base_uri": "https://localhost:8080/",
          "height": 286
        },
        "outputId": "1a17bdaa-c411-4be2-f442-d6830b1f3468"
      },
      "source": [
        "df_logistic_coef = pd.DataFrame({\"Coef\": log_result.params.values[1:]}, index = log_model.exog_names[1:])\n",
        "df_logistic_coef.plot.barh( y = \"Coef\")"
      ],
      "execution_count": 41,
      "outputs": [
        {
          "output_type": "execute_result",
          "data": {
            "text/plain": [
              "<matplotlib.axes._subplots.AxesSubplot at 0x7fb20e0294e0>"
            ]
          },
          "metadata": {
            "tags": []
          },
          "execution_count": 41
        },
        {
          "output_type": "display_data",
          "data": {
            "image/png": "[encoded data removed]",
            "text/plain": [
              "<Figure size 432x288 with 1 Axes>"
            ]
          },
          "metadata": {
            "tags": []
          }
        }
      ]
    },
    {
      "cell_type": "code",
      "metadata": {
        "id": "WzUYQE15eGLr",
        "colab_type": "code",
        "colab": {
          "base_uri": "https://localhost:8080/",
          "height": 195
        },
        "outputId": "e87223bf-09f8-4bdd-ad66-8f6487865617"
      },
      "source": [
        "# p.348\n",
        "df_char = df_raw.select_dtypes(include = \"object\")\n",
        "df_numeric = df_raw.select_dtypes(exclude = 'object')\n",
        "\n",
        "scaler = StandardScaler()\n",
        "np_numeric_scaled = scaler.fit_transform(df_numeric)\n",
        "df_numeric_scaled = pd.DataFrame(np_numeric_scaled, columns = df_numeric.columns)\n",
        "\n",
        "df_scaled = pd.concat([df_numeric_scaled, df_char], axis = 1)\n",
        "df_scaled.head()"
      ],
      "execution_count": 42,
      "outputs": [
        {
          "output_type": "execute_result",
          "data": {
            "text/html": [
              "<div>\n",
              "<style scoped>\n",
              "    .dataframe tbody tr th:only-of-type {\n",
              "        vertical-align: middle;\n",
              "    }\n",
              "\n",
              "    .dataframe tbody tr th {\n",
              "        vertical-align: top;\n",
              "    }\n",
              "\n",
              "    .dataframe thead th {\n",
              "        text-align: right;\n",
              "    }\n",
              "</style>\n",
              "<table border=\"1\" class=\"dataframe\">\n",
              "  <thead>\n",
              "    <tr style=\"text-align: right;\">\n",
              "      <th></th>\n",
              "      <th>BAD</th>\n",
              "      <th>LOAN</th>\n",
              "      <th>MORTDUE</th>\n",
              "      <th>VALUE</th>\n",
              "      <th>YOJ</th>\n",
              "      <th>DEROG</th>\n",
              "      <th>DELINQ</th>\n",
              "      <th>CLAGE</th>\n",
              "      <th>NINQ</th>\n",
              "      <th>CLNO</th>\n",
              "      <th>DEBTINC</th>\n",
              "      <th>REASON</th>\n",
              "      <th>JOB</th>\n",
              "    </tr>\n",
              "  </thead>\n",
              "  <tbody>\n",
              "    <tr>\n",
              "      <th>0</th>\n",
              "      <td>3.140664</td>\n",
              "      <td>-1.559587</td>\n",
              "      <td>-0.993626</td>\n",
              "      <td>-1.224910</td>\n",
              "      <td>-0.017563</td>\n",
              "      <td>-0.267462</td>\n",
              "      <td>-0.342558</td>\n",
              "      <td>-0.967342</td>\n",
              "      <td>-0.018776</td>\n",
              "      <td>-1.428350</td>\n",
              "      <td>0.356347</td>\n",
              "      <td>HomeImp</td>\n",
              "      <td>Other</td>\n",
              "    </tr>\n",
              "    <tr>\n",
              "      <th>1</th>\n",
              "      <td>3.140664</td>\n",
              "      <td>-1.550817</td>\n",
              "      <td>-1.039240</td>\n",
              "      <td>-1.174897</td>\n",
              "      <td>0.251809</td>\n",
              "      <td>-0.267462</td>\n",
              "      <td>-0.342558</td>\n",
              "      <td>-1.122053</td>\n",
              "      <td>-0.666629</td>\n",
              "      <td>-1.428350</td>\n",
              "      <td>0.329025</td>\n",
              "      <td>HomeImp</td>\n",
              "      <td>Other</td>\n",
              "    </tr>\n",
              "    <tr>\n",
              "      <th>2</th>\n",
              "      <td>-0.318404</td>\n",
              "      <td>-1.506968</td>\n",
              "      <td>0.607570</td>\n",
              "      <td>0.260973</td>\n",
              "      <td>-0.960364</td>\n",
              "      <td>-0.267462</td>\n",
              "      <td>-0.342558</td>\n",
              "      <td>-1.094930</td>\n",
              "      <td>-0.666629</td>\n",
              "      <td>-0.905133</td>\n",
              "      <td>-0.303684</td>\n",
              "      <td>HomeImp</td>\n",
              "      <td>Office</td>\n",
              "    </tr>\n",
              "    <tr>\n",
              "      <th>3</th>\n",
              "      <td>3.140664</td>\n",
              "      <td>-1.498198</td>\n",
              "      <td>-0.897428</td>\n",
              "      <td>-1.093133</td>\n",
              "      <td>0.386495</td>\n",
              "      <td>-0.267462</td>\n",
              "      <td>-0.342558</td>\n",
              "      <td>-1.344679</td>\n",
              "      <td>-0.018776</td>\n",
              "      <td>-0.067985</td>\n",
              "      <td>0.493725</td>\n",
              "      <td>HomeImp</td>\n",
              "      <td>Mgr</td>\n",
              "    </tr>\n",
              "    <tr>\n",
              "      <th>4</th>\n",
              "      <td>-0.318404</td>\n",
              "      <td>-1.498198</td>\n",
              "      <td>0.520156</td>\n",
              "      <td>0.191721</td>\n",
              "      <td>-0.690992</td>\n",
              "      <td>-0.267462</td>\n",
              "      <td>-0.342558</td>\n",
              "      <td>-1.060586</td>\n",
              "      <td>-0.666629</td>\n",
              "      <td>-0.905133</td>\n",
              "      <td>-0.531456</td>\n",
              "      <td>HomeImp</td>\n",
              "      <td>Office</td>\n",
              "    </tr>\n",
              "  </tbody>\n",
              "</table>\n",
              "</div>"
            ],
            "text/plain": [
              "        BAD      LOAN   MORTDUE     VALUE  ...      CLNO   DEBTINC   REASON     JOB\n",
              "0  3.140664 -1.559587 -0.993626 -1.224910  ... -1.428350  0.356347  HomeImp   Other\n",
              "1  3.140664 -1.550817 -1.039240 -1.174897  ... -1.428350  0.329025  HomeImp   Other\n",
              "2 -0.318404 -1.506968  0.607570  0.260973  ... -0.905133 -0.303684  HomeImp  Office\n",
              "3  3.140664 -1.498198 -0.897428 -1.093133  ... -0.067985  0.493725  HomeImp     Mgr\n",
              "4 -0.318404 -1.498198  0.520156  0.191721  ... -0.905133 -0.531456  HomeImp  Office\n",
              "\n",
              "[5 rows x 13 columns]"
            ]
          },
          "metadata": {
            "tags": []
          },
          "execution_count": 42
        }
      ]
    },
    {
      "cell_type": "code",
      "metadata": {
        "id": "NHQHi-zcnQVm",
        "colab_type": "code",
        "colab": {
          "base_uri": "https://localhost:8080/",
          "height": 195
        },
        "outputId": "82f0a778-d621-4062-c918-ffba250a21f9"
      },
      "source": [
        "df_scaled[\"BAD\"] = np.where(df_scaled[\"BAD\"] > 0,1,0)\n",
        "df_scaled.head()"
      ],
      "execution_count": 43,
      "outputs": [
        {
          "output_type": "execute_result",
          "data": {
            "text/html": [
              "<div>\n",
              "<style scoped>\n",
              "    .dataframe tbody tr th:only-of-type {\n",
              "        vertical-align: middle;\n",
              "    }\n",
              "\n",
              "    .dataframe tbody tr th {\n",
              "        vertical-align: top;\n",
              "    }\n",
              "\n",
              "    .dataframe thead th {\n",
              "        text-align: right;\n",
              "    }\n",
              "</style>\n",
              "<table border=\"1\" class=\"dataframe\">\n",
              "  <thead>\n",
              "    <tr style=\"text-align: right;\">\n",
              "      <th></th>\n",
              "      <th>BAD</th>\n",
              "      <th>LOAN</th>\n",
              "      <th>MORTDUE</th>\n",
              "      <th>VALUE</th>\n",
              "      <th>YOJ</th>\n",
              "      <th>DEROG</th>\n",
              "      <th>DELINQ</th>\n",
              "      <th>CLAGE</th>\n",
              "      <th>NINQ</th>\n",
              "      <th>CLNO</th>\n",
              "      <th>DEBTINC</th>\n",
              "      <th>REASON</th>\n",
              "      <th>JOB</th>\n",
              "    </tr>\n",
              "  </thead>\n",
              "  <tbody>\n",
              "    <tr>\n",
              "      <th>0</th>\n",
              "      <td>1</td>\n",
              "      <td>-1.559587</td>\n",
              "      <td>-0.993626</td>\n",
              "      <td>-1.224910</td>\n",
              "      <td>-0.017563</td>\n",
              "      <td>-0.267462</td>\n",
              "      <td>-0.342558</td>\n",
              "      <td>-0.967342</td>\n",
              "      <td>-0.018776</td>\n",
              "      <td>-1.428350</td>\n",
              "      <td>0.356347</td>\n",
              "      <td>HomeImp</td>\n",
              "      <td>Other</td>\n",
              "    </tr>\n",
              "    <tr>\n",
              "      <th>1</th>\n",
              "      <td>1</td>\n",
              "      <td>-1.550817</td>\n",
              "      <td>-1.039240</td>\n",
              "      <td>-1.174897</td>\n",
              "      <td>0.251809</td>\n",
              "      <td>-0.267462</td>\n",
              "      <td>-0.342558</td>\n",
              "      <td>-1.122053</td>\n",
              "      <td>-0.666629</td>\n",
              "      <td>-1.428350</td>\n",
              "      <td>0.329025</td>\n",
              "      <td>HomeImp</td>\n",
              "      <td>Other</td>\n",
              "    </tr>\n",
              "    <tr>\n",
              "      <th>2</th>\n",
              "      <td>0</td>\n",
              "      <td>-1.506968</td>\n",
              "      <td>0.607570</td>\n",
              "      <td>0.260973</td>\n",
              "      <td>-0.960364</td>\n",
              "      <td>-0.267462</td>\n",
              "      <td>-0.342558</td>\n",
              "      <td>-1.094930</td>\n",
              "      <td>-0.666629</td>\n",
              "      <td>-0.905133</td>\n",
              "      <td>-0.303684</td>\n",
              "      <td>HomeImp</td>\n",
              "      <td>Office</td>\n",
              "    </tr>\n",
              "    <tr>\n",
              "      <th>3</th>\n",
              "      <td>1</td>\n",
              "      <td>-1.498198</td>\n",
              "      <td>-0.897428</td>\n",
              "      <td>-1.093133</td>\n",
              "      <td>0.386495</td>\n",
              "      <td>-0.267462</td>\n",
              "      <td>-0.342558</td>\n",
              "      <td>-1.344679</td>\n",
              "      <td>-0.018776</td>\n",
              "      <td>-0.067985</td>\n",
              "      <td>0.493725</td>\n",
              "      <td>HomeImp</td>\n",
              "      <td>Mgr</td>\n",
              "    </tr>\n",
              "    <tr>\n",
              "      <th>4</th>\n",
              "      <td>0</td>\n",
              "      <td>-1.498198</td>\n",
              "      <td>0.520156</td>\n",
              "      <td>0.191721</td>\n",
              "      <td>-0.690992</td>\n",
              "      <td>-0.267462</td>\n",
              "      <td>-0.342558</td>\n",
              "      <td>-1.060586</td>\n",
              "      <td>-0.666629</td>\n",
              "      <td>-0.905133</td>\n",
              "      <td>-0.531456</td>\n",
              "      <td>HomeImp</td>\n",
              "      <td>Office</td>\n",
              "    </tr>\n",
              "  </tbody>\n",
              "</table>\n",
              "</div>"
            ],
            "text/plain": [
              "   BAD      LOAN   MORTDUE     VALUE  ...      CLNO   DEBTINC   REASON     JOB\n",
              "0    1 -1.559587 -0.993626 -1.224910  ... -1.428350  0.356347  HomeImp   Other\n",
              "1    1 -1.550817 -1.039240 -1.174897  ... -1.428350  0.329025  HomeImp   Other\n",
              "2    0 -1.506968  0.607570  0.260973  ... -0.905133 -0.303684  HomeImp  Office\n",
              "3    1 -1.498198 -0.897428 -1.093133  ... -0.067985  0.493725  HomeImp     Mgr\n",
              "4    0 -1.498198  0.520156  0.191721  ... -0.905133 -0.531456  HomeImp  Office\n",
              "\n",
              "[5 rows x 13 columns]"
            ]
          },
          "metadata": {
            "tags": []
          },
          "execution_count": 43
        }
      ]
    },
    {
      "cell_type": "code",
      "metadata": {
        "id": "ZRhqJ03rne0Y",
        "colab_type": "code",
        "colab": {}
      },
      "source": [
        "df_scaled_train, df_scaled_test = train_test_split(df_scaled, test_size = 0.3, random_state = 1234)"
      ],
      "execution_count": 0,
      "outputs": []
    },
    {
      "cell_type": "code",
      "metadata": {
        "id": "BC24zM9lnmw4",
        "colab_type": "code",
        "colab": {
          "base_uri": "https://localhost:8080/",
          "height": 598
        },
        "outputId": "b8589cce-86c4-4ea8-9d21-fe291666cdb4"
      },
      "source": [
        "scaled_log_model = Logit.from_formula(\"BAD\t~LOAN+\tMORTDUE+\tVALUE+\tC(REASON)+\tC(JOB)+\tYOJ+\tDEROG+\tDELINQ+\tCLAGE+\tNINQ+\tCLNO+\tDEBTINC\", df_scaled_train)\n",
        "scaled_log_result = scaled_log_model.fit()\n",
        "print(scaled_log_result.summary())"
      ],
      "execution_count": 45,
      "outputs": [
        {
          "output_type": "stream",
          "text": [
            "Optimization terminated successfully.\n",
            "         Current function value: 0.237614\n",
            "         Iterations 7\n",
            "                           Logit Regression Results                           \n",
            "==============================================================================\n",
            "Dep. Variable:                    BAD   No. Observations:                 2623\n",
            "Model:                          Logit   Df Residuals:                     2606\n",
            "Method:                           MLE   Df Model:                           16\n",
            "Date:                Mon, 22 Jul 2019   Pseudo R-squ.:                  0.2257\n",
            "Time:                        05:35:30   Log-Likelihood:                -623.26\n",
            "converged:                       True   LL-Null:                       -804.91\n",
            "Covariance Type:            nonrobust   LLR p-value:                 1.743e-67\n",
            "========================================================================================\n",
            "                           coef    std err          z      P>|z|      [0.025      0.975]\n",
            "----------------------------------------------------------------------------------------\n",
            "Intercept               -2.4815      0.205    -12.111      0.000      -2.883      -2.080\n",
            "C(REASON)[T.HomeImp]    -0.0080      0.176     -0.045      0.964      -0.354       0.338\n",
            "C(JOB)[T.Office]        -0.8256      0.294     -2.807      0.005      -1.402      -0.249\n",
            "C(JOB)[T.Other]         -0.3304      0.227     -1.454      0.146      -0.776       0.115\n",
            "C(JOB)[T.ProfExe]       -0.4247      0.271     -1.566      0.117      -0.956       0.107\n",
            "C(JOB)[T.Sales]          1.1323      0.476      2.381      0.017       0.200       2.064\n",
            "C(JOB)[T.Self]          -0.0454      0.432     -0.105      0.916      -0.892       0.801\n",
            "LOAN                    -0.1395      0.092     -1.514      0.130      -0.320       0.041\n",
            "MORTDUE                 -0.0960      0.160     -0.599      0.549      -0.410       0.218\n",
            "VALUE                    0.1661      0.165      1.008      0.313      -0.157       0.489\n",
            "YOJ                     -0.0397      0.086     -0.461      0.645      -0.208       0.129\n",
            "DEROG                    0.3749      0.062      6.043      0.000       0.253       0.496\n",
            "DELINQ                   0.5872      0.061      9.648      0.000       0.468       0.706\n",
            "CLAGE                   -0.4140      0.096     -4.320      0.000      -0.602      -0.226\n",
            "NINQ                     0.1449      0.068      2.131      0.033       0.012       0.278\n",
            "CLNO                    -0.2196      0.085     -2.587      0.010      -0.386      -0.053\n",
            "DEBTINC                  0.9186      0.104      8.829      0.000       0.715       1.123\n",
            "========================================================================================\n"
          ],
          "name": "stdout"
        }
      ]
    },
    {
      "cell_type": "code",
      "metadata": {
        "id": "o7YCocjnqrTO",
        "colab_type": "code",
        "colab": {
          "base_uri": "https://localhost:8080/",
          "height": 286
        },
        "outputId": "6746c56d-5c21-4a07-bf93-59d67f3a34a4"
      },
      "source": [
        "df_log_scaled_coef = pd.DataFrame({\"Coef\": scaled_log_result.params.values[1:]}, index = scaled_log_model.exog_names[1:])\n",
        "\n",
        "df_log_scaled_coef.plot.barh( y = \"Coef\", legend = False)"
      ],
      "execution_count": 46,
      "outputs": [
        {
          "output_type": "execute_result",
          "data": {
            "text/plain": [
              "<matplotlib.axes._subplots.AxesSubplot at 0x7fb20a3a8e48>"
            ]
          },
          "metadata": {
            "tags": []
          },
          "execution_count": 46
        },
        {
          "output_type": "display_data",
          "data": {
            "image/png": "[encoded data removed]",
            "text/plain": [
              "<Figure size 432x288 with 1 Axes>"
            ]
          },
          "metadata": {
            "tags": []
          }
        }
      ]
    },
    {
      "cell_type": "code",
      "metadata": {
        "id": "iRo5C1LHrP-z",
        "colab_type": "code",
        "colab": {
          "base_uri": "https://localhost:8080/",
          "height": 105
        },
        "outputId": "0c0d6b07-1545-46c0-ae04-7decaf4ffd5a"
      },
      "source": [
        "# 실제 test 데이터의 목표변수와 test 데이터의 예측값 비교\n",
        "print(\"Accuracy: {0:.3f}\\n\".format(accuracy_score(df_scaled_test[\"BAD\"],y_pred_class)))\n",
        "print(\"Confusion Matrix:\\n{}\".format(confusion_matrix(df_scaled_test[\"BAD\"],y_pred_class)))"
      ],
      "execution_count": 47,
      "outputs": [
        {
          "output_type": "stream",
          "text": [
            "Accuracy: 0.924\n",
            "\n",
            "Confusion Matrix:\n",
            "[[1017    4]\n",
            " [  81   23]]\n"
          ],
          "name": "stdout"
        }
      ]
    }
  ]
}