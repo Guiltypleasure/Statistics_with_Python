{
 "cells": [
  {
   "cell_type": "markdown",
   "metadata": {},
   "source": [
    "신뢰구간 추정"
   ]
  },
  {
   "cell_type": "code",
   "execution_count": 1,
   "metadata": {},
   "outputs": [],
   "source": [
    "import numpy as np\n",
    "from scipy import stats\n",
    "import pandas as pd\n",
    "import statsmodels.api as sm\n",
    "import matplotlib.pyplot as plt\n",
    "from statsmodels.stats.proportion import proportions_ztest"
   ]
  },
  {
   "cell_type": "code",
   "execution_count": 7,
   "metadata": {},
   "outputs": [
    {
     "name": "stdout",
     "output_type": "stream",
     "text": [
      "신뢰구간:(2.58,2.82)\n"
     ]
    }
   ],
   "source": [
    "ds_example=pd.read_csv(\"/home/pirl/Downloads/2. Python Data Handling/EXH_QC.csv\", engine=\"python\")\n",
    "df=ds_example[['Cabbage weight']].copy()\n",
    "lower,upper = stats.norm.interval(0.95, loc=2.7, scale=0.397/np.sqrt(40))\n",
    "#lower,upper = stats.norm.interval(0.95,loc=df.mean(),scale=stats.sem(df))\n",
    "print(\"신뢰구간:({0},{1})\".format(lower.round(2), upper.round(2)))"
   ]
  },
  {
   "cell_type": "markdown",
   "metadata": {},
   "source": [
    "p.250"
   ]
  },
  {
   "cell_type": "code",
   "execution_count": 8,
   "metadata": {},
   "outputs": [
    {
     "data": {
      "text/html": [
       "<div>\n",
       "<style scoped>\n",
       "    .dataframe tbody tr th:only-of-type {\n",
       "        vertical-align: middle;\n",
       "    }\n",
       "\n",
       "    .dataframe tbody tr th {\n",
       "        vertical-align: top;\n",
       "    }\n",
       "\n",
       "    .dataframe thead th {\n",
       "        text-align: right;\n",
       "    }\n",
       "</style>\n",
       "<table border=\"1\" class=\"dataframe\">\n",
       "  <thead>\n",
       "    <tr style=\"text-align: right;\">\n",
       "      <th></th>\n",
       "      <th>Sample</th>\n",
       "    </tr>\n",
       "  </thead>\n",
       "  <tbody>\n",
       "    <tr>\n",
       "      <th>0</th>\n",
       "      <td>18</td>\n",
       "    </tr>\n",
       "    <tr>\n",
       "      <th>1</th>\n",
       "      <td>18</td>\n",
       "    </tr>\n",
       "    <tr>\n",
       "      <th>2</th>\n",
       "      <td>20</td>\n",
       "    </tr>\n",
       "    <tr>\n",
       "      <th>3</th>\n",
       "      <td>21</td>\n",
       "    </tr>\n",
       "    <tr>\n",
       "      <th>4</th>\n",
       "      <td>20</td>\n",
       "    </tr>\n",
       "    <tr>\n",
       "      <th>5</th>\n",
       "      <td>23</td>\n",
       "    </tr>\n",
       "    <tr>\n",
       "      <th>6</th>\n",
       "      <td>19</td>\n",
       "    </tr>\n",
       "    <tr>\n",
       "      <th>7</th>\n",
       "      <td>18</td>\n",
       "    </tr>\n",
       "    <tr>\n",
       "      <th>8</th>\n",
       "      <td>17</td>\n",
       "    </tr>\n",
       "    <tr>\n",
       "      <th>9</th>\n",
       "      <td>21</td>\n",
       "    </tr>\n",
       "    <tr>\n",
       "      <th>10</th>\n",
       "      <td>20</td>\n",
       "    </tr>\n",
       "    <tr>\n",
       "      <th>11</th>\n",
       "      <td>19</td>\n",
       "    </tr>\n",
       "    <tr>\n",
       "      <th>12</th>\n",
       "      <td>19</td>\n",
       "    </tr>\n",
       "    <tr>\n",
       "      <th>13</th>\n",
       "      <td>18</td>\n",
       "    </tr>\n",
       "    <tr>\n",
       "      <th>14</th>\n",
       "      <td>17</td>\n",
       "    </tr>\n",
       "    <tr>\n",
       "      <th>15</th>\n",
       "      <td>19</td>\n",
       "    </tr>\n",
       "  </tbody>\n",
       "</table>\n",
       "</div>"
      ],
      "text/plain": [
       "    Sample\n",
       "0       18\n",
       "1       18\n",
       "2       20\n",
       "3       21\n",
       "4       20\n",
       "5       23\n",
       "6       19\n",
       "7       18\n",
       "8       17\n",
       "9       21\n",
       "10      20\n",
       "11      19\n",
       "12      19\n",
       "13      18\n",
       "14      17\n",
       "15      19"
      ]
     },
     "execution_count": 8,
     "metadata": {},
     "output_type": "execute_result"
    }
   ],
   "source": [
    "pd.DataFrame({'Sample':[18,18,20,21,20,23,19,18,17,21,20,19,19,18,17,19]})\n",
    "lower,upper = stats.normal.interval(0.95, loc = np.mean(df), scale = 3.8/np.sqrt(20))\n",
    "print(\"신뢰구간, ({0}, {1})\".format(lower.round(2), upper.round(2)))"
   ]
  },
  {
   "cell_type": "code",
   "execution_count": 14,
   "metadata": {},
   "outputs": [
    {
     "name": "stdout",
     "output_type": "stream",
     "text": [
      "신뢰구간, ([17.52], [20.85])\n"
     ]
    }
   ],
   "source": [
    "lower,upper = stats.norm.interval(0.95, loc = np.mean(df), scale = 3.8/np.sqrt(20))\n",
    "print(\"신뢰구간, ({0}, {1})\".format(lower.round(2), upper.round(2)))"
   ]
  },
  {
   "cell_type": "code",
   "execution_count": 16,
   "metadata": {},
   "outputs": [
    {
     "name": "stdout",
     "output_type": "stream",
     "text": [
      "신뢰구간, ([18.8], [20.2])\n"
     ]
    }
   ],
   "source": [
    "df=pd.DataFrame({'Sample':[18,18,20,21,20,23,19,18,17,21,22,20,20,21,20,19,19,18,17,19]})\n",
    "lower,upper = stats.norm.interval(0.95, loc = np.mean(df), scale = stats.sem(df))\n",
    "print(\"신뢰구간, ({0}, {1})\".format(lower.round(2), upper.round(2)))"
   ]
  },
  {
   "cell_type": "markdown",
   "metadata": {},
   "source": [
    "p.251"
   ]
  },
  {
   "cell_type": "code",
   "execution_count": 21,
   "metadata": {},
   "outputs": [
    {
     "name": "stdout",
     "output_type": "stream",
     "text": [
      "신뢰구간, ([54.39], [55.33])\n"
     ]
    }
   ],
   "source": [
    "#df를 직접 입력\n",
    "df=pd.DataFrame({'Sample':[54.1,53.3,56.1,55.7,54.0,54.1,54.5,57.1,55.2,53.8,54.1,54.1,56.1,55.0,55.9,56.0,54.9,54.3,53.9,55.0]})\n",
    "#정규분포 구간 추정 함수 실행\n",
    "lower,upper = stats.t.interval(0.95, len(df)-1,loc = np.mean(df), scale = stats.sem(df))\n",
    "print(\"신뢰구간, ({0}, {1})\".format(lower.round(2), upper.round(2)))"
   ]
  },
  {
   "cell_type": "markdown",
   "metadata": {},
   "source": [
    "가설검정 / 1-Sample t-test(p.253)"
   ]
  },
  {
   "cell_type": "markdown",
   "metadata": {},
   "source": [
    "2-sample t-text(p.255)"
   ]
  },
  {
   "cell_type": "code",
   "execution_count": 30,
   "metadata": {},
   "outputs": [
    {
     "name": "stdout",
     "output_type": "stream",
     "text": [
      "1-Sample t-test\n",
      "검정통계량:[0.864]\n",
      "p-value:[0.4098]\n"
     ]
    }
   ],
   "source": [
    "df=pd.DataFrame({'sample':[74.5,81.2,73.8,82.0,76.3,75.7,80.2,72.6,77.9,82.8]})\n",
    "t_result= stats.ttest_1samp(df,76.7)\n",
    "t, p=t_result.statistic.round(3),t_result.pvalue.round(4)\n",
    "print(\"1-Sample t-test\")\n",
    "print(\"검정통계량:{}\".format(t))\n",
    "print(\"p-value:{0}\".format(p))"
   ]
  },
  {
   "cell_type": "code",
   "execution_count": 38,
   "metadata": {},
   "outputs": [
    {
     "name": "stdout",
     "output_type": "stream",
     "text": [
      "2-Sample t-test\n",
      "t검정통계량:[-3.122305]\n",
      "p-value:[0.003424]\n"
     ]
    }
   ],
   "source": [
    "df1=pd.DataFrame({'sample':[6,5,5,4,6,7,6,4,5,6,4,5,5,6,4,8,6,5,6,7]})\n",
    "df2=pd.DataFrame({'sample':[7,5,7,8,7,8,8,5,7,6,5,5,6,6,5,7,9,7,7,8]})\n",
    "t_result= stats.ttest_ind(df1,df2,equal_var=True)\n",
    "t, p=t_result.statistic.round(6),t_result.pvalue.round(6)\n",
    "print(\"2-Sample t-test\")\n",
    "print(\"t검정통계량:{}\".format(t))\n",
    "print(\"p-value:{}\".format(p))"
   ]
  },
  {
   "cell_type": "code",
   "execution_count": 39,
   "metadata": {},
   "outputs": [
    {
     "name": "stdout",
     "output_type": "stream",
     "text": [
      "2-Sample t-test\n",
      "t검정통계량:[1.7]\n",
      "p-value:[0.111]\n"
     ]
    }
   ],
   "source": [
    "df1=pd.DataFrame({'sample':[1.883, 1.715, 1.799, 1.768, 1.711, 1.832, 1.427, 1.344]})\n",
    "df2=pd.DataFrame({'sample':[1.435, 1.572, 1.486, 1.511, 1.457, 1.548, 1.404, 1.883]})\n",
    "t_result= stats.ttest_ind(df1,df2)\n",
    "t, p=t_result.statistic.round(3),t_result.pvalue.round(3)\n",
    "print(\"2-Sample t-test\")\n",
    "print(\"t검정통계량:{}\".format(t))\n",
    "print(\"p-value:{}\".format(p))"
   ]
  },
  {
   "cell_type": "markdown",
   "metadata": {},
   "source": [
    "Paired-t test(p.257)|"
   ]
  },
  {
   "cell_type": "code",
   "execution_count": 41,
   "metadata": {},
   "outputs": [
    {
     "name": "stdout",
     "output_type": "stream",
     "text": [
      "Paired t-test\n",
      "t검정통계량:[-4.524]\n",
      "p-value:[0.]\n"
     ]
    }
   ],
   "source": [
    "df1=pd.DataFrame({'sample':[6,5,5,4,6,7,6,4,5,6,4,5,5,6,4,8,6,5,6,7]})\n",
    "df2=pd.DataFrame({'sample':[7,5,7,8,7,8,8,5,7,6,5,5,6,6,5,7,9,7,7,8]})\n",
    "t_result= stats.ttest_rel(df1,df2)\n",
    "t, p=t_result.statistic.round(3),t_result.pvalue.round(3)\n",
    "print(\"Paired t-test\")\n",
    "print(\"t검정통계량:{}\".format(t))\n",
    "print(\"p-value:{}\".format(p))"
   ]
  },
  {
   "cell_type": "markdown",
   "metadata": {},
   "source": [
    "검정통계량:-4.524\n",
    "개선 전보다 개선 후가 더 나빠졌다."
   ]
  },
  {
   "cell_type": "markdown",
   "metadata": {},
   "source": [
    "실습은 개인적으로 한 번 해보기"
   ]
  },
  {
   "cell_type": "markdown",
   "metadata": {},
   "source": [
    "ANOVA(p.259)"
   ]
  },
  {
   "cell_type": "code",
   "execution_count": 44,
   "metadata": {},
   "outputs": [
    {
     "name": "stdout",
     "output_type": "stream",
     "text": [
      "One-way ANOVA\n",
      "F검정통계량:[4.263]\n",
      "p-value:[0.025]\n"
     ]
    }
   ],
   "source": [
    "df1 = pd.DataFrame({'A':[892,623,721,678,723,790,720,670,690,771]})\n",
    "df2 = pd.DataFrame({'B':[721,821,910,678,723,790,711,790,745,891]})\n",
    "df3 = pd.DataFrame({'C':[621,915,888,721,894,834,841,912,845,889]})\n",
    "f_result=stats.f_oneway(df1,df2,df3)\n",
    "f,p =f_result.statistic.round(3), f_result.pvalue.round(3)\n",
    "print(\"One-way ANOVA\")\n",
    "print(\"F검정통계량:{}\".format(f))\n",
    "print(\"p-value:{}\".format(p))"
   ]
  },
  {
   "cell_type": "markdown",
   "metadata": {},
   "source": [
    "1 Proportion test(p.260)"
   ]
  },
  {
   "cell_type": "code",
   "execution_count": 45,
   "metadata": {},
   "outputs": [
    {
     "name": "stdout",
     "output_type": "stream",
     "text": [
      "1-Proportion test\n",
      "p-검정통계량:1.400\n",
      "p-value:0.161\n"
     ]
    }
   ],
   "source": [
    "from statsmodels.stats.proportion import proportions_ztest\n",
    "count=15\n",
    "nobs=100\n",
    "value=.1\n",
    "\n",
    "stat,pval=proportions_ztest(count,nobs,value)\n",
    "print(\"1-Proportion test\")\n",
    "print('p-검정통계량:{0:.3f}'.format(stat))\n",
    "print(\"p-value:{0:0.3f}\".format(pval))"
   ]
  },
  {
   "cell_type": "code",
   "execution_count": 47,
   "metadata": {},
   "outputs": [
    {
     "name": "stdout",
     "output_type": "stream",
     "text": [
      "1-Proportion test\n",
      "p-검정통계량:4.428\n",
      "p-value:0.000\n"
     ]
    }
   ],
   "source": [
    "# n=1000으로 바꿨을 때\n",
    "from statsmodels.stats.proportion import proportions_ztest\n",
    "count=150\n",
    "nobs=1000\n",
    "value=.1\n",
    "\n",
    "stat,pval=proportions_ztest(count,nobs,value)\n",
    "print(\"1-Proportion test\")\n",
    "print('p-검정통계량:{0:.3f}'.format(stat))\n",
    "print(\"p-value:{0:0.3f}\".format(pval))"
   ]
  },
  {
   "cell_type": "markdown",
   "metadata": {},
   "source": [
    "2 Proportion test(p.262)"
   ]
  },
  {
   "cell_type": "code",
   "execution_count": null,
   "metadata": {},
   "outputs": [],
   "source": [
    "count=np.array([4,1])\n",
    "nobs=np.array([1000,1200])\n",
    "\n",
    "stat,pval=proportions_ztest(count,nobs)\n",
    "print(\"2 Proportion test\")\n",
    "print(\"p검정통계량:{0:.3f}\".format(stat))\n",
    "print(\"p-value:{0:.3f}\".format(pval))"
   ]
  },
  {
   "cell_type": "code",
   "execution_count": 50,
   "metadata": {},
   "outputs": [
    {
     "name": "stdout",
     "output_type": "stream",
     "text": [
      "2 Proportion test\n",
      "p검정통계량:2.073\n",
      "p-value:0.038\n"
     ]
    }
   ],
   "source": [
    "count=np.array([14,5])\n",
    "nobs=np.array([1000,1200])\n",
    "\n",
    "stat,pval=proportions_ztest(count,nobs)\n",
    "print(\"2 Proportion test\")\n",
    "print(\"p검정통계량:{0:.3f}\".format(stat))\n",
    "print(\"p-value:{0:.3f}\".format(pval))"
   ]
  },
  {
   "cell_type": "markdown",
   "metadata": {},
   "source": [
    "chi-square test(p.264)"
   ]
  },
  {
   "cell_type": "code",
   "execution_count": 53,
   "metadata": {},
   "outputs": [
    {
     "name": "stdout",
     "output_type": "stream",
     "text": [
      "chi-square test\n",
      "chisq:13.366\n",
      "p:0.038\n",
      "degree of freedom:6\n",
      "expected value:\n",
      "[[258.333 276.333 230.667 234.667]\n",
      " [258.333 276.333 230.667 234.667]\n",
      " [258.333 276.333 230.667 234.667]]\n"
     ]
    }
   ],
   "source": [
    "df=pd.DataFrame({'HSG':[270,260,236,234],'SS':[228,285,225,262],'SPA':[277,284,231,208]})\n",
    "chi,pval,dof,expected = stats.chi2_contingency(df.T)\n",
    "\n",
    "print(\"chi-square test\")\n",
    "print(\"chisq:{0:0.3f}\".format(chi))\n",
    "print(\"p:{0:0.3f}\".format(pval))\n",
    "print(\"degree of freedom:{}\".format(dof))\n",
    "print(\"expected value:\\n{}\".format(expected.round(3)))"
   ]
  },
  {
   "cell_type": "markdown",
   "metadata": {},
   "source": [
    "# 상관, 회귀분석"
   ]
  },
  {
   "cell_type": "markdown",
   "metadata": {},
   "source": [
    "Correlation Analysis(p.269)"
   ]
  },
  {
   "cell_type": "code",
   "execution_count": 54,
   "metadata": {},
   "outputs": [
    {
     "name": "stdout",
     "output_type": "stream",
     "text": [
      "Correlation Analysis\n",
      "corr:0.987\n",
      "p:0.000\n"
     ]
    }
   ],
   "source": [
    "df1 = [1,2,3,4,4,5,6,6,7,8]\n",
    "df2 = [23,29,49,64,76,87,96,97,109,119]\n",
    "\n",
    "corr, pval = stats.pearsonr(df1,df2)\n",
    "print(\"Correlation Analysis\")\n",
    "print(\"corr:{0:.3f}\".format(corr))\n",
    "print(\"p:{0:0.3f}\".format(pval))"
   ]
  },
  {
   "cell_type": "markdown",
   "metadata": {},
   "source": [
    "단순회귀분석(p.272)"
   ]
  },
  {
   "cell_type": "code",
   "execution_count": 55,
   "metadata": {},
   "outputs": [
    {
     "name": "stdout",
     "output_type": "stream",
     "text": [
      "                            OLS Regression Results                            \n",
      "==============================================================================\n",
      "Dep. Variable:                      y   R-squared:                       0.975\n",
      "Model:                            OLS   Adj. R-squared:                  0.972\n",
      "Method:                 Least Squares   F-statistic:                     310.6\n",
      "Date:                Fri, 12 Jul 2019   Prob (F-statistic):           1.10e-07\n",
      "Time:                        13:52:45   Log-Likelihood:                -30.194\n",
      "No. Observations:                  10   AIC:                             64.39\n",
      "Df Residuals:                       8   BIC:                             64.99\n",
      "Df Model:                           1                                         \n",
      "Covariance Type:            nonrobust                                         \n",
      "==============================================================================\n",
      "                 coef    std err          t      P>|t|      [0.025      0.975]\n",
      "------------------------------------------------------------------------------\n",
      "const          7.4955      4.207      1.782      0.113      -2.206      17.197\n",
      "x1            14.6532      0.831     17.623      0.000      12.736      16.571\n",
      "==============================================================================\n",
      "Omnibus:                        0.798   Durbin-Watson:                   1.314\n",
      "Prob(Omnibus):                  0.671   Jarque-Bera (JB):                0.367\n",
      "Skew:                           0.434   Prob(JB):                        0.832\n",
      "Kurtosis:                       2.642   Cond. No.                         12.5\n",
      "==============================================================================\n",
      "\n",
      "Warnings:\n",
      "[1] Standard Errors assume that the covariance matrix of the errors is correctly specified.\n"
     ]
    },
    {
     "name": "stderr",
     "output_type": "stream",
     "text": [
      "/home/pirl/anaconda3/lib/python3.7/site-packages/scipy/stats/stats.py:1416: UserWarning: kurtosistest only valid for n>=20 ... continuing anyway, n=10\n",
      "  \"anyway, n=%i\" % int(n))\n"
     ]
    }
   ],
   "source": [
    "MINUTES = [1,2,3,4,4,5,6,6,7,8]\n",
    "UNITS = [23,29,49,64,76,87,96,97,109,119]\n",
    "\n",
    "MINUTES = sm.add_constant(MINUTES)\n",
    "model=sm.OLS(UNITS, MINUTES)\n",
    "result=model.fit()\n",
    "\n",
    "print(result.summary())"
   ]
  },
  {
   "cell_type": "markdown",
   "metadata": {},
   "source": [
    "# 데이터 핸들링"
   ]
  },
  {
   "cell_type": "code",
   "execution_count": 56,
   "metadata": {},
   "outputs": [
    {
     "data": {
      "text/html": [
       "<div>\n",
       "<style scoped>\n",
       "    .dataframe tbody tr th:only-of-type {\n",
       "        vertical-align: middle;\n",
       "    }\n",
       "\n",
       "    .dataframe tbody tr th {\n",
       "        vertical-align: top;\n",
       "    }\n",
       "\n",
       "    .dataframe thead th {\n",
       "        text-align: right;\n",
       "    }\n",
       "</style>\n",
       "<table border=\"1\" class=\"dataframe\">\n",
       "  <thead>\n",
       "    <tr style=\"text-align: right;\">\n",
       "      <th></th>\n",
       "      <th>A</th>\n",
       "      <th>B</th>\n",
       "    </tr>\n",
       "  </thead>\n",
       "  <tbody>\n",
       "    <tr>\n",
       "      <th>0</th>\n",
       "      <td>1.624345</td>\n",
       "      <td>-0.611756</td>\n",
       "    </tr>\n",
       "    <tr>\n",
       "      <th>1</th>\n",
       "      <td>-0.528172</td>\n",
       "      <td>-1.072969</td>\n",
       "    </tr>\n",
       "    <tr>\n",
       "      <th>2</th>\n",
       "      <td>0.865408</td>\n",
       "      <td>-2.301539</td>\n",
       "    </tr>\n",
       "    <tr>\n",
       "      <th>3</th>\n",
       "      <td>1.744812</td>\n",
       "      <td>-0.761207</td>\n",
       "    </tr>\n",
       "    <tr>\n",
       "      <th>4</th>\n",
       "      <td>0.319039</td>\n",
       "      <td>-0.249370</td>\n",
       "    </tr>\n",
       "    <tr>\n",
       "      <th>5</th>\n",
       "      <td>1.462108</td>\n",
       "      <td>-2.060141</td>\n",
       "    </tr>\n",
       "    <tr>\n",
       "      <th>6</th>\n",
       "      <td>-0.322417</td>\n",
       "      <td>-0.384054</td>\n",
       "    </tr>\n",
       "    <tr>\n",
       "      <th>7</th>\n",
       "      <td>1.133769</td>\n",
       "      <td>-1.099891</td>\n",
       "    </tr>\n",
       "    <tr>\n",
       "      <th>8</th>\n",
       "      <td>-0.172428</td>\n",
       "      <td>-0.877858</td>\n",
       "    </tr>\n",
       "    <tr>\n",
       "      <th>9</th>\n",
       "      <td>0.042214</td>\n",
       "      <td>0.582815</td>\n",
       "    </tr>\n",
       "  </tbody>\n",
       "</table>\n",
       "</div>"
      ],
      "text/plain": [
       "          A         B\n",
       "0  1.624345 -0.611756\n",
       "1 -0.528172 -1.072969\n",
       "2  0.865408 -2.301539\n",
       "3  1.744812 -0.761207\n",
       "4  0.319039 -0.249370\n",
       "5  1.462108 -2.060141\n",
       "6 -0.322417 -0.384054\n",
       "7  1.133769 -1.099891\n",
       "8 -0.172428 -0.877858\n",
       "9  0.042214  0.582815"
      ]
     },
     "execution_count": 56,
     "metadata": {},
     "output_type": "execute_result"
    }
   ],
   "source": [
    "from numpy.random import randn\n",
    "np.random.seed(1)\n",
    "df=pd.DataFrame(randn(10,2),columns=['A','B'])\n",
    "df"
   ]
  },
  {
   "cell_type": "code",
   "execution_count": 57,
   "metadata": {},
   "outputs": [
    {
     "data": {
      "text/plain": [
       "0    1.624345\n",
       "1   -0.528172\n",
       "2    0.865408\n",
       "3    1.744812\n",
       "4    0.319039\n",
       "5    1.462108\n",
       "6   -0.322417\n",
       "7    1.133769\n",
       "8   -0.172428\n",
       "9    0.042214\n",
       "Name: A, dtype: float64"
      ]
     },
     "execution_count": 57,
     "metadata": {},
     "output_type": "execute_result"
    }
   ],
   "source": [
    "df['A']"
   ]
  },
  {
   "cell_type": "code",
   "execution_count": 58,
   "metadata": {},
   "outputs": [
    {
     "data": {
      "text/html": [
       "<div>\n",
       "<style scoped>\n",
       "    .dataframe tbody tr th:only-of-type {\n",
       "        vertical-align: middle;\n",
       "    }\n",
       "\n",
       "    .dataframe tbody tr th {\n",
       "        vertical-align: top;\n",
       "    }\n",
       "\n",
       "    .dataframe thead th {\n",
       "        text-align: right;\n",
       "    }\n",
       "</style>\n",
       "<table border=\"1\" class=\"dataframe\">\n",
       "  <thead>\n",
       "    <tr style=\"text-align: right;\">\n",
       "      <th></th>\n",
       "      <th>A</th>\n",
       "    </tr>\n",
       "  </thead>\n",
       "  <tbody>\n",
       "    <tr>\n",
       "      <th>0</th>\n",
       "      <td>1.624345</td>\n",
       "    </tr>\n",
       "    <tr>\n",
       "      <th>1</th>\n",
       "      <td>-0.528172</td>\n",
       "    </tr>\n",
       "    <tr>\n",
       "      <th>2</th>\n",
       "      <td>0.865408</td>\n",
       "    </tr>\n",
       "    <tr>\n",
       "      <th>3</th>\n",
       "      <td>1.744812</td>\n",
       "    </tr>\n",
       "    <tr>\n",
       "      <th>4</th>\n",
       "      <td>0.319039</td>\n",
       "    </tr>\n",
       "    <tr>\n",
       "      <th>5</th>\n",
       "      <td>1.462108</td>\n",
       "    </tr>\n",
       "    <tr>\n",
       "      <th>6</th>\n",
       "      <td>-0.322417</td>\n",
       "    </tr>\n",
       "    <tr>\n",
       "      <th>7</th>\n",
       "      <td>1.133769</td>\n",
       "    </tr>\n",
       "    <tr>\n",
       "      <th>8</th>\n",
       "      <td>-0.172428</td>\n",
       "    </tr>\n",
       "    <tr>\n",
       "      <th>9</th>\n",
       "      <td>0.042214</td>\n",
       "    </tr>\n",
       "  </tbody>\n",
       "</table>\n",
       "</div>"
      ],
      "text/plain": [
       "          A\n",
       "0  1.624345\n",
       "1 -0.528172\n",
       "2  0.865408\n",
       "3  1.744812\n",
       "4  0.319039\n",
       "5  1.462108\n",
       "6 -0.322417\n",
       "7  1.133769\n",
       "8 -0.172428\n",
       "9  0.042214"
      ]
     },
     "execution_count": 58,
     "metadata": {},
     "output_type": "execute_result"
    }
   ],
   "source": [
    "df[['A']]"
   ]
  },
  {
   "cell_type": "code",
   "execution_count": 59,
   "metadata": {},
   "outputs": [
    {
     "data": {
      "text/html": [
       "<div>\n",
       "<style scoped>\n",
       "    .dataframe tbody tr th:only-of-type {\n",
       "        vertical-align: middle;\n",
       "    }\n",
       "\n",
       "    .dataframe tbody tr th {\n",
       "        vertical-align: top;\n",
       "    }\n",
       "\n",
       "    .dataframe thead th {\n",
       "        text-align: right;\n",
       "    }\n",
       "</style>\n",
       "<table border=\"1\" class=\"dataframe\">\n",
       "  <thead>\n",
       "    <tr style=\"text-align: right;\">\n",
       "      <th></th>\n",
       "      <th>A</th>\n",
       "      <th>B</th>\n",
       "    </tr>\n",
       "  </thead>\n",
       "  <tbody>\n",
       "    <tr>\n",
       "      <th>0</th>\n",
       "      <td>1.624345</td>\n",
       "      <td>-0.611756</td>\n",
       "    </tr>\n",
       "    <tr>\n",
       "      <th>1</th>\n",
       "      <td>-0.528172</td>\n",
       "      <td>-1.072969</td>\n",
       "    </tr>\n",
       "    <tr>\n",
       "      <th>2</th>\n",
       "      <td>0.865408</td>\n",
       "      <td>-2.301539</td>\n",
       "    </tr>\n",
       "    <tr>\n",
       "      <th>3</th>\n",
       "      <td>1.744812</td>\n",
       "      <td>-0.761207</td>\n",
       "    </tr>\n",
       "    <tr>\n",
       "      <th>4</th>\n",
       "      <td>0.319039</td>\n",
       "      <td>-0.249370</td>\n",
       "    </tr>\n",
       "  </tbody>\n",
       "</table>\n",
       "</div>"
      ],
      "text/plain": [
       "          A         B\n",
       "0  1.624345 -0.611756\n",
       "1 -0.528172 -1.072969\n",
       "2  0.865408 -2.301539\n",
       "3  1.744812 -0.761207\n",
       "4  0.319039 -0.249370"
      ]
     },
     "execution_count": 59,
     "metadata": {},
     "output_type": "execute_result"
    }
   ],
   "source": [
    "df[0:5]"
   ]
  },
  {
   "cell_type": "code",
   "execution_count": 60,
   "metadata": {},
   "outputs": [
    {
     "data": {
      "text/html": [
       "<div>\n",
       "<style scoped>\n",
       "    .dataframe tbody tr th:only-of-type {\n",
       "        vertical-align: middle;\n",
       "    }\n",
       "\n",
       "    .dataframe tbody tr th {\n",
       "        vertical-align: top;\n",
       "    }\n",
       "\n",
       "    .dataframe thead th {\n",
       "        text-align: right;\n",
       "    }\n",
       "</style>\n",
       "<table border=\"1\" class=\"dataframe\">\n",
       "  <thead>\n",
       "    <tr style=\"text-align: right;\">\n",
       "      <th></th>\n",
       "      <th>A</th>\n",
       "    </tr>\n",
       "  </thead>\n",
       "  <tbody>\n",
       "    <tr>\n",
       "      <th>0</th>\n",
       "      <td>1.624345</td>\n",
       "    </tr>\n",
       "    <tr>\n",
       "      <th>1</th>\n",
       "      <td>-0.528172</td>\n",
       "    </tr>\n",
       "    <tr>\n",
       "      <th>2</th>\n",
       "      <td>0.865408</td>\n",
       "    </tr>\n",
       "    <tr>\n",
       "      <th>3</th>\n",
       "      <td>1.744812</td>\n",
       "    </tr>\n",
       "    <tr>\n",
       "      <th>4</th>\n",
       "      <td>0.319039</td>\n",
       "    </tr>\n",
       "    <tr>\n",
       "      <th>5</th>\n",
       "      <td>1.462108</td>\n",
       "    </tr>\n",
       "    <tr>\n",
       "      <th>6</th>\n",
       "      <td>-0.322417</td>\n",
       "    </tr>\n",
       "    <tr>\n",
       "      <th>7</th>\n",
       "      <td>1.133769</td>\n",
       "    </tr>\n",
       "  </tbody>\n",
       "</table>\n",
       "</div>"
      ],
      "text/plain": [
       "          A\n",
       "0  1.624345\n",
       "1 -0.528172\n",
       "2  0.865408\n",
       "3  1.744812\n",
       "4  0.319039\n",
       "5  1.462108\n",
       "6 -0.322417\n",
       "7  1.133769"
      ]
     },
     "execution_count": 60,
     "metadata": {},
     "output_type": "execute_result"
    }
   ],
   "source": [
    "df.loc[0:7,['A']]"
   ]
  },
  {
   "cell_type": "code",
   "execution_count": 61,
   "metadata": {},
   "outputs": [
    {
     "data": {
      "text/html": [
       "<div>\n",
       "<style scoped>\n",
       "    .dataframe tbody tr th:only-of-type {\n",
       "        vertical-align: middle;\n",
       "    }\n",
       "\n",
       "    .dataframe tbody tr th {\n",
       "        vertical-align: top;\n",
       "    }\n",
       "\n",
       "    .dataframe thead th {\n",
       "        text-align: right;\n",
       "    }\n",
       "</style>\n",
       "<table border=\"1\" class=\"dataframe\">\n",
       "  <thead>\n",
       "    <tr style=\"text-align: right;\">\n",
       "      <th></th>\n",
       "      <th>A</th>\n",
       "    </tr>\n",
       "  </thead>\n",
       "  <tbody>\n",
       "    <tr>\n",
       "      <th>0</th>\n",
       "      <td>1.624345</td>\n",
       "    </tr>\n",
       "    <tr>\n",
       "      <th>1</th>\n",
       "      <td>-0.528172</td>\n",
       "    </tr>\n",
       "    <tr>\n",
       "      <th>2</th>\n",
       "      <td>0.865408</td>\n",
       "    </tr>\n",
       "    <tr>\n",
       "      <th>3</th>\n",
       "      <td>1.744812</td>\n",
       "    </tr>\n",
       "    <tr>\n",
       "      <th>4</th>\n",
       "      <td>0.319039</td>\n",
       "    </tr>\n",
       "    <tr>\n",
       "      <th>5</th>\n",
       "      <td>1.462108</td>\n",
       "    </tr>\n",
       "    <tr>\n",
       "      <th>6</th>\n",
       "      <td>-0.322417</td>\n",
       "    </tr>\n",
       "    <tr>\n",
       "      <th>7</th>\n",
       "      <td>1.133769</td>\n",
       "    </tr>\n",
       "    <tr>\n",
       "      <th>8</th>\n",
       "      <td>-0.172428</td>\n",
       "    </tr>\n",
       "    <tr>\n",
       "      <th>9</th>\n",
       "      <td>0.042214</td>\n",
       "    </tr>\n",
       "  </tbody>\n",
       "</table>\n",
       "</div>"
      ],
      "text/plain": [
       "          A\n",
       "0  1.624345\n",
       "1 -0.528172\n",
       "2  0.865408\n",
       "3  1.744812\n",
       "4  0.319039\n",
       "5  1.462108\n",
       "6 -0.322417\n",
       "7  1.133769\n",
       "8 -0.172428\n",
       "9  0.042214"
      ]
     },
     "execution_count": 61,
     "metadata": {},
     "output_type": "execute_result"
    }
   ],
   "source": [
    "df.loc[:,['A']]"
   ]
  },
  {
   "cell_type": "code",
   "execution_count": 62,
   "metadata": {},
   "outputs": [
    {
     "data": {
      "text/html": [
       "<div>\n",
       "<style scoped>\n",
       "    .dataframe tbody tr th:only-of-type {\n",
       "        vertical-align: middle;\n",
       "    }\n",
       "\n",
       "    .dataframe tbody tr th {\n",
       "        vertical-align: top;\n",
       "    }\n",
       "\n",
       "    .dataframe thead th {\n",
       "        text-align: right;\n",
       "    }\n",
       "</style>\n",
       "<table border=\"1\" class=\"dataframe\">\n",
       "  <thead>\n",
       "    <tr style=\"text-align: right;\">\n",
       "      <th></th>\n",
       "      <th>A</th>\n",
       "      <th>B</th>\n",
       "    </tr>\n",
       "  </thead>\n",
       "  <tbody>\n",
       "    <tr>\n",
       "      <th>3</th>\n",
       "      <td>1.744812</td>\n",
       "      <td>-0.761207</td>\n",
       "    </tr>\n",
       "    <tr>\n",
       "      <th>4</th>\n",
       "      <td>0.319039</td>\n",
       "      <td>-0.249370</td>\n",
       "    </tr>\n",
       "    <tr>\n",
       "      <th>5</th>\n",
       "      <td>1.462108</td>\n",
       "      <td>-2.060141</td>\n",
       "    </tr>\n",
       "    <tr>\n",
       "      <th>6</th>\n",
       "      <td>-0.322417</td>\n",
       "      <td>-0.384054</td>\n",
       "    </tr>\n",
       "    <tr>\n",
       "      <th>7</th>\n",
       "      <td>1.133769</td>\n",
       "      <td>-1.099891</td>\n",
       "    </tr>\n",
       "    <tr>\n",
       "      <th>8</th>\n",
       "      <td>-0.172428</td>\n",
       "      <td>-0.877858</td>\n",
       "    </tr>\n",
       "  </tbody>\n",
       "</table>\n",
       "</div>"
      ],
      "text/plain": [
       "          A         B\n",
       "3  1.744812 -0.761207\n",
       "4  0.319039 -0.249370\n",
       "5  1.462108 -2.060141\n",
       "6 -0.322417 -0.384054\n",
       "7  1.133769 -1.099891\n",
       "8 -0.172428 -0.877858"
      ]
     },
     "execution_count": 62,
     "metadata": {},
     "output_type": "execute_result"
    }
   ],
   "source": [
    "df.loc[3:8]"
   ]
  },
  {
   "cell_type": "code",
   "execution_count": 63,
   "metadata": {},
   "outputs": [
    {
     "data": {
      "text/html": [
       "<div>\n",
       "<style scoped>\n",
       "    .dataframe tbody tr th:only-of-type {\n",
       "        vertical-align: middle;\n",
       "    }\n",
       "\n",
       "    .dataframe tbody tr th {\n",
       "        vertical-align: top;\n",
       "    }\n",
       "\n",
       "    .dataframe thead th {\n",
       "        text-align: right;\n",
       "    }\n",
       "</style>\n",
       "<table border=\"1\" class=\"dataframe\">\n",
       "  <thead>\n",
       "    <tr style=\"text-align: right;\">\n",
       "      <th></th>\n",
       "      <th>A</th>\n",
       "      <th>B</th>\n",
       "    </tr>\n",
       "  </thead>\n",
       "  <tbody>\n",
       "    <tr>\n",
       "      <th>3</th>\n",
       "      <td>1.744812</td>\n",
       "      <td>-0.761207</td>\n",
       "    </tr>\n",
       "  </tbody>\n",
       "</table>\n",
       "</div>"
      ],
      "text/plain": [
       "          A         B\n",
       "3  1.744812 -0.761207"
      ]
     },
     "execution_count": 63,
     "metadata": {},
     "output_type": "execute_result"
    }
   ],
   "source": [
    "df.loc[3:3]"
   ]
  },
  {
   "cell_type": "code",
   "execution_count": 66,
   "metadata": {},
   "outputs": [
    {
     "data": {
      "text/plain": [
       "<pandas.core.indexing._LocIndexer at 0x7f0406247868>"
      ]
     },
     "execution_count": 66,
     "metadata": {},
     "output_type": "execute_result"
    }
   ],
   "source": [
    "df.loc()"
   ]
  },
  {
   "cell_type": "markdown",
   "metadata": {},
   "source": [
    "df.A"
   ]
  },
  {
   "cell_type": "code",
   "execution_count": 68,
   "metadata": {},
   "outputs": [
    {
     "data": {
      "text/html": [
       "<div>\n",
       "<style scoped>\n",
       "    .dataframe tbody tr th:only-of-type {\n",
       "        vertical-align: middle;\n",
       "    }\n",
       "\n",
       "    .dataframe tbody tr th {\n",
       "        vertical-align: top;\n",
       "    }\n",
       "\n",
       "    .dataframe thead th {\n",
       "        text-align: right;\n",
       "    }\n",
       "</style>\n",
       "<table border=\"1\" class=\"dataframe\">\n",
       "  <thead>\n",
       "    <tr style=\"text-align: right;\">\n",
       "      <th></th>\n",
       "      <th>A</th>\n",
       "      <th>B</th>\n",
       "    </tr>\n",
       "  </thead>\n",
       "  <tbody>\n",
       "    <tr>\n",
       "      <th>1</th>\n",
       "      <td>-0.528172</td>\n",
       "      <td>-1.072969</td>\n",
       "    </tr>\n",
       "    <tr>\n",
       "      <th>6</th>\n",
       "      <td>-0.322417</td>\n",
       "      <td>-0.384054</td>\n",
       "    </tr>\n",
       "    <tr>\n",
       "      <th>8</th>\n",
       "      <td>-0.172428</td>\n",
       "      <td>-0.877858</td>\n",
       "    </tr>\n",
       "  </tbody>\n",
       "</table>\n",
       "</div>"
      ],
      "text/plain": [
       "          A         B\n",
       "1 -0.528172 -1.072969\n",
       "6 -0.322417 -0.384054\n",
       "8 -0.172428 -0.877858"
      ]
     },
     "execution_count": 68,
     "metadata": {},
     "output_type": "execute_result"
    }
   ],
   "source": [
    "df[df.A<0]"
   ]
  },
  {
   "cell_type": "code",
   "execution_count": 69,
   "metadata": {},
   "outputs": [
    {
     "data": {
      "text/html": [
       "<div>\n",
       "<style scoped>\n",
       "    .dataframe tbody tr th:only-of-type {\n",
       "        vertical-align: middle;\n",
       "    }\n",
       "\n",
       "    .dataframe tbody tr th {\n",
       "        vertical-align: top;\n",
       "    }\n",
       "\n",
       "    .dataframe thead th {\n",
       "        text-align: right;\n",
       "    }\n",
       "</style>\n",
       "<table border=\"1\" class=\"dataframe\">\n",
       "  <thead>\n",
       "    <tr style=\"text-align: right;\">\n",
       "      <th></th>\n",
       "      <th>A</th>\n",
       "      <th>B</th>\n",
       "    </tr>\n",
       "  </thead>\n",
       "  <tbody>\n",
       "    <tr>\n",
       "      <th>1</th>\n",
       "      <td>-0.528172</td>\n",
       "      <td>-1.072969</td>\n",
       "    </tr>\n",
       "    <tr>\n",
       "      <th>6</th>\n",
       "      <td>-0.322417</td>\n",
       "      <td>-0.384054</td>\n",
       "    </tr>\n",
       "    <tr>\n",
       "      <th>8</th>\n",
       "      <td>-0.172428</td>\n",
       "      <td>-0.877858</td>\n",
       "    </tr>\n",
       "  </tbody>\n",
       "</table>\n",
       "</div>"
      ],
      "text/plain": [
       "          A         B\n",
       "1 -0.528172 -1.072969\n",
       "6 -0.322417 -0.384054\n",
       "8 -0.172428 -0.877858"
      ]
     },
     "execution_count": 69,
     "metadata": {},
     "output_type": "execute_result"
    }
   ],
   "source": [
    "df.query('A<0')"
   ]
  },
  {
   "cell_type": "code",
   "execution_count": 70,
   "metadata": {},
   "outputs": [],
   "source": [
    "np.random.seed(2)\n",
    "df=pd.DataFrame(randn(10,2), columns=['C','D'])"
   ]
  },
  {
   "cell_type": "code",
   "execution_count": 71,
   "metadata": {},
   "outputs": [
    {
     "data": {
      "text/html": [
       "<div>\n",
       "<style scoped>\n",
       "    .dataframe tbody tr th:only-of-type {\n",
       "        vertical-align: middle;\n",
       "    }\n",
       "\n",
       "    .dataframe tbody tr th {\n",
       "        vertical-align: top;\n",
       "    }\n",
       "\n",
       "    .dataframe thead th {\n",
       "        text-align: right;\n",
       "    }\n",
       "</style>\n",
       "<table border=\"1\" class=\"dataframe\">\n",
       "  <thead>\n",
       "    <tr style=\"text-align: right;\">\n",
       "      <th></th>\n",
       "      <th>C</th>\n",
       "      <th>D</th>\n",
       "    </tr>\n",
       "  </thead>\n",
       "  <tbody>\n",
       "    <tr>\n",
       "      <th>0</th>\n",
       "      <td>-0.416758</td>\n",
       "      <td>-0.056267</td>\n",
       "    </tr>\n",
       "    <tr>\n",
       "      <th>1</th>\n",
       "      <td>-2.136196</td>\n",
       "      <td>1.640271</td>\n",
       "    </tr>\n",
       "    <tr>\n",
       "      <th>2</th>\n",
       "      <td>-1.793436</td>\n",
       "      <td>-0.841747</td>\n",
       "    </tr>\n",
       "    <tr>\n",
       "      <th>3</th>\n",
       "      <td>0.502881</td>\n",
       "      <td>-1.245288</td>\n",
       "    </tr>\n",
       "    <tr>\n",
       "      <th>4</th>\n",
       "      <td>-1.057952</td>\n",
       "      <td>-0.909008</td>\n",
       "    </tr>\n",
       "    <tr>\n",
       "      <th>5</th>\n",
       "      <td>0.551454</td>\n",
       "      <td>2.292208</td>\n",
       "    </tr>\n",
       "    <tr>\n",
       "      <th>6</th>\n",
       "      <td>0.041539</td>\n",
       "      <td>-1.117925</td>\n",
       "    </tr>\n",
       "    <tr>\n",
       "      <th>7</th>\n",
       "      <td>0.539058</td>\n",
       "      <td>-0.596160</td>\n",
       "    </tr>\n",
       "    <tr>\n",
       "      <th>8</th>\n",
       "      <td>-0.019130</td>\n",
       "      <td>1.175001</td>\n",
       "    </tr>\n",
       "    <tr>\n",
       "      <th>9</th>\n",
       "      <td>-0.747871</td>\n",
       "      <td>0.009025</td>\n",
       "    </tr>\n",
       "  </tbody>\n",
       "</table>\n",
       "</div>"
      ],
      "text/plain": [
       "          C         D\n",
       "0 -0.416758 -0.056267\n",
       "1 -2.136196  1.640271\n",
       "2 -1.793436 -0.841747\n",
       "3  0.502881 -1.245288\n",
       "4 -1.057952 -0.909008\n",
       "5  0.551454  2.292208\n",
       "6  0.041539 -1.117925\n",
       "7  0.539058 -0.596160\n",
       "8 -0.019130  1.175001\n",
       "9 -0.747871  0.009025"
      ]
     },
     "execution_count": 71,
     "metadata": {},
     "output_type": "execute_result"
    }
   ],
   "source": [
    "df"
   ]
  },
  {
   "cell_type": "code",
   "execution_count": 72,
   "metadata": {},
   "outputs": [
    {
     "data": {
      "text/html": [
       "<div>\n",
       "<style scoped>\n",
       "    .dataframe tbody tr th:only-of-type {\n",
       "        vertical-align: middle;\n",
       "    }\n",
       "\n",
       "    .dataframe tbody tr th {\n",
       "        vertical-align: top;\n",
       "    }\n",
       "\n",
       "    .dataframe thead th {\n",
       "        text-align: right;\n",
       "    }\n",
       "</style>\n",
       "<table border=\"1\" class=\"dataframe\">\n",
       "  <thead>\n",
       "    <tr style=\"text-align: right;\">\n",
       "      <th></th>\n",
       "      <th>C</th>\n",
       "    </tr>\n",
       "  </thead>\n",
       "  <tbody>\n",
       "    <tr>\n",
       "      <th>0</th>\n",
       "      <td>-0.416758</td>\n",
       "    </tr>\n",
       "    <tr>\n",
       "      <th>1</th>\n",
       "      <td>-2.136196</td>\n",
       "    </tr>\n",
       "    <tr>\n",
       "      <th>2</th>\n",
       "      <td>-1.793436</td>\n",
       "    </tr>\n",
       "    <tr>\n",
       "      <th>3</th>\n",
       "      <td>0.502881</td>\n",
       "    </tr>\n",
       "    <tr>\n",
       "      <th>4</th>\n",
       "      <td>-1.057952</td>\n",
       "    </tr>\n",
       "    <tr>\n",
       "      <th>5</th>\n",
       "      <td>0.551454</td>\n",
       "    </tr>\n",
       "    <tr>\n",
       "      <th>6</th>\n",
       "      <td>0.041539</td>\n",
       "    </tr>\n",
       "    <tr>\n",
       "      <th>7</th>\n",
       "      <td>0.539058</td>\n",
       "    </tr>\n",
       "    <tr>\n",
       "      <th>8</th>\n",
       "      <td>-0.019130</td>\n",
       "    </tr>\n",
       "    <tr>\n",
       "      <th>9</th>\n",
       "      <td>-0.747871</td>\n",
       "    </tr>\n",
       "  </tbody>\n",
       "</table>\n",
       "</div>"
      ],
      "text/plain": [
       "          C\n",
       "0 -0.416758\n",
       "1 -2.136196\n",
       "2 -1.793436\n",
       "3  0.502881\n",
       "4 -1.057952\n",
       "5  0.551454\n",
       "6  0.041539\n",
       "7  0.539058\n",
       "8 -0.019130\n",
       "9 -0.747871"
      ]
     },
     "execution_count": 72,
     "metadata": {},
     "output_type": "execute_result"
    }
   ],
   "source": [
    "df[['C']]"
   ]
  },
  {
   "cell_type": "code",
   "execution_count": 73,
   "metadata": {},
   "outputs": [],
   "source": [
    "df1=pd.DataFrame(randn(2,2),columns=['a','b'])"
   ]
  },
  {
   "cell_type": "code",
   "execution_count": 75,
   "metadata": {},
   "outputs": [
    {
     "name": "stderr",
     "output_type": "stream",
     "text": [
      "/home/pirl/anaconda3/lib/python3.7/site-packages/pandas/core/frame.py:6692: FutureWarning: Sorting because non-concatenation axis is not aligned. A future version\n",
      "of pandas will change to not sort by default.\n",
      "\n",
      "To accept the future behavior, pass 'sort=False'.\n",
      "\n",
      "To retain the current behavior and silence the warning, pass 'sort=True'.\n",
      "\n",
      "  sort=sort)\n"
     ]
    },
    {
     "data": {
      "text/html": [
       "<div>\n",
       "<style scoped>\n",
       "    .dataframe tbody tr th:only-of-type {\n",
       "        vertical-align: middle;\n",
       "    }\n",
       "\n",
       "    .dataframe tbody tr th {\n",
       "        vertical-align: top;\n",
       "    }\n",
       "\n",
       "    .dataframe thead th {\n",
       "        text-align: right;\n",
       "    }\n",
       "</style>\n",
       "<table border=\"1\" class=\"dataframe\">\n",
       "  <thead>\n",
       "    <tr style=\"text-align: right;\">\n",
       "      <th></th>\n",
       "      <th>C</th>\n",
       "      <th>D</th>\n",
       "      <th>a</th>\n",
       "      <th>b</th>\n",
       "    </tr>\n",
       "  </thead>\n",
       "  <tbody>\n",
       "    <tr>\n",
       "      <th>0</th>\n",
       "      <td>-0.416758</td>\n",
       "      <td>-0.056267</td>\n",
       "      <td>NaN</td>\n",
       "      <td>NaN</td>\n",
       "    </tr>\n",
       "    <tr>\n",
       "      <th>1</th>\n",
       "      <td>-2.136196</td>\n",
       "      <td>1.640271</td>\n",
       "      <td>NaN</td>\n",
       "      <td>NaN</td>\n",
       "    </tr>\n",
       "    <tr>\n",
       "      <th>2</th>\n",
       "      <td>-1.793436</td>\n",
       "      <td>-0.841747</td>\n",
       "      <td>NaN</td>\n",
       "      <td>NaN</td>\n",
       "    </tr>\n",
       "    <tr>\n",
       "      <th>3</th>\n",
       "      <td>0.502881</td>\n",
       "      <td>-1.245288</td>\n",
       "      <td>NaN</td>\n",
       "      <td>NaN</td>\n",
       "    </tr>\n",
       "    <tr>\n",
       "      <th>4</th>\n",
       "      <td>-1.057952</td>\n",
       "      <td>-0.909008</td>\n",
       "      <td>NaN</td>\n",
       "      <td>NaN</td>\n",
       "    </tr>\n",
       "    <tr>\n",
       "      <th>5</th>\n",
       "      <td>0.551454</td>\n",
       "      <td>2.292208</td>\n",
       "      <td>NaN</td>\n",
       "      <td>NaN</td>\n",
       "    </tr>\n",
       "    <tr>\n",
       "      <th>6</th>\n",
       "      <td>0.041539</td>\n",
       "      <td>-1.117925</td>\n",
       "      <td>NaN</td>\n",
       "      <td>NaN</td>\n",
       "    </tr>\n",
       "    <tr>\n",
       "      <th>7</th>\n",
       "      <td>0.539058</td>\n",
       "      <td>-0.596160</td>\n",
       "      <td>NaN</td>\n",
       "      <td>NaN</td>\n",
       "    </tr>\n",
       "    <tr>\n",
       "      <th>8</th>\n",
       "      <td>-0.019130</td>\n",
       "      <td>1.175001</td>\n",
       "      <td>NaN</td>\n",
       "      <td>NaN</td>\n",
       "    </tr>\n",
       "    <tr>\n",
       "      <th>9</th>\n",
       "      <td>-0.747871</td>\n",
       "      <td>0.009025</td>\n",
       "      <td>NaN</td>\n",
       "      <td>NaN</td>\n",
       "    </tr>\n",
       "    <tr>\n",
       "      <th>0</th>\n",
       "      <td>NaN</td>\n",
       "      <td>NaN</td>\n",
       "      <td>-0.878108</td>\n",
       "      <td>-0.156434</td>\n",
       "    </tr>\n",
       "    <tr>\n",
       "      <th>1</th>\n",
       "      <td>NaN</td>\n",
       "      <td>NaN</td>\n",
       "      <td>0.256570</td>\n",
       "      <td>-0.988779</td>\n",
       "    </tr>\n",
       "  </tbody>\n",
       "</table>\n",
       "</div>"
      ],
      "text/plain": [
       "          C         D         a         b\n",
       "0 -0.416758 -0.056267       NaN       NaN\n",
       "1 -2.136196  1.640271       NaN       NaN\n",
       "2 -1.793436 -0.841747       NaN       NaN\n",
       "3  0.502881 -1.245288       NaN       NaN\n",
       "4 -1.057952 -0.909008       NaN       NaN\n",
       "5  0.551454  2.292208       NaN       NaN\n",
       "6  0.041539 -1.117925       NaN       NaN\n",
       "7  0.539058 -0.596160       NaN       NaN\n",
       "8 -0.019130  1.175001       NaN       NaN\n",
       "9 -0.747871  0.009025       NaN       NaN\n",
       "0       NaN       NaN -0.878108 -0.156434\n",
       "1       NaN       NaN  0.256570 -0.988779"
      ]
     },
     "execution_count": 75,
     "metadata": {},
     "output_type": "execute_result"
    }
   ],
   "source": [
    "df.append(df1)"
   ]
  },
  {
   "cell_type": "code",
   "execution_count": 79,
   "metadata": {},
   "outputs": [
    {
     "data": {
      "text/html": [
       "<div>\n",
       "<style scoped>\n",
       "    .dataframe tbody tr th:only-of-type {\n",
       "        vertical-align: middle;\n",
       "    }\n",
       "\n",
       "    .dataframe tbody tr th {\n",
       "        vertical-align: top;\n",
       "    }\n",
       "\n",
       "    .dataframe thead th {\n",
       "        text-align: right;\n",
       "    }\n",
       "</style>\n",
       "<table border=\"1\" class=\"dataframe\">\n",
       "  <thead>\n",
       "    <tr style=\"text-align: right;\">\n",
       "      <th></th>\n",
       "      <th>0</th>\n",
       "      <th>1</th>\n",
       "      <th>2</th>\n",
       "      <th>3</th>\n",
       "    </tr>\n",
       "  </thead>\n",
       "  <tbody>\n",
       "    <tr>\n",
       "      <th>A</th>\n",
       "      <td>-0.381516</td>\n",
       "      <td>0.066489</td>\n",
       "      <td>-1.098739</td>\n",
       "      <td>1.584487</td>\n",
       "    </tr>\n",
       "    <tr>\n",
       "      <th>B</th>\n",
       "      <td>-2.659449</td>\n",
       "      <td>-0.091453</td>\n",
       "      <td>0.695120</td>\n",
       "      <td>-2.033467</td>\n",
       "    </tr>\n",
       "    <tr>\n",
       "      <th>C</th>\n",
       "      <td>-0.189469</td>\n",
       "      <td>-0.077219</td>\n",
       "      <td>0.824703</td>\n",
       "      <td>1.248213</td>\n",
       "    </tr>\n",
       "    <tr>\n",
       "      <th>D</th>\n",
       "      <td>-0.403892</td>\n",
       "      <td>-1.384519</td>\n",
       "      <td>1.367235</td>\n",
       "      <td>1.217886</td>\n",
       "    </tr>\n",
       "  </tbody>\n",
       "</table>\n",
       "</div>"
      ],
      "text/plain": [
       "          0         1         2         3\n",
       "A -0.381516  0.066489 -1.098739  1.584487\n",
       "B -2.659449 -0.091453  0.695120 -2.033467\n",
       "C -0.189469 -0.077219  0.824703  1.248213\n",
       "D -0.403892 -1.384519  1.367235  1.217886"
      ]
     },
     "execution_count": 79,
     "metadata": {},
     "output_type": "execute_result"
    }
   ],
   "source": [
    "df1=pd.DataFrame(randn(4,4),['A','B','C','D'])\n",
    "df2=pd.DataFrame(randn(4,4),['A','B','C','D'])\n",
    "df3=pd.DataFrame(randn(4,4),['A','B','C','D'])\n",
    "df1"
   ]
  },
  {
   "cell_type": "code",
   "execution_count": 80,
   "metadata": {},
   "outputs": [
    {
     "data": {
      "text/html": [
       "<div>\n",
       "<style scoped>\n",
       "    .dataframe tbody tr th:only-of-type {\n",
       "        vertical-align: middle;\n",
       "    }\n",
       "\n",
       "    .dataframe tbody tr th {\n",
       "        vertical-align: top;\n",
       "    }\n",
       "\n",
       "    .dataframe thead th {\n",
       "        text-align: right;\n",
       "    }\n",
       "</style>\n",
       "<table border=\"1\" class=\"dataframe\">\n",
       "  <thead>\n",
       "    <tr style=\"text-align: right;\">\n",
       "      <th></th>\n",
       "      <th>0</th>\n",
       "      <th>1</th>\n",
       "      <th>2</th>\n",
       "      <th>3</th>\n",
       "    </tr>\n",
       "  </thead>\n",
       "  <tbody>\n",
       "    <tr>\n",
       "      <th>A</th>\n",
       "      <td>-0.462005</td>\n",
       "      <td>0.350888</td>\n",
       "      <td>0.381866</td>\n",
       "      <td>0.566275</td>\n",
       "    </tr>\n",
       "    <tr>\n",
       "      <th>B</th>\n",
       "      <td>0.204208</td>\n",
       "      <td>1.406696</td>\n",
       "      <td>-1.737960</td>\n",
       "      <td>1.040824</td>\n",
       "    </tr>\n",
       "    <tr>\n",
       "      <th>C</th>\n",
       "      <td>0.380472</td>\n",
       "      <td>-0.217135</td>\n",
       "      <td>1.173531</td>\n",
       "      <td>-2.343603</td>\n",
       "    </tr>\n",
       "    <tr>\n",
       "      <th>D</th>\n",
       "      <td>1.161521</td>\n",
       "      <td>0.386078</td>\n",
       "      <td>-1.133133</td>\n",
       "      <td>0.433093</td>\n",
       "    </tr>\n",
       "  </tbody>\n",
       "</table>\n",
       "</div>"
      ],
      "text/plain": [
       "          0         1         2         3\n",
       "A -0.462005  0.350888  0.381866  0.566275\n",
       "B  0.204208  1.406696 -1.737960  1.040824\n",
       "C  0.380472 -0.217135  1.173531 -2.343603\n",
       "D  1.161521  0.386078 -1.133133  0.433093"
      ]
     },
     "execution_count": 80,
     "metadata": {},
     "output_type": "execute_result"
    }
   ],
   "source": [
    "df2"
   ]
  },
  {
   "cell_type": "code",
   "execution_count": 81,
   "metadata": {},
   "outputs": [
    {
     "data": {
      "text/html": [
       "<div>\n",
       "<style scoped>\n",
       "    .dataframe tbody tr th:only-of-type {\n",
       "        vertical-align: middle;\n",
       "    }\n",
       "\n",
       "    .dataframe tbody tr th {\n",
       "        vertical-align: top;\n",
       "    }\n",
       "\n",
       "    .dataframe thead th {\n",
       "        text-align: right;\n",
       "    }\n",
       "</style>\n",
       "<table border=\"1\" class=\"dataframe\">\n",
       "  <thead>\n",
       "    <tr style=\"text-align: right;\">\n",
       "      <th></th>\n",
       "      <th>0</th>\n",
       "      <th>1</th>\n",
       "      <th>2</th>\n",
       "      <th>3</th>\n",
       "    </tr>\n",
       "  </thead>\n",
       "  <tbody>\n",
       "    <tr>\n",
       "      <th>A</th>\n",
       "      <td>-0.304086</td>\n",
       "      <td>2.585295</td>\n",
       "      <td>1.835333</td>\n",
       "      <td>0.440690</td>\n",
       "    </tr>\n",
       "    <tr>\n",
       "      <th>B</th>\n",
       "      <td>-0.719254</td>\n",
       "      <td>-0.583415</td>\n",
       "      <td>-0.325050</td>\n",
       "      <td>-0.560235</td>\n",
       "    </tr>\n",
       "    <tr>\n",
       "      <th>C</th>\n",
       "      <td>-0.902246</td>\n",
       "      <td>-0.590972</td>\n",
       "      <td>-0.276179</td>\n",
       "      <td>-0.516884</td>\n",
       "    </tr>\n",
       "    <tr>\n",
       "      <th>D</th>\n",
       "      <td>-0.698590</td>\n",
       "      <td>-0.928892</td>\n",
       "      <td>2.550438</td>\n",
       "      <td>-1.473173</td>\n",
       "    </tr>\n",
       "  </tbody>\n",
       "</table>\n",
       "</div>"
      ],
      "text/plain": [
       "          0         1         2         3\n",
       "A -0.304086  2.585295  1.835333  0.440690\n",
       "B -0.719254 -0.583415 -0.325050 -0.560235\n",
       "C -0.902246 -0.590972 -0.276179 -0.516884\n",
       "D -0.698590 -0.928892  2.550438 -1.473173"
      ]
     },
     "execution_count": 81,
     "metadata": {},
     "output_type": "execute_result"
    }
   ],
   "source": [
    "df3"
   ]
  },
  {
   "cell_type": "code",
   "execution_count": 82,
   "metadata": {},
   "outputs": [
    {
     "data": {
      "text/html": [
       "<div>\n",
       "<style scoped>\n",
       "    .dataframe tbody tr th:only-of-type {\n",
       "        vertical-align: middle;\n",
       "    }\n",
       "\n",
       "    .dataframe tbody tr th {\n",
       "        vertical-align: top;\n",
       "    }\n",
       "\n",
       "    .dataframe thead th {\n",
       "        text-align: right;\n",
       "    }\n",
       "</style>\n",
       "<table border=\"1\" class=\"dataframe\">\n",
       "  <thead>\n",
       "    <tr style=\"text-align: right;\">\n",
       "      <th></th>\n",
       "      <th>0</th>\n",
       "      <th>1</th>\n",
       "      <th>2</th>\n",
       "      <th>3</th>\n",
       "    </tr>\n",
       "  </thead>\n",
       "  <tbody>\n",
       "    <tr>\n",
       "      <th>A</th>\n",
       "      <td>-0.381516</td>\n",
       "      <td>0.066489</td>\n",
       "      <td>-1.098739</td>\n",
       "      <td>1.584487</td>\n",
       "    </tr>\n",
       "    <tr>\n",
       "      <th>B</th>\n",
       "      <td>-2.659449</td>\n",
       "      <td>-0.091453</td>\n",
       "      <td>0.695120</td>\n",
       "      <td>-2.033467</td>\n",
       "    </tr>\n",
       "    <tr>\n",
       "      <th>C</th>\n",
       "      <td>-0.189469</td>\n",
       "      <td>-0.077219</td>\n",
       "      <td>0.824703</td>\n",
       "      <td>1.248213</td>\n",
       "    </tr>\n",
       "    <tr>\n",
       "      <th>D</th>\n",
       "      <td>-0.403892</td>\n",
       "      <td>-1.384519</td>\n",
       "      <td>1.367235</td>\n",
       "      <td>1.217886</td>\n",
       "    </tr>\n",
       "    <tr>\n",
       "      <th>A</th>\n",
       "      <td>-0.462005</td>\n",
       "      <td>0.350888</td>\n",
       "      <td>0.381866</td>\n",
       "      <td>0.566275</td>\n",
       "    </tr>\n",
       "    <tr>\n",
       "      <th>B</th>\n",
       "      <td>0.204208</td>\n",
       "      <td>1.406696</td>\n",
       "      <td>-1.737960</td>\n",
       "      <td>1.040824</td>\n",
       "    </tr>\n",
       "    <tr>\n",
       "      <th>C</th>\n",
       "      <td>0.380472</td>\n",
       "      <td>-0.217135</td>\n",
       "      <td>1.173531</td>\n",
       "      <td>-2.343603</td>\n",
       "    </tr>\n",
       "    <tr>\n",
       "      <th>D</th>\n",
       "      <td>1.161521</td>\n",
       "      <td>0.386078</td>\n",
       "      <td>-1.133133</td>\n",
       "      <td>0.433093</td>\n",
       "    </tr>\n",
       "    <tr>\n",
       "      <th>A</th>\n",
       "      <td>-0.304086</td>\n",
       "      <td>2.585295</td>\n",
       "      <td>1.835333</td>\n",
       "      <td>0.440690</td>\n",
       "    </tr>\n",
       "    <tr>\n",
       "      <th>B</th>\n",
       "      <td>-0.719254</td>\n",
       "      <td>-0.583415</td>\n",
       "      <td>-0.325050</td>\n",
       "      <td>-0.560235</td>\n",
       "    </tr>\n",
       "    <tr>\n",
       "      <th>C</th>\n",
       "      <td>-0.902246</td>\n",
       "      <td>-0.590972</td>\n",
       "      <td>-0.276179</td>\n",
       "      <td>-0.516884</td>\n",
       "    </tr>\n",
       "    <tr>\n",
       "      <th>D</th>\n",
       "      <td>-0.698590</td>\n",
       "      <td>-0.928892</td>\n",
       "      <td>2.550438</td>\n",
       "      <td>-1.473173</td>\n",
       "    </tr>\n",
       "  </tbody>\n",
       "</table>\n",
       "</div>"
      ],
      "text/plain": [
       "          0         1         2         3\n",
       "A -0.381516  0.066489 -1.098739  1.584487\n",
       "B -2.659449 -0.091453  0.695120 -2.033467\n",
       "C -0.189469 -0.077219  0.824703  1.248213\n",
       "D -0.403892 -1.384519  1.367235  1.217886\n",
       "A -0.462005  0.350888  0.381866  0.566275\n",
       "B  0.204208  1.406696 -1.737960  1.040824\n",
       "C  0.380472 -0.217135  1.173531 -2.343603\n",
       "D  1.161521  0.386078 -1.133133  0.433093\n",
       "A -0.304086  2.585295  1.835333  0.440690\n",
       "B -0.719254 -0.583415 -0.325050 -0.560235\n",
       "C -0.902246 -0.590972 -0.276179 -0.516884\n",
       "D -0.698590 -0.928892  2.550438 -1.473173"
      ]
     },
     "execution_count": 82,
     "metadata": {},
     "output_type": "execute_result"
    }
   ],
   "source": [
    "result=pd.concat([df1,df2,df3])\n",
    "result"
   ]
  },
  {
   "cell_type": "code",
   "execution_count": 84,
   "metadata": {},
   "outputs": [],
   "source": [
    "result = pd.concat([df1,df2,df3],axis=1)"
   ]
  },
  {
   "cell_type": "code",
   "execution_count": 85,
   "metadata": {},
   "outputs": [
    {
     "data": {
      "text/html": [
       "<div>\n",
       "<style scoped>\n",
       "    .dataframe tbody tr th:only-of-type {\n",
       "        vertical-align: middle;\n",
       "    }\n",
       "\n",
       "    .dataframe tbody tr th {\n",
       "        vertical-align: top;\n",
       "    }\n",
       "\n",
       "    .dataframe thead th {\n",
       "        text-align: right;\n",
       "    }\n",
       "</style>\n",
       "<table border=\"1\" class=\"dataframe\">\n",
       "  <thead>\n",
       "    <tr style=\"text-align: right;\">\n",
       "      <th></th>\n",
       "      <th>0</th>\n",
       "      <th>1</th>\n",
       "      <th>2</th>\n",
       "      <th>3</th>\n",
       "      <th>0</th>\n",
       "      <th>1</th>\n",
       "      <th>2</th>\n",
       "      <th>3</th>\n",
       "      <th>0</th>\n",
       "      <th>1</th>\n",
       "      <th>2</th>\n",
       "      <th>3</th>\n",
       "    </tr>\n",
       "  </thead>\n",
       "  <tbody>\n",
       "    <tr>\n",
       "      <th>A</th>\n",
       "      <td>-0.381516</td>\n",
       "      <td>0.066489</td>\n",
       "      <td>-1.098739</td>\n",
       "      <td>1.584487</td>\n",
       "      <td>-0.462005</td>\n",
       "      <td>0.350888</td>\n",
       "      <td>0.381866</td>\n",
       "      <td>0.566275</td>\n",
       "      <td>-0.304086</td>\n",
       "      <td>2.585295</td>\n",
       "      <td>1.835333</td>\n",
       "      <td>0.440690</td>\n",
       "    </tr>\n",
       "    <tr>\n",
       "      <th>B</th>\n",
       "      <td>-2.659449</td>\n",
       "      <td>-0.091453</td>\n",
       "      <td>0.695120</td>\n",
       "      <td>-2.033467</td>\n",
       "      <td>0.204208</td>\n",
       "      <td>1.406696</td>\n",
       "      <td>-1.737960</td>\n",
       "      <td>1.040824</td>\n",
       "      <td>-0.719254</td>\n",
       "      <td>-0.583415</td>\n",
       "      <td>-0.325050</td>\n",
       "      <td>-0.560235</td>\n",
       "    </tr>\n",
       "    <tr>\n",
       "      <th>C</th>\n",
       "      <td>-0.189469</td>\n",
       "      <td>-0.077219</td>\n",
       "      <td>0.824703</td>\n",
       "      <td>1.248213</td>\n",
       "      <td>0.380472</td>\n",
       "      <td>-0.217135</td>\n",
       "      <td>1.173531</td>\n",
       "      <td>-2.343603</td>\n",
       "      <td>-0.902246</td>\n",
       "      <td>-0.590972</td>\n",
       "      <td>-0.276179</td>\n",
       "      <td>-0.516884</td>\n",
       "    </tr>\n",
       "    <tr>\n",
       "      <th>D</th>\n",
       "      <td>-0.403892</td>\n",
       "      <td>-1.384519</td>\n",
       "      <td>1.367235</td>\n",
       "      <td>1.217886</td>\n",
       "      <td>1.161521</td>\n",
       "      <td>0.386078</td>\n",
       "      <td>-1.133133</td>\n",
       "      <td>0.433093</td>\n",
       "      <td>-0.698590</td>\n",
       "      <td>-0.928892</td>\n",
       "      <td>2.550438</td>\n",
       "      <td>-1.473173</td>\n",
       "    </tr>\n",
       "  </tbody>\n",
       "</table>\n",
       "</div>"
      ],
      "text/plain": [
       "          0         1         2         3         0         1         2  \\\n",
       "A -0.381516  0.066489 -1.098739  1.584487 -0.462005  0.350888  0.381866   \n",
       "B -2.659449 -0.091453  0.695120 -2.033467  0.204208  1.406696 -1.737960   \n",
       "C -0.189469 -0.077219  0.824703  1.248213  0.380472 -0.217135  1.173531   \n",
       "D -0.403892 -1.384519  1.367235  1.217886  1.161521  0.386078 -1.133133   \n",
       "\n",
       "          3         0         1         2         3  \n",
       "A  0.566275 -0.304086  2.585295  1.835333  0.440690  \n",
       "B  1.040824 -0.719254 -0.583415 -0.325050 -0.560235  \n",
       "C -2.343603 -0.902246 -0.590972 -0.276179 -0.516884  \n",
       "D  0.433093 -0.698590 -0.928892  2.550438 -1.473173  "
      ]
     },
     "execution_count": 85,
     "metadata": {},
     "output_type": "execute_result"
    }
   ],
   "source": [
    "result"
   ]
  },
  {
   "cell_type": "code",
   "execution_count": 86,
   "metadata": {},
   "outputs": [],
   "source": [
    "result = pd.concat([df1,df2,df3],axis=1,ignore_index=True)"
   ]
  },
  {
   "cell_type": "code",
   "execution_count": 87,
   "metadata": {},
   "outputs": [
    {
     "data": {
      "text/html": [
       "<div>\n",
       "<style scoped>\n",
       "    .dataframe tbody tr th:only-of-type {\n",
       "        vertical-align: middle;\n",
       "    }\n",
       "\n",
       "    .dataframe tbody tr th {\n",
       "        vertical-align: top;\n",
       "    }\n",
       "\n",
       "    .dataframe thead th {\n",
       "        text-align: right;\n",
       "    }\n",
       "</style>\n",
       "<table border=\"1\" class=\"dataframe\">\n",
       "  <thead>\n",
       "    <tr style=\"text-align: right;\">\n",
       "      <th></th>\n",
       "      <th>0</th>\n",
       "      <th>1</th>\n",
       "      <th>2</th>\n",
       "      <th>3</th>\n",
       "      <th>4</th>\n",
       "      <th>5</th>\n",
       "      <th>6</th>\n",
       "      <th>7</th>\n",
       "      <th>8</th>\n",
       "      <th>9</th>\n",
       "      <th>10</th>\n",
       "      <th>11</th>\n",
       "    </tr>\n",
       "  </thead>\n",
       "  <tbody>\n",
       "    <tr>\n",
       "      <th>A</th>\n",
       "      <td>-0.381516</td>\n",
       "      <td>0.066489</td>\n",
       "      <td>-1.098739</td>\n",
       "      <td>1.584487</td>\n",
       "      <td>-0.462005</td>\n",
       "      <td>0.350888</td>\n",
       "      <td>0.381866</td>\n",
       "      <td>0.566275</td>\n",
       "      <td>-0.304086</td>\n",
       "      <td>2.585295</td>\n",
       "      <td>1.835333</td>\n",
       "      <td>0.440690</td>\n",
       "    </tr>\n",
       "    <tr>\n",
       "      <th>B</th>\n",
       "      <td>-2.659449</td>\n",
       "      <td>-0.091453</td>\n",
       "      <td>0.695120</td>\n",
       "      <td>-2.033467</td>\n",
       "      <td>0.204208</td>\n",
       "      <td>1.406696</td>\n",
       "      <td>-1.737960</td>\n",
       "      <td>1.040824</td>\n",
       "      <td>-0.719254</td>\n",
       "      <td>-0.583415</td>\n",
       "      <td>-0.325050</td>\n",
       "      <td>-0.560235</td>\n",
       "    </tr>\n",
       "    <tr>\n",
       "      <th>C</th>\n",
       "      <td>-0.189469</td>\n",
       "      <td>-0.077219</td>\n",
       "      <td>0.824703</td>\n",
       "      <td>1.248213</td>\n",
       "      <td>0.380472</td>\n",
       "      <td>-0.217135</td>\n",
       "      <td>1.173531</td>\n",
       "      <td>-2.343603</td>\n",
       "      <td>-0.902246</td>\n",
       "      <td>-0.590972</td>\n",
       "      <td>-0.276179</td>\n",
       "      <td>-0.516884</td>\n",
       "    </tr>\n",
       "    <tr>\n",
       "      <th>D</th>\n",
       "      <td>-0.403892</td>\n",
       "      <td>-1.384519</td>\n",
       "      <td>1.367235</td>\n",
       "      <td>1.217886</td>\n",
       "      <td>1.161521</td>\n",
       "      <td>0.386078</td>\n",
       "      <td>-1.133133</td>\n",
       "      <td>0.433093</td>\n",
       "      <td>-0.698590</td>\n",
       "      <td>-0.928892</td>\n",
       "      <td>2.550438</td>\n",
       "      <td>-1.473173</td>\n",
       "    </tr>\n",
       "  </tbody>\n",
       "</table>\n",
       "</div>"
      ],
      "text/plain": [
       "         0         1         2         3         4         5         6   \\\n",
       "A -0.381516  0.066489 -1.098739  1.584487 -0.462005  0.350888  0.381866   \n",
       "B -2.659449 -0.091453  0.695120 -2.033467  0.204208  1.406696 -1.737960   \n",
       "C -0.189469 -0.077219  0.824703  1.248213  0.380472 -0.217135  1.173531   \n",
       "D -0.403892 -1.384519  1.367235  1.217886  1.161521  0.386078 -1.133133   \n",
       "\n",
       "         7         8         9         10        11  \n",
       "A  0.566275 -0.304086  2.585295  1.835333  0.440690  \n",
       "B  1.040824 -0.719254 -0.583415 -0.325050 -0.560235  \n",
       "C -2.343603 -0.902246 -0.590972 -0.276179 -0.516884  \n",
       "D  0.433093 -0.698590 -0.928892  2.550438 -1.473173  "
      ]
     },
     "execution_count": 87,
     "metadata": {},
     "output_type": "execute_result"
    }
   ],
   "source": [
    "result"
   ]
  },
  {
   "cell_type": "code",
   "execution_count": 88,
   "metadata": {},
   "outputs": [
    {
     "data": {
      "text/html": [
       "<div>\n",
       "<style scoped>\n",
       "    .dataframe tbody tr th:only-of-type {\n",
       "        vertical-align: middle;\n",
       "    }\n",
       "\n",
       "    .dataframe tbody tr th {\n",
       "        vertical-align: top;\n",
       "    }\n",
       "\n",
       "    .dataframe thead th {\n",
       "        text-align: right;\n",
       "    }\n",
       "</style>\n",
       "<table border=\"1\" class=\"dataframe\">\n",
       "  <thead>\n",
       "    <tr style=\"text-align: right;\">\n",
       "      <th></th>\n",
       "      <th>col_0</th>\n",
       "      <th>col_1</th>\n",
       "      <th>col_2</th>\n",
       "      <th>col_3</th>\n",
       "      <th>col_4</th>\n",
       "      <th>col_5</th>\n",
       "      <th>col_6</th>\n",
       "      <th>col_7</th>\n",
       "      <th>col_8</th>\n",
       "      <th>col_9</th>\n",
       "      <th>col_10</th>\n",
       "      <th>col_11</th>\n",
       "    </tr>\n",
       "  </thead>\n",
       "  <tbody>\n",
       "    <tr>\n",
       "      <th>A</th>\n",
       "      <td>-0.381516</td>\n",
       "      <td>0.066489</td>\n",
       "      <td>-1.098739</td>\n",
       "      <td>1.584487</td>\n",
       "      <td>-0.462005</td>\n",
       "      <td>0.350888</td>\n",
       "      <td>0.381866</td>\n",
       "      <td>0.566275</td>\n",
       "      <td>-0.304086</td>\n",
       "      <td>2.585295</td>\n",
       "      <td>1.835333</td>\n",
       "      <td>0.440690</td>\n",
       "    </tr>\n",
       "    <tr>\n",
       "      <th>B</th>\n",
       "      <td>-2.659449</td>\n",
       "      <td>-0.091453</td>\n",
       "      <td>0.695120</td>\n",
       "      <td>-2.033467</td>\n",
       "      <td>0.204208</td>\n",
       "      <td>1.406696</td>\n",
       "      <td>-1.737960</td>\n",
       "      <td>1.040824</td>\n",
       "      <td>-0.719254</td>\n",
       "      <td>-0.583415</td>\n",
       "      <td>-0.325050</td>\n",
       "      <td>-0.560235</td>\n",
       "    </tr>\n",
       "    <tr>\n",
       "      <th>C</th>\n",
       "      <td>-0.189469</td>\n",
       "      <td>-0.077219</td>\n",
       "      <td>0.824703</td>\n",
       "      <td>1.248213</td>\n",
       "      <td>0.380472</td>\n",
       "      <td>-0.217135</td>\n",
       "      <td>1.173531</td>\n",
       "      <td>-2.343603</td>\n",
       "      <td>-0.902246</td>\n",
       "      <td>-0.590972</td>\n",
       "      <td>-0.276179</td>\n",
       "      <td>-0.516884</td>\n",
       "    </tr>\n",
       "    <tr>\n",
       "      <th>D</th>\n",
       "      <td>-0.403892</td>\n",
       "      <td>-1.384519</td>\n",
       "      <td>1.367235</td>\n",
       "      <td>1.217886</td>\n",
       "      <td>1.161521</td>\n",
       "      <td>0.386078</td>\n",
       "      <td>-1.133133</td>\n",
       "      <td>0.433093</td>\n",
       "      <td>-0.698590</td>\n",
       "      <td>-0.928892</td>\n",
       "      <td>2.550438</td>\n",
       "      <td>-1.473173</td>\n",
       "    </tr>\n",
       "  </tbody>\n",
       "</table>\n",
       "</div>"
      ],
      "text/plain": [
       "      col_0     col_1     col_2     col_3     col_4     col_5     col_6  \\\n",
       "A -0.381516  0.066489 -1.098739  1.584487 -0.462005  0.350888  0.381866   \n",
       "B -2.659449 -0.091453  0.695120 -2.033467  0.204208  1.406696 -1.737960   \n",
       "C -0.189469 -0.077219  0.824703  1.248213  0.380472 -0.217135  1.173531   \n",
       "D -0.403892 -1.384519  1.367235  1.217886  1.161521  0.386078 -1.133133   \n",
       "\n",
       "      col_7     col_8     col_9    col_10    col_11  \n",
       "A  0.566275 -0.304086  2.585295  1.835333  0.440690  \n",
       "B  1.040824 -0.719254 -0.583415 -0.325050 -0.560235  \n",
       "C -2.343603 -0.902246 -0.590972 -0.276179 -0.516884  \n",
       "D  0.433093 -0.698590 -0.928892  2.550438 -1.473173  "
      ]
     },
     "execution_count": 88,
     "metadata": {},
     "output_type": "execute_result"
    }
   ],
   "source": [
    "result.columns=[\"col_\"+str(i) for i in range(12)]\n",
    "result"
   ]
  },
  {
   "cell_type": "code",
   "execution_count": 89,
   "metadata": {},
   "outputs": [
    {
     "data": {
      "text/html": [
       "<div>\n",
       "<style scoped>\n",
       "    .dataframe tbody tr th:only-of-type {\n",
       "        vertical-align: middle;\n",
       "    }\n",
       "\n",
       "    .dataframe tbody tr th {\n",
       "        vertical-align: top;\n",
       "    }\n",
       "\n",
       "    .dataframe thead th {\n",
       "        text-align: right;\n",
       "    }\n",
       "</style>\n",
       "<table border=\"1\" class=\"dataframe\">\n",
       "  <thead>\n",
       "    <tr style=\"text-align: right;\">\n",
       "      <th></th>\n",
       "      <th>col_0</th>\n",
       "      <th>col_1</th>\n",
       "      <th>col_2</th>\n",
       "      <th>col_3</th>\n",
       "      <th>col_4</th>\n",
       "      <th>col_5</th>\n",
       "      <th>col_6</th>\n",
       "      <th>col_7</th>\n",
       "      <th>col_8</th>\n",
       "      <th>col_9</th>\n",
       "      <th>col_10</th>\n",
       "      <th>col_11</th>\n",
       "    </tr>\n",
       "  </thead>\n",
       "  <tbody>\n",
       "    <tr>\n",
       "      <th>D</th>\n",
       "      <td>-0.403892</td>\n",
       "      <td>-1.384519</td>\n",
       "      <td>1.367235</td>\n",
       "      <td>1.217886</td>\n",
       "      <td>1.161521</td>\n",
       "      <td>0.386078</td>\n",
       "      <td>-1.133133</td>\n",
       "      <td>0.433093</td>\n",
       "      <td>-0.69859</td>\n",
       "      <td>-0.928892</td>\n",
       "      <td>2.550438</td>\n",
       "      <td>-1.473173</td>\n",
       "    </tr>\n",
       "  </tbody>\n",
       "</table>\n",
       "</div>"
      ],
      "text/plain": [
       "      col_0     col_1     col_2     col_3     col_4     col_5     col_6  \\\n",
       "D -0.403892 -1.384519  1.367235  1.217886  1.161521  0.386078 -1.133133   \n",
       "\n",
       "      col_7    col_8     col_9    col_10    col_11  \n",
       "D  0.433093 -0.69859 -0.928892  2.550438 -1.473173  "
      ]
     },
     "execution_count": 89,
     "metadata": {},
     "output_type": "execute_result"
    }
   ],
   "source": [
    "(result[result.col_0 > result.col_1])"
   ]
  },
  {
   "cell_type": "code",
   "execution_count": 90,
   "metadata": {},
   "outputs": [
    {
     "data": {
      "text/html": [
       "<div>\n",
       "<style scoped>\n",
       "    .dataframe tbody tr th:only-of-type {\n",
       "        vertical-align: middle;\n",
       "    }\n",
       "\n",
       "    .dataframe tbody tr th {\n",
       "        vertical-align: top;\n",
       "    }\n",
       "\n",
       "    .dataframe thead th {\n",
       "        text-align: right;\n",
       "    }\n",
       "</style>\n",
       "<table border=\"1\" class=\"dataframe\">\n",
       "  <thead>\n",
       "    <tr style=\"text-align: right;\">\n",
       "      <th></th>\n",
       "      <th>col_0</th>\n",
       "      <th>col_1</th>\n",
       "      <th>col_2</th>\n",
       "      <th>col_3</th>\n",
       "      <th>col_4</th>\n",
       "      <th>col_5</th>\n",
       "      <th>col_6</th>\n",
       "      <th>col_7</th>\n",
       "      <th>col_8</th>\n",
       "      <th>col_9</th>\n",
       "      <th>col_10</th>\n",
       "      <th>col_11</th>\n",
       "    </tr>\n",
       "  </thead>\n",
       "  <tbody>\n",
       "    <tr>\n",
       "      <th>D</th>\n",
       "      <td>-0.403892</td>\n",
       "      <td>-1.384519</td>\n",
       "      <td>1.367235</td>\n",
       "      <td>1.217886</td>\n",
       "      <td>1.161521</td>\n",
       "      <td>0.386078</td>\n",
       "      <td>-1.133133</td>\n",
       "      <td>0.433093</td>\n",
       "      <td>-0.69859</td>\n",
       "      <td>-0.928892</td>\n",
       "      <td>2.550438</td>\n",
       "      <td>-1.473173</td>\n",
       "    </tr>\n",
       "  </tbody>\n",
       "</table>\n",
       "</div>"
      ],
      "text/plain": [
       "      col_0     col_1     col_2     col_3     col_4     col_5     col_6  \\\n",
       "D -0.403892 -1.384519  1.367235  1.217886  1.161521  0.386078 -1.133133   \n",
       "\n",
       "      col_7    col_8     col_9    col_10    col_11  \n",
       "D  0.433093 -0.69859 -0.928892  2.550438 -1.473173  "
      ]
     },
     "execution_count": 90,
     "metadata": {},
     "output_type": "execute_result"
    }
   ],
   "source": [
    "result[result.col_0 > result.col_1]"
   ]
  },
  {
   "cell_type": "code",
   "execution_count": 91,
   "metadata": {},
   "outputs": [
    {
     "data": {
      "text/html": [
       "<div>\n",
       "<style scoped>\n",
       "    .dataframe tbody tr th:only-of-type {\n",
       "        vertical-align: middle;\n",
       "    }\n",
       "\n",
       "    .dataframe tbody tr th {\n",
       "        vertical-align: top;\n",
       "    }\n",
       "\n",
       "    .dataframe thead th {\n",
       "        text-align: right;\n",
       "    }\n",
       "</style>\n",
       "<table border=\"1\" class=\"dataframe\">\n",
       "  <thead>\n",
       "    <tr style=\"text-align: right;\">\n",
       "      <th></th>\n",
       "      <th>col_0</th>\n",
       "      <th>col_1</th>\n",
       "      <th>col_2</th>\n",
       "      <th>col_3</th>\n",
       "      <th>col_4</th>\n",
       "      <th>col_5</th>\n",
       "      <th>col_6</th>\n",
       "      <th>col_7</th>\n",
       "      <th>col_8</th>\n",
       "      <th>col_9</th>\n",
       "      <th>col_10</th>\n",
       "      <th>col_11</th>\n",
       "    </tr>\n",
       "  </thead>\n",
       "  <tbody>\n",
       "    <tr>\n",
       "      <th>D</th>\n",
       "      <td>-0.403892</td>\n",
       "      <td>-1.384519</td>\n",
       "      <td>1.367235</td>\n",
       "      <td>1.217886</td>\n",
       "      <td>1.161521</td>\n",
       "      <td>0.386078</td>\n",
       "      <td>-1.133133</td>\n",
       "      <td>0.433093</td>\n",
       "      <td>-0.69859</td>\n",
       "      <td>-0.928892</td>\n",
       "      <td>2.550438</td>\n",
       "      <td>-1.473173</td>\n",
       "    </tr>\n",
       "  </tbody>\n",
       "</table>\n",
       "</div>"
      ],
      "text/plain": [
       "      col_0     col_1     col_2     col_3     col_4     col_5     col_6  \\\n",
       "D -0.403892 -1.384519  1.367235  1.217886  1.161521  0.386078 -1.133133   \n",
       "\n",
       "      col_7    col_8     col_9    col_10    col_11  \n",
       "D  0.433093 -0.69859 -0.928892  2.550438 -1.473173  "
      ]
     },
     "execution_count": 91,
     "metadata": {},
     "output_type": "execute_result"
    }
   ],
   "source": [
    "result.query('col_0 > col_1')"
   ]
  },
  {
   "cell_type": "code",
   "execution_count": 92,
   "metadata": {},
   "outputs": [
    {
     "data": {
      "text/plain": [
       "A    False\n",
       "B    False\n",
       "C    False\n",
       "D     True\n",
       "dtype: bool"
      ]
     },
     "execution_count": 92,
     "metadata": {},
     "output_type": "execute_result"
    }
   ],
   "source": [
    "result['col_0'] > result['col_1']"
   ]
  },
  {
   "cell_type": "code",
   "execution_count": null,
   "metadata": {},
   "outputs": [],
   "source": []
  }
 ],
 "metadata": {
  "kernelspec": {
   "display_name": "Python 3",
   "language": "python",
   "name": "python3"
  },
  "language_info": {
   "codemirror_mode": {
    "name": "ipython",
    "version": 3
   },
   "file_extension": ".py",
   "mimetype": "text/x-python",
   "name": "python",
   "nbconvert_exporter": "python",
   "pygments_lexer": "ipython3",
   "version": "3.7.3"
  }
 },
 "nbformat": 4,
 "nbformat_minor": 2
}
