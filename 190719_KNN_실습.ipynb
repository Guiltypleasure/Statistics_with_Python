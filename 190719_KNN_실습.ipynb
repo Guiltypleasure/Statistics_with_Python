{
  "nbformat": 4,
  "nbformat_minor": 0,
  "metadata": {
    "colab": {
      "name": "190719 KNN 실습",
      "version": "0.3.2",
      "provenance": [],
      "collapsed_sections": [],
      "include_colab_link": true
    },
    "kernelspec": {
      "name": "python3",
      "display_name": "Python 3"
    }
  },
  "cells": [
    {
      "cell_type": "markdown",
      "metadata": {
        "id": "view-in-github",
        "colab_type": "text"
      },
      "source": [
        "<a href=\"https://colab.research.google.com/github/SJKIM2253/Statistics_with_Python/blob/master/190719_KNN_%EC%8B%A4%EC%8A%B5.ipynb\" target=\"_parent\"><img src=\"https://colab.research.google.com/assets/colab-badge.svg\" alt=\"Open In Colab\"/></a>"
      ]
    },
    {
      "cell_type": "code",
      "metadata": {
        "id": "50pyZeGjLJam",
        "colab_type": "code",
        "colab": {}
      },
      "source": [
        "import pandas as pd\n",
        "import numpy as np\n",
        "import matplotlib.pyplot as plt\n",
        "import seaborn as sns\n",
        "\n",
        "from statsmodels.formula.api import ols\n",
        "from statsmodels.api import qqplot, add_constant\n",
        "import statsmodels.formula.api as smf \n",
        "from statsmodels.tools.eval_measures import rmse  # 추정의 표준오차\n",
        "%matplotlib inline\n",
        "\n",
        "from sklearn.tree import export_graphviz\n",
        "import graphviz\n",
        "\n",
        "from sklearn.neighbors import KNeighborsRegressor as KNR\n",
        "from sklearn.preprocessing import StandardScaler\n",
        "from sklearn.model_selection import train_test_split\n",
        "from sklearn.model_selection import GridSearchCV   # cross validation(구버전)"
      ],
      "execution_count": 0,
      "outputs": []
    },
    {
      "cell_type": "code",
      "metadata": {
        "id": "A1ctDVhdLPBw",
        "colab_type": "code",
        "colab": {
          "base_uri": "https://localhost:8080/",
          "height": 195
        },
        "outputId": "47d01571-6e99-448b-b601-7092cccae119"
      },
      "source": [
        "df_raw=pd.read_csv(\"/content/drive/My Drive/BigDataAnalysis/DIABETES.csv\", engine=\"python\")\n",
        "df_raw.head()"
      ],
      "execution_count": 38,
      "outputs": [
        {
          "output_type": "execute_result",
          "data": {
            "text/html": [
              "<div>\n",
              "<style scoped>\n",
              "    .dataframe tbody tr th:only-of-type {\n",
              "        vertical-align: middle;\n",
              "    }\n",
              "\n",
              "    .dataframe tbody tr th {\n",
              "        vertical-align: top;\n",
              "    }\n",
              "\n",
              "    .dataframe thead th {\n",
              "        text-align: right;\n",
              "    }\n",
              "</style>\n",
              "<table border=\"1\" class=\"dataframe\">\n",
              "  <thead>\n",
              "    <tr style=\"text-align: right;\">\n",
              "      <th></th>\n",
              "      <th>Y</th>\n",
              "      <th>AGE</th>\n",
              "      <th>GENDER</th>\n",
              "      <th>BMI</th>\n",
              "      <th>BP</th>\n",
              "      <th>CHOLESTEROL</th>\n",
              "      <th>LDL</th>\n",
              "      <th>HDL</th>\n",
              "      <th>TCH</th>\n",
              "      <th>LTG</th>\n",
              "      <th>GLUCOSE</th>\n",
              "    </tr>\n",
              "  </thead>\n",
              "  <tbody>\n",
              "    <tr>\n",
              "      <th>0</th>\n",
              "      <td>151</td>\n",
              "      <td>59</td>\n",
              "      <td>2</td>\n",
              "      <td>32.1</td>\n",
              "      <td>101.0</td>\n",
              "      <td>157</td>\n",
              "      <td>93.2</td>\n",
              "      <td>38.0</td>\n",
              "      <td>4.0</td>\n",
              "      <td>4.8598</td>\n",
              "      <td>87</td>\n",
              "    </tr>\n",
              "    <tr>\n",
              "      <th>1</th>\n",
              "      <td>75</td>\n",
              "      <td>48</td>\n",
              "      <td>1</td>\n",
              "      <td>21.6</td>\n",
              "      <td>87.0</td>\n",
              "      <td>183</td>\n",
              "      <td>103.2</td>\n",
              "      <td>70.0</td>\n",
              "      <td>3.0</td>\n",
              "      <td>3.8918</td>\n",
              "      <td>69</td>\n",
              "    </tr>\n",
              "    <tr>\n",
              "      <th>2</th>\n",
              "      <td>141</td>\n",
              "      <td>72</td>\n",
              "      <td>2</td>\n",
              "      <td>30.5</td>\n",
              "      <td>93.0</td>\n",
              "      <td>156</td>\n",
              "      <td>93.6</td>\n",
              "      <td>41.0</td>\n",
              "      <td>4.0</td>\n",
              "      <td>4.6728</td>\n",
              "      <td>85</td>\n",
              "    </tr>\n",
              "    <tr>\n",
              "      <th>3</th>\n",
              "      <td>206</td>\n",
              "      <td>24</td>\n",
              "      <td>1</td>\n",
              "      <td>25.3</td>\n",
              "      <td>84.0</td>\n",
              "      <td>198</td>\n",
              "      <td>131.4</td>\n",
              "      <td>40.0</td>\n",
              "      <td>5.0</td>\n",
              "      <td>4.8903</td>\n",
              "      <td>89</td>\n",
              "    </tr>\n",
              "    <tr>\n",
              "      <th>4</th>\n",
              "      <td>135</td>\n",
              "      <td>50</td>\n",
              "      <td>1</td>\n",
              "      <td>23.0</td>\n",
              "      <td>101.0</td>\n",
              "      <td>192</td>\n",
              "      <td>125.4</td>\n",
              "      <td>52.0</td>\n",
              "      <td>4.0</td>\n",
              "      <td>4.2905</td>\n",
              "      <td>80</td>\n",
              "    </tr>\n",
              "  </tbody>\n",
              "</table>\n",
              "</div>"
            ],
            "text/plain": [
              "     Y  AGE  GENDER   BMI     BP  ...    LDL   HDL  TCH     LTG  GLUCOSE\n",
              "0  151   59       2  32.1  101.0  ...   93.2  38.0  4.0  4.8598       87\n",
              "1   75   48       1  21.6   87.0  ...  103.2  70.0  3.0  3.8918       69\n",
              "2  141   72       2  30.5   93.0  ...   93.6  41.0  4.0  4.6728       85\n",
              "3  206   24       1  25.3   84.0  ...  131.4  40.0  5.0  4.8903       89\n",
              "4  135   50       1  23.0  101.0  ...  125.4  52.0  4.0  4.2905       80\n",
              "\n",
              "[5 rows x 11 columns]"
            ]
          },
          "metadata": {
            "tags": []
          },
          "execution_count": 38
        }
      ]
    },
    {
      "cell_type": "code",
      "metadata": {
        "id": "hHFBmuqeLUhn",
        "colab_type": "code",
        "colab": {}
      },
      "source": [
        "df_raw_y = df_raw[\"Y\"]\n",
        "df_raw_x = df_raw.drop(\"Y\", axis = 1)"
      ],
      "execution_count": 0,
      "outputs": []
    },
    {
      "cell_type": "code",
      "metadata": {
        "id": "nWjqN9ZaL2T0",
        "colab_type": "code",
        "outputId": "cac7c26d-cbc6-4668-d919-e54611d71eaa",
        "colab": {
          "base_uri": "https://localhost:8080/",
          "height": 52
        }
      },
      "source": [
        "df_train_x, df_test_x, df_train_y, df_test_y = train_test_split(df_raw, df_raw_y, test_size = 0.3, random_state =8) \n",
        "print(\"train data X size: {}\".format(df_train_x.shape))\n",
        "print(\"test data X size: {}\".format(df_test_x.shape))"
      ],
      "execution_count": 41,
      "outputs": [
        {
          "output_type": "stream",
          "text": [
            "train data X size: (309, 11)\n",
            "test data X size: (133, 11)\n"
          ],
          "name": "stdout"
        }
      ]
    },
    {
      "cell_type": "code",
      "metadata": {
        "id": "hqz8-jJlL__Y",
        "colab_type": "code",
        "outputId": "3b11b675-2e15-4699-c9a8-40a7621ee861",
        "colab": {
          "base_uri": "https://localhost:8080/",
          "height": 52
        }
      },
      "source": [
        "knn_uncustomized = KNR()\n",
        "knn_uncustomized.fit(df_train_x, df_train_y)\n",
        "\n",
        "print(\"Scoring on training set: {:.3f}\".format(knn_uncustomized.score(df_train_x, df_train_y)))\n",
        "print(\"Scoring on test set: {:.3f}\".format(knn_uncustomized.score(df_test_x, df_test_y)))"
      ],
      "execution_count": 42,
      "outputs": [
        {
          "output_type": "stream",
          "text": [
            "Scoring on training set: 0.994\n",
            "Scoring on test set: 0.991\n"
          ],
          "name": "stdout"
        }
      ]
    },
    {
      "cell_type": "code",
      "metadata": {
        "id": "KV8uqC8wMf97",
        "colab_type": "code",
        "outputId": "f2cf0def-efbe-41e7-d818-74b9e0418928",
        "colab": {
          "base_uri": "https://localhost:8080/",
          "height": 70
        }
      },
      "source": [
        "knn_uncustomized"
      ],
      "execution_count": 24,
      "outputs": [
        {
          "output_type": "execute_result",
          "data": {
            "text/plain": [
              "KNeighborsRegressor(algorithm='auto', leaf_size=30, metric='minkowski',\n",
              "                    metric_params=None, n_jobs=None, n_neighbors=5, p=2,\n",
              "                    weights='uniform')"
            ]
          },
          "metadata": {
            "tags": []
          },
          "execution_count": 24
        }
      ]
    },
    {
      "cell_type": "code",
      "metadata": {
        "id": "lAnHxTnvMsip",
        "colab_type": "code",
        "outputId": "73c9f1c2-9660-4608-dc4c-283028059211",
        "colab": {
          "base_uri": "https://localhost:8080/",
          "height": 491
        }
      },
      "source": [
        "train_score=[]; test_score=[]\n",
        "\n",
        "para_n_neighbors = [ i for i in range(1,16)]\n",
        "\n",
        "for v_n_neighbors in para_n_neighbors:\n",
        "    knn=KNR(n_neighbors=v_n_neighbors)\n",
        "    knn.fit(df_train_x, df_train_y)\n",
        "    train_score.append(knn.score(df_train_x, df_train_y))\n",
        "    test_score.append(knn.score(df_test_x, df_test_y))\n",
        "    \n",
        "df_score_knn = pd.DataFrame()\n",
        "df_score_knn[\"Neighbors\"] = para_n_neighbors\n",
        "df_score_knn[\"TrainScore\"]=train_score\n",
        "df_score_knn[\"TestScore\"]=test_score\n",
        "\n",
        "df_score_knn.round(3)    "
      ],
      "execution_count": 25,
      "outputs": [
        {
          "output_type": "execute_result",
          "data": {
            "text/html": [
              "<div>\n",
              "<style scoped>\n",
              "    .dataframe tbody tr th:only-of-type {\n",
              "        vertical-align: middle;\n",
              "    }\n",
              "\n",
              "    .dataframe tbody tr th {\n",
              "        vertical-align: top;\n",
              "    }\n",
              "\n",
              "    .dataframe thead th {\n",
              "        text-align: right;\n",
              "    }\n",
              "</style>\n",
              "<table border=\"1\" class=\"dataframe\">\n",
              "  <thead>\n",
              "    <tr style=\"text-align: right;\">\n",
              "      <th></th>\n",
              "      <th>Neighbors</th>\n",
              "      <th>TrainScore</th>\n",
              "      <th>TestScore</th>\n",
              "    </tr>\n",
              "  </thead>\n",
              "  <tbody>\n",
              "    <tr>\n",
              "      <th>0</th>\n",
              "      <td>1</td>\n",
              "      <td>1.000</td>\n",
              "      <td>0.980</td>\n",
              "    </tr>\n",
              "    <tr>\n",
              "      <th>1</th>\n",
              "      <td>2</td>\n",
              "      <td>0.995</td>\n",
              "      <td>0.987</td>\n",
              "    </tr>\n",
              "    <tr>\n",
              "      <th>2</th>\n",
              "      <td>3</td>\n",
              "      <td>0.994</td>\n",
              "      <td>0.990</td>\n",
              "    </tr>\n",
              "    <tr>\n",
              "      <th>3</th>\n",
              "      <td>4</td>\n",
              "      <td>0.994</td>\n",
              "      <td>0.991</td>\n",
              "    </tr>\n",
              "    <tr>\n",
              "      <th>4</th>\n",
              "      <td>5</td>\n",
              "      <td>0.994</td>\n",
              "      <td>0.991</td>\n",
              "    </tr>\n",
              "    <tr>\n",
              "      <th>5</th>\n",
              "      <td>6</td>\n",
              "      <td>0.994</td>\n",
              "      <td>0.992</td>\n",
              "    </tr>\n",
              "    <tr>\n",
              "      <th>6</th>\n",
              "      <td>7</td>\n",
              "      <td>0.993</td>\n",
              "      <td>0.992</td>\n",
              "    </tr>\n",
              "    <tr>\n",
              "      <th>7</th>\n",
              "      <td>8</td>\n",
              "      <td>0.993</td>\n",
              "      <td>0.991</td>\n",
              "    </tr>\n",
              "    <tr>\n",
              "      <th>8</th>\n",
              "      <td>9</td>\n",
              "      <td>0.993</td>\n",
              "      <td>0.990</td>\n",
              "    </tr>\n",
              "    <tr>\n",
              "      <th>9</th>\n",
              "      <td>10</td>\n",
              "      <td>0.993</td>\n",
              "      <td>0.989</td>\n",
              "    </tr>\n",
              "    <tr>\n",
              "      <th>10</th>\n",
              "      <td>11</td>\n",
              "      <td>0.992</td>\n",
              "      <td>0.988</td>\n",
              "    </tr>\n",
              "    <tr>\n",
              "      <th>11</th>\n",
              "      <td>12</td>\n",
              "      <td>0.992</td>\n",
              "      <td>0.988</td>\n",
              "    </tr>\n",
              "    <tr>\n",
              "      <th>12</th>\n",
              "      <td>13</td>\n",
              "      <td>0.992</td>\n",
              "      <td>0.987</td>\n",
              "    </tr>\n",
              "    <tr>\n",
              "      <th>13</th>\n",
              "      <td>14</td>\n",
              "      <td>0.991</td>\n",
              "      <td>0.987</td>\n",
              "    </tr>\n",
              "    <tr>\n",
              "      <th>14</th>\n",
              "      <td>15</td>\n",
              "      <td>0.991</td>\n",
              "      <td>0.987</td>\n",
              "    </tr>\n",
              "  </tbody>\n",
              "</table>\n",
              "</div>"
            ],
            "text/plain": [
              "    Neighbors  TrainScore  TestScore\n",
              "0           1       1.000      0.980\n",
              "1           2       0.995      0.987\n",
              "2           3       0.994      0.990\n",
              "3           4       0.994      0.991\n",
              "4           5       0.994      0.991\n",
              "5           6       0.994      0.992\n",
              "6           7       0.993      0.992\n",
              "7           8       0.993      0.991\n",
              "8           9       0.993      0.990\n",
              "9          10       0.993      0.989\n",
              "10         11       0.992      0.988\n",
              "11         12       0.992      0.988\n",
              "12         13       0.992      0.987\n",
              "13         14       0.991      0.987\n",
              "14         15       0.991      0.987"
            ]
          },
          "metadata": {
            "tags": []
          },
          "execution_count": 25
        }
      ]
    },
    {
      "cell_type": "code",
      "metadata": {
        "id": "8Csz_xn4Ngme",
        "colab_type": "code",
        "outputId": "74faa883-ec42-414d-9ab7-4791984cc2c3",
        "colab": {
          "base_uri": "https://localhost:8080/",
          "height": 302
        }
      },
      "source": [
        "plt.plot(para_n_neighbors, train_score, linestyle = \"-\", label = \"Train Score\")\n",
        "plt.plot(para_n_neighbors, test_score, linestyle = \"--\", label = \"Test Score\")\n",
        "plt.ylabel(\"score\"); plt.xlabel(\"n_neighbors\")\n",
        "plt.legend()"
      ],
      "execution_count": 26,
      "outputs": [
        {
          "output_type": "execute_result",
          "data": {
            "text/plain": [
              "<matplotlib.legend.Legend at 0x7f9cc2ec69e8>"
            ]
          },
          "metadata": {
            "tags": []
          },
          "execution_count": 26
        },
        {
          "output_type": "display_data",
          "data": {
            "image/png": "[encoded data removed]",
            "text/plain": [
              "<Figure size 432x288 with 1 Axes>"
            ]
          },
          "metadata": {
            "tags": []
          }
        }
      ]
    },
    {
      "cell_type": "code",
      "metadata": {
        "id": "a7otP6e9NxFF",
        "colab_type": "code",
        "colab": {}
      },
      "source": [
        "train_score=[]; test_score=[]\n",
        "\n",
        "para_n_neighbors = [ i for i in range(1,11)] * 2\n",
        "\n",
        "para_weights = ([\"uniform\"]*10) + ([\"distance\"]*10)\n",
        "\n",
        "for (v_n_neighbors, v_weights) in zip(para_n_neighbors, para_weights):\n",
        "    knn=KNR(n_neighbors=v_n_neighbors, weights = v_weights)\n",
        "    knn.fit(df_train_x, df_train_y)\n",
        "    train_score.append(knn.score(df_train_x, df_train_y))\n",
        "    test_score.append(knn.score(df_test_x, df_test_y))\n",
        "    \n",
        "df_score_weight = pd.DataFrame()\n",
        "df_score_weight[\"Neighbors\"] = para_n_neighbors\n",
        "df_score_weight[\"Weights\"] = para_weights\n",
        "df_score_weight[\"TrainScore\"]=train_score\n",
        "df_score_weight[\"TestScore\"]=test_score"
      ],
      "execution_count": 0,
      "outputs": []
    },
    {
      "cell_type": "code",
      "metadata": {
        "id": "amOJQ01NOXRR",
        "colab_type": "code",
        "outputId": "2ed14d63-4b01-4cab-a0ca-5da94cbb7efc",
        "colab": {
          "base_uri": "https://localhost:8080/",
          "height": 254
        }
      },
      "source": [
        "df_score_weight_pivot = df_score_weight.pivot(index = \"Neighbors\", columns = \"Weights\", values=[\"TrainScore\",\"TestScore\"])\n",
        "df_score_weight_pivot.head()"
      ],
      "execution_count": 28,
      "outputs": [
        {
          "output_type": "execute_result",
          "data": {
            "text/html": [
              "<div>\n",
              "<style scoped>\n",
              "    .dataframe tbody tr th:only-of-type {\n",
              "        vertical-align: middle;\n",
              "    }\n",
              "\n",
              "    .dataframe tbody tr th {\n",
              "        vertical-align: top;\n",
              "    }\n",
              "\n",
              "    .dataframe thead tr th {\n",
              "        text-align: left;\n",
              "    }\n",
              "\n",
              "    .dataframe thead tr:last-of-type th {\n",
              "        text-align: right;\n",
              "    }\n",
              "</style>\n",
              "<table border=\"1\" class=\"dataframe\">\n",
              "  <thead>\n",
              "    <tr>\n",
              "      <th></th>\n",
              "      <th colspan=\"2\" halign=\"left\">TrainScore</th>\n",
              "      <th colspan=\"2\" halign=\"left\">TestScore</th>\n",
              "    </tr>\n",
              "    <tr>\n",
              "      <th>Weights</th>\n",
              "      <th>distance</th>\n",
              "      <th>uniform</th>\n",
              "      <th>distance</th>\n",
              "      <th>uniform</th>\n",
              "    </tr>\n",
              "    <tr>\n",
              "      <th>Neighbors</th>\n",
              "      <th></th>\n",
              "      <th></th>\n",
              "      <th></th>\n",
              "      <th></th>\n",
              "    </tr>\n",
              "  </thead>\n",
              "  <tbody>\n",
              "    <tr>\n",
              "      <th>1</th>\n",
              "      <td>1.0</td>\n",
              "      <td>1.000000</td>\n",
              "      <td>0.979583</td>\n",
              "      <td>0.979583</td>\n",
              "    </tr>\n",
              "    <tr>\n",
              "      <th>2</th>\n",
              "      <td>1.0</td>\n",
              "      <td>0.994657</td>\n",
              "      <td>0.987195</td>\n",
              "      <td>0.987083</td>\n",
              "    </tr>\n",
              "    <tr>\n",
              "      <th>3</th>\n",
              "      <td>1.0</td>\n",
              "      <td>0.994043</td>\n",
              "      <td>0.990678</td>\n",
              "      <td>0.990255</td>\n",
              "    </tr>\n",
              "    <tr>\n",
              "      <th>4</th>\n",
              "      <td>1.0</td>\n",
              "      <td>0.993720</td>\n",
              "      <td>0.991472</td>\n",
              "      <td>0.990988</td>\n",
              "    </tr>\n",
              "    <tr>\n",
              "      <th>5</th>\n",
              "      <td>1.0</td>\n",
              "      <td>0.993864</td>\n",
              "      <td>0.991827</td>\n",
              "      <td>0.991319</td>\n",
              "    </tr>\n",
              "  </tbody>\n",
              "</table>\n",
              "</div>"
            ],
            "text/plain": [
              "          TrainScore           TestScore          \n",
              "Weights     distance   uniform  distance   uniform\n",
              "Neighbors                                         \n",
              "1                1.0  1.000000  0.979583  0.979583\n",
              "2                1.0  0.994657  0.987195  0.987083\n",
              "3                1.0  0.994043  0.990678  0.990255\n",
              "4                1.0  0.993720  0.991472  0.990988\n",
              "5                1.0  0.993864  0.991827  0.991319"
            ]
          },
          "metadata": {
            "tags": []
          },
          "execution_count": 28
        }
      ]
    },
    {
      "cell_type": "code",
      "metadata": {
        "id": "Gie8YktQOsae",
        "colab_type": "code",
        "outputId": "b8a0d50d-ebc2-4ec8-d16a-83fa5c83550a",
        "colab": {
          "base_uri": "https://localhost:8080/",
          "height": 225
        }
      },
      "source": [
        "level0 = df_score_weight_pivot.columns.get_level_values(0)\n",
        "level1 = df_score_weight_pivot.columns.get_level_values(1)\n",
        "df_score_weight_pivot.columns = level0 + \"_\" + level1\n",
        "df_score_weight_pivot.head()\n"
      ],
      "execution_count": 29,
      "outputs": [
        {
          "output_type": "execute_result",
          "data": {
            "text/html": [
              "<div>\n",
              "<style scoped>\n",
              "    .dataframe tbody tr th:only-of-type {\n",
              "        vertical-align: middle;\n",
              "    }\n",
              "\n",
              "    .dataframe tbody tr th {\n",
              "        vertical-align: top;\n",
              "    }\n",
              "\n",
              "    .dataframe thead th {\n",
              "        text-align: right;\n",
              "    }\n",
              "</style>\n",
              "<table border=\"1\" class=\"dataframe\">\n",
              "  <thead>\n",
              "    <tr style=\"text-align: right;\">\n",
              "      <th></th>\n",
              "      <th>TrainScore_distance</th>\n",
              "      <th>TrainScore_uniform</th>\n",
              "      <th>TestScore_distance</th>\n",
              "      <th>TestScore_uniform</th>\n",
              "    </tr>\n",
              "    <tr>\n",
              "      <th>Neighbors</th>\n",
              "      <th></th>\n",
              "      <th></th>\n",
              "      <th></th>\n",
              "      <th></th>\n",
              "    </tr>\n",
              "  </thead>\n",
              "  <tbody>\n",
              "    <tr>\n",
              "      <th>1</th>\n",
              "      <td>1.0</td>\n",
              "      <td>1.000000</td>\n",
              "      <td>0.979583</td>\n",
              "      <td>0.979583</td>\n",
              "    </tr>\n",
              "    <tr>\n",
              "      <th>2</th>\n",
              "      <td>1.0</td>\n",
              "      <td>0.994657</td>\n",
              "      <td>0.987195</td>\n",
              "      <td>0.987083</td>\n",
              "    </tr>\n",
              "    <tr>\n",
              "      <th>3</th>\n",
              "      <td>1.0</td>\n",
              "      <td>0.994043</td>\n",
              "      <td>0.990678</td>\n",
              "      <td>0.990255</td>\n",
              "    </tr>\n",
              "    <tr>\n",
              "      <th>4</th>\n",
              "      <td>1.0</td>\n",
              "      <td>0.993720</td>\n",
              "      <td>0.991472</td>\n",
              "      <td>0.990988</td>\n",
              "    </tr>\n",
              "    <tr>\n",
              "      <th>5</th>\n",
              "      <td>1.0</td>\n",
              "      <td>0.993864</td>\n",
              "      <td>0.991827</td>\n",
              "      <td>0.991319</td>\n",
              "    </tr>\n",
              "  </tbody>\n",
              "</table>\n",
              "</div>"
            ],
            "text/plain": [
              "           TrainScore_distance  ...  TestScore_uniform\n",
              "Neighbors                       ...                   \n",
              "1                          1.0  ...           0.979583\n",
              "2                          1.0  ...           0.987083\n",
              "3                          1.0  ...           0.990255\n",
              "4                          1.0  ...           0.990988\n",
              "5                          1.0  ...           0.991319\n",
              "\n",
              "[5 rows x 4 columns]"
            ]
          },
          "metadata": {
            "tags": []
          },
          "execution_count": 29
        }
      ]
    },
    {
      "cell_type": "code",
      "metadata": {
        "id": "DMJcaLLEPFt5",
        "colab_type": "code",
        "outputId": "ce78de9e-96a7-4a05-aa99-b12fb2f100e6",
        "colab": {
          "base_uri": "https://localhost:8080/",
          "height": 301
        }
      },
      "source": [
        "sns.lineplot(data = df_score_weight_pivot)"
      ],
      "execution_count": 30,
      "outputs": [
        {
          "output_type": "execute_result",
          "data": {
            "text/plain": [
              "<matplotlib.axes._subplots.AxesSubplot at 0x7f9cc2e7c668>"
            ]
          },
          "metadata": {
            "tags": []
          },
          "execution_count": 30
        },
        {
          "output_type": "display_data",
          "data": {
            "image/png": "[encoded data removed]",
            "text/plain": [
              "<Figure size 432x288 with 1 Axes>"
            ]
          },
          "metadata": {
            "tags": []
          }
        }
      ]
    },
    {
      "cell_type": "code",
      "metadata": {
        "id": "PmALmKaBPVm4",
        "colab_type": "code",
        "colab": {}
      },
      "source": [
        "train_score=[]; test_score=[]\n",
        "\n",
        "para_n_neighbors = [ i for i in range(1,11)] * 3\n",
        "\n",
        "para_metric = [\"minkowski\"]*10 + [\"euclidean\"]*10 + [\"manhattan\"]*10\n",
        "\n",
        "for (v_n_neighbors, v_metric) in zip(para_n_neighbors, para_metric):\n",
        "    knn=KNR( n_neighbors = v_n_neighbors, weights = 'uniform', metric = v_metric)\n",
        "    knn.fit(df_train_x, df_train_y)\n",
        "    train_score.append(knn.score(df_train_x, df_train_y))\n",
        "    test_score.append(knn.score(df_test_x, df_test_y))\n",
        "    \n",
        "df_score_metric = pd.DataFrame()\n",
        "df_score_metric[\"Neighbors\"] = para_n_neighbors\n",
        "df_score_metric[\"Metric\"] = para_metric\n",
        "df_score_metric[\"TrainScore\"]=train_score\n",
        "df_score_metric[\"TestScore\"]=test_score"
      ],
      "execution_count": 0,
      "outputs": []
    },
    {
      "cell_type": "code",
      "metadata": {
        "id": "LloADySUhlSO",
        "colab_type": "code",
        "outputId": "e337db5b-382a-47d7-e557-fe1c0ece4903",
        "colab": {
          "base_uri": "https://localhost:8080/",
          "height": 935
        }
      },
      "source": [
        "df_score_metric.round(3)"
      ],
      "execution_count": 32,
      "outputs": [
        {
          "output_type": "execute_result",
          "data": {
            "text/html": [
              "<div>\n",
              "<style scoped>\n",
              "    .dataframe tbody tr th:only-of-type {\n",
              "        vertical-align: middle;\n",
              "    }\n",
              "\n",
              "    .dataframe tbody tr th {\n",
              "        vertical-align: top;\n",
              "    }\n",
              "\n",
              "    .dataframe thead th {\n",
              "        text-align: right;\n",
              "    }\n",
              "</style>\n",
              "<table border=\"1\" class=\"dataframe\">\n",
              "  <thead>\n",
              "    <tr style=\"text-align: right;\">\n",
              "      <th></th>\n",
              "      <th>Neighbors</th>\n",
              "      <th>Metric</th>\n",
              "      <th>TrainScore</th>\n",
              "      <th>TestScore</th>\n",
              "    </tr>\n",
              "  </thead>\n",
              "  <tbody>\n",
              "    <tr>\n",
              "      <th>0</th>\n",
              "      <td>1</td>\n",
              "      <td>minkowski</td>\n",
              "      <td>1.000</td>\n",
              "      <td>0.980</td>\n",
              "    </tr>\n",
              "    <tr>\n",
              "      <th>1</th>\n",
              "      <td>2</td>\n",
              "      <td>minkowski</td>\n",
              "      <td>0.995</td>\n",
              "      <td>0.987</td>\n",
              "    </tr>\n",
              "    <tr>\n",
              "      <th>2</th>\n",
              "      <td>3</td>\n",
              "      <td>minkowski</td>\n",
              "      <td>0.994</td>\n",
              "      <td>0.990</td>\n",
              "    </tr>\n",
              "    <tr>\n",
              "      <th>3</th>\n",
              "      <td>4</td>\n",
              "      <td>minkowski</td>\n",
              "      <td>0.994</td>\n",
              "      <td>0.991</td>\n",
              "    </tr>\n",
              "    <tr>\n",
              "      <th>4</th>\n",
              "      <td>5</td>\n",
              "      <td>minkowski</td>\n",
              "      <td>0.994</td>\n",
              "      <td>0.991</td>\n",
              "    </tr>\n",
              "    <tr>\n",
              "      <th>5</th>\n",
              "      <td>6</td>\n",
              "      <td>minkowski</td>\n",
              "      <td>0.994</td>\n",
              "      <td>0.992</td>\n",
              "    </tr>\n",
              "    <tr>\n",
              "      <th>6</th>\n",
              "      <td>7</td>\n",
              "      <td>minkowski</td>\n",
              "      <td>0.993</td>\n",
              "      <td>0.992</td>\n",
              "    </tr>\n",
              "    <tr>\n",
              "      <th>7</th>\n",
              "      <td>8</td>\n",
              "      <td>minkowski</td>\n",
              "      <td>0.993</td>\n",
              "      <td>0.991</td>\n",
              "    </tr>\n",
              "    <tr>\n",
              "      <th>8</th>\n",
              "      <td>9</td>\n",
              "      <td>minkowski</td>\n",
              "      <td>0.993</td>\n",
              "      <td>0.990</td>\n",
              "    </tr>\n",
              "    <tr>\n",
              "      <th>9</th>\n",
              "      <td>10</td>\n",
              "      <td>minkowski</td>\n",
              "      <td>0.993</td>\n",
              "      <td>0.989</td>\n",
              "    </tr>\n",
              "    <tr>\n",
              "      <th>10</th>\n",
              "      <td>1</td>\n",
              "      <td>euclidean</td>\n",
              "      <td>1.000</td>\n",
              "      <td>0.980</td>\n",
              "    </tr>\n",
              "    <tr>\n",
              "      <th>11</th>\n",
              "      <td>2</td>\n",
              "      <td>euclidean</td>\n",
              "      <td>0.995</td>\n",
              "      <td>0.987</td>\n",
              "    </tr>\n",
              "    <tr>\n",
              "      <th>12</th>\n",
              "      <td>3</td>\n",
              "      <td>euclidean</td>\n",
              "      <td>0.994</td>\n",
              "      <td>0.990</td>\n",
              "    </tr>\n",
              "    <tr>\n",
              "      <th>13</th>\n",
              "      <td>4</td>\n",
              "      <td>euclidean</td>\n",
              "      <td>0.994</td>\n",
              "      <td>0.991</td>\n",
              "    </tr>\n",
              "    <tr>\n",
              "      <th>14</th>\n",
              "      <td>5</td>\n",
              "      <td>euclidean</td>\n",
              "      <td>0.994</td>\n",
              "      <td>0.991</td>\n",
              "    </tr>\n",
              "    <tr>\n",
              "      <th>15</th>\n",
              "      <td>6</td>\n",
              "      <td>euclidean</td>\n",
              "      <td>0.994</td>\n",
              "      <td>0.992</td>\n",
              "    </tr>\n",
              "    <tr>\n",
              "      <th>16</th>\n",
              "      <td>7</td>\n",
              "      <td>euclidean</td>\n",
              "      <td>0.993</td>\n",
              "      <td>0.992</td>\n",
              "    </tr>\n",
              "    <tr>\n",
              "      <th>17</th>\n",
              "      <td>8</td>\n",
              "      <td>euclidean</td>\n",
              "      <td>0.993</td>\n",
              "      <td>0.991</td>\n",
              "    </tr>\n",
              "    <tr>\n",
              "      <th>18</th>\n",
              "      <td>9</td>\n",
              "      <td>euclidean</td>\n",
              "      <td>0.993</td>\n",
              "      <td>0.990</td>\n",
              "    </tr>\n",
              "    <tr>\n",
              "      <th>19</th>\n",
              "      <td>10</td>\n",
              "      <td>euclidean</td>\n",
              "      <td>0.993</td>\n",
              "      <td>0.989</td>\n",
              "    </tr>\n",
              "    <tr>\n",
              "      <th>20</th>\n",
              "      <td>1</td>\n",
              "      <td>manhattan</td>\n",
              "      <td>1.000</td>\n",
              "      <td>0.974</td>\n",
              "    </tr>\n",
              "    <tr>\n",
              "      <th>21</th>\n",
              "      <td>2</td>\n",
              "      <td>manhattan</td>\n",
              "      <td>0.993</td>\n",
              "      <td>0.981</td>\n",
              "    </tr>\n",
              "    <tr>\n",
              "      <th>22</th>\n",
              "      <td>3</td>\n",
              "      <td>manhattan</td>\n",
              "      <td>0.992</td>\n",
              "      <td>0.984</td>\n",
              "    </tr>\n",
              "    <tr>\n",
              "      <th>23</th>\n",
              "      <td>4</td>\n",
              "      <td>manhattan</td>\n",
              "      <td>0.992</td>\n",
              "      <td>0.983</td>\n",
              "    </tr>\n",
              "    <tr>\n",
              "      <th>24</th>\n",
              "      <td>5</td>\n",
              "      <td>manhattan</td>\n",
              "      <td>0.991</td>\n",
              "      <td>0.985</td>\n",
              "    </tr>\n",
              "    <tr>\n",
              "      <th>25</th>\n",
              "      <td>6</td>\n",
              "      <td>manhattan</td>\n",
              "      <td>0.991</td>\n",
              "      <td>0.985</td>\n",
              "    </tr>\n",
              "    <tr>\n",
              "      <th>26</th>\n",
              "      <td>7</td>\n",
              "      <td>manhattan</td>\n",
              "      <td>0.991</td>\n",
              "      <td>0.985</td>\n",
              "    </tr>\n",
              "    <tr>\n",
              "      <th>27</th>\n",
              "      <td>8</td>\n",
              "      <td>manhattan</td>\n",
              "      <td>0.990</td>\n",
              "      <td>0.985</td>\n",
              "    </tr>\n",
              "    <tr>\n",
              "      <th>28</th>\n",
              "      <td>9</td>\n",
              "      <td>manhattan</td>\n",
              "      <td>0.990</td>\n",
              "      <td>0.985</td>\n",
              "    </tr>\n",
              "    <tr>\n",
              "      <th>29</th>\n",
              "      <td>10</td>\n",
              "      <td>manhattan</td>\n",
              "      <td>0.989</td>\n",
              "      <td>0.985</td>\n",
              "    </tr>\n",
              "  </tbody>\n",
              "</table>\n",
              "</div>"
            ],
            "text/plain": [
              "    Neighbors     Metric  TrainScore  TestScore\n",
              "0           1  minkowski       1.000      0.980\n",
              "1           2  minkowski       0.995      0.987\n",
              "2           3  minkowski       0.994      0.990\n",
              "3           4  minkowski       0.994      0.991\n",
              "4           5  minkowski       0.994      0.991\n",
              "5           6  minkowski       0.994      0.992\n",
              "6           7  minkowski       0.993      0.992\n",
              "7           8  minkowski       0.993      0.991\n",
              "8           9  minkowski       0.993      0.990\n",
              "9          10  minkowski       0.993      0.989\n",
              "10          1  euclidean       1.000      0.980\n",
              "11          2  euclidean       0.995      0.987\n",
              "12          3  euclidean       0.994      0.990\n",
              "13          4  euclidean       0.994      0.991\n",
              "14          5  euclidean       0.994      0.991\n",
              "15          6  euclidean       0.994      0.992\n",
              "16          7  euclidean       0.993      0.992\n",
              "17          8  euclidean       0.993      0.991\n",
              "18          9  euclidean       0.993      0.990\n",
              "19         10  euclidean       0.993      0.989\n",
              "20          1  manhattan       1.000      0.974\n",
              "21          2  manhattan       0.993      0.981\n",
              "22          3  manhattan       0.992      0.984\n",
              "23          4  manhattan       0.992      0.983\n",
              "24          5  manhattan       0.991      0.985\n",
              "25          6  manhattan       0.991      0.985\n",
              "26          7  manhattan       0.991      0.985\n",
              "27          8  manhattan       0.990      0.985\n",
              "28          9  manhattan       0.990      0.985\n",
              "29         10  manhattan       0.989      0.985"
            ]
          },
          "metadata": {
            "tags": []
          },
          "execution_count": 32
        }
      ]
    },
    {
      "cell_type": "code",
      "metadata": {
        "id": "9zszS-wuhlUn",
        "colab_type": "code",
        "outputId": "63858022-6033-43c7-c81f-e537d63078d7",
        "colab": {
          "base_uri": "https://localhost:8080/",
          "height": 301
        }
      },
      "source": [
        "df_score_metric_pivot = df_score_metric.pivot(index = \"Neighbors\", columns = \"Metric\", values = [\"TrainScore\",\"TestScore\"])\n",
        "level0 = df_score_metric_pivot.columns.get_level_values(0)\n",
        "level1 = df_score_metric_pivot.columns.get_level_values(1)\n",
        "df_score_metric_pivot.columns = level0 + \"_\" + level1\n",
        "sns.lineplot(data= df_score_metric_pivot)"
      ],
      "execution_count": 33,
      "outputs": [
        {
          "output_type": "execute_result",
          "data": {
            "text/plain": [
              "<matplotlib.axes._subplots.AxesSubplot at 0x7f9cc2eb10f0>"
            ]
          },
          "metadata": {
            "tags": []
          },
          "execution_count": 33
        },
        {
          "output_type": "display_data",
          "data": {
            "image/png": "[encoded data removed]",
            "text/plain": [
              "<Figure size 432x288 with 1 Axes>"
            ]
          },
          "metadata": {
            "tags": []
          }
        }
      ]
    },
    {
      "cell_type": "code",
      "metadata": {
        "id": "DA5TGSE8hlWg",
        "colab_type": "code",
        "outputId": "0514f33b-508f-4bab-c07a-d17e2a9f530e",
        "colab": {
          "base_uri": "https://localhost:8080/",
          "height": 52
        }
      },
      "source": [
        "knn_final = KNR(n_neighbors = 7, weights = \"uniform\", metric = \"euclidean\")\n",
        "knn_final.fit(df_train_x,df_train_y)\n",
        "\n",
        "print(\"Scoring on training set: {:.3f}\".format(knn_final.score(df_train_x, df_train_y)))\n",
        "print(\"Scoring on test set: {:.3f}\".format(knn_final.score(df_test_x, df_test_y)))"
      ],
      "execution_count": 36,
      "outputs": [
        {
          "output_type": "stream",
          "text": [
            "Scoring on training set: 0.993\n",
            "Scoring on test set: 0.992\n"
          ],
          "name": "stdout"
        }
      ]
    },
    {
      "cell_type": "code",
      "metadata": {
        "id": "E9-meIN8hlYd",
        "colab_type": "code",
        "outputId": "a2c5f3a7-3984-46ae-ee13-159221a025ca",
        "colab": {
          "base_uri": "https://localhost:8080/",
          "height": 248
        }
      },
      "source": [
        "estimator = KNR()\n",
        "\n",
        "param_grid = {\"n_neighbors\":para_n_neighbors, \"weights\":para_weights, \"metric\":para_metric}\n",
        "\n",
        "grid_dt = GridSearchCV(estimator, param_grid, scoring=\"r2\", n_jobs = -1)\n",
        "grid_dt.fit(df_train_x, df_train_y)\n",
        "print(\"best estimator model:\\n{}\".format(grid_dt.best_estimator_))\n",
        "print(\"\\nbest parameter:\\n{}\".format(grid_dt.best_params_))\n",
        "print(\"\\nbest score:\\n{}\".format(grid_dt.best_score_.round(3)))"
      ],
      "execution_count": 35,
      "outputs": [
        {
          "output_type": "stream",
          "text": [
            "/usr/local/lib/python3.6/dist-packages/sklearn/model_selection/_split.py:1978: FutureWarning: The default value of cv will change from 3 to 5 in version 0.22. Specify it explicitly to silence this warning.\n",
            "  warnings.warn(CV_WARNING, FutureWarning)\n"
          ],
          "name": "stderr"
        },
        {
          "output_type": "stream",
          "text": [
            "best estimator model:\n",
            "KNeighborsRegressor(algorithm='auto', leaf_size=30, metric='minkowski',\n",
            "                    metric_params=None, n_jobs=None, n_neighbors=7, p=2,\n",
            "                    weights='distance')\n",
            "\n",
            "best parameter:\n",
            "{'metric': 'minkowski', 'n_neighbors': 7, 'weights': 'distance'}\n",
            "\n",
            "best score:\n",
            "0.988\n"
          ],
          "name": "stdout"
        }
      ]
    },
    {
      "cell_type": "code",
      "metadata": {
        "id": "SgA8twGvl-CZ",
        "colab_type": "code",
        "colab": {}
      },
      "source": [
        ""
      ],
      "execution_count": 0,
      "outputs": []
    },
    {
      "cell_type": "markdown",
      "metadata": {
        "id": "fb24p6jHoN4h",
        "colab_type": "text"
      },
      "source": [
        "6개의 모델 중 KNN이 가장 연속형에 부적합함\n",
        "\n",
        "연속형에서\n",
        "\n",
        "다중회귀분석\n",
        "Decision Tree\n",
        "Random Forest\n",
        "Gradient Boosting\n",
        "SVM\n",
        "KNN\n",
        "\n",
        "\n",
        "[Parameter]\n",
        "유의한 변수 선택\n",
        "leaf, split, depth\n",
        "estimate, leaf, split, depth\n",
        "learning rate, estimate, leaf, split, depth\n",
        "C, gamma, epsilon,\n",
        "K, weight, metric\n",
        "\n",
        "[고려사항]\n",
        "다중회귀분석 - 다중공선성, 잔차\n",
        "SVM - scailng\n",
        "\n",
        "[Random state]\n",
        "x\n",
        "x\n",
        "o\n",
        "o\n",
        "x\n",
        "x\n",
        "\n",
        "분류형에서\n",
        "다중회귀분석 > 로지스틱회귀분석\n",
        "Decsion Tree 분리기준 : Gini, entrophy\n",
        "SVM에서 epsilon만 빠짐\n",
        "\n",
        "# 회귀식의 장점 : 식이 보인다, 최적화가 가능하다[다중회귀분석, 로지스틱회귀분석]\n"
      ]
    },
    {
      "cell_type": "code",
      "metadata": {
        "id": "URZqZxGhoR82",
        "colab_type": "code",
        "colab": {}
      },
      "source": [
        ""
      ],
      "execution_count": 0,
      "outputs": []
    }
  ]
}