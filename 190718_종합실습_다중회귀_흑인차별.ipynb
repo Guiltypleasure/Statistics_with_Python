{
  "nbformat": 4,
  "nbformat_minor": 0,
  "metadata": {
    "colab": {
      "name": "190718 종합실습_다중회귀_흑인차별",
      "version": "0.3.2",
      "provenance": [],
      "collapsed_sections": [],
      "include_colab_link": true
    },
    "kernelspec": {
      "name": "python3",
      "display_name": "Python 3"
    }
  },
  "cells": [
    {
      "cell_type": "markdown",
      "metadata": {
        "id": "view-in-github",
        "colab_type": "text"
      },
      "source": [
        "<a href=\"https://colab.research.google.com/github/SJKIM2253/Statistics_with_Python/blob/master/190718_%EC%A2%85%ED%95%A9%EC%8B%A4%EC%8A%B5_%EB%8B%A4%EC%A4%91%ED%9A%8C%EA%B7%80_%ED%9D%91%EC%9D%B8%EC%B0%A8%EB%B3%84.ipynb\" target=\"_parent\"><img src=\"https://colab.research.google.com/assets/colab-badge.svg\" alt=\"Open In Colab\"/></a>"
      ]
    },
    {
      "cell_type": "markdown",
      "metadata": {
        "id": "wbqemPU6EElQ",
        "colab_type": "text"
      },
      "source": [
        "\n",
        "\n",
        "1.   데이터 정제\n",
        "\n",
        "(1) 통계량 확인, 결측치/ 이상치 확인 >> 처리하기(이상치 대체)\n",
        "\n",
        "(2)  \n",
        "\n"
      ]
    },
    {
      "cell_type": "code",
      "metadata": {
        "id": "Frq1AI1FRmAf",
        "colab_type": "code",
        "outputId": "8b969499-e6d2-457c-cd15-f876b3c9e66d",
        "colab": {
          "base_uri": "https://localhost:8080/",
          "height": 34
        }
      },
      "source": [
        "from google.colab import drive\n",
        "drive.mount('/content/drive')"
      ],
      "execution_count": 0,
      "outputs": [
        {
          "output_type": "stream",
          "text": [
            "Drive already mounted at /content/drive; to attempt to forcibly remount, call drive.mount(\"/content/drive\", force_remount=True).\n"
          ],
          "name": "stdout"
        }
      ]
    },
    {
      "cell_type": "code",
      "metadata": {
        "id": "GNqrc_Xv0LFm",
        "colab_type": "code",
        "colab": {}
      },
      "source": [
        "import pandas as pd\n",
        "import numpy as np\n",
        "import matplotlib.pyplot as plt\n",
        "import seaborn as sns\n",
        "import matplotlib as mp\n",
        "\n",
        "from statsmodels.formula.api import ols\n",
        "from statsmodels.api import qqplot, add_constant\n",
        "import statsmodels.formula.api as smf\n",
        "from statsmodels.tools.eval_measures import rmse  # 추정의 표준오차\n",
        "%matplotlib inline\n",
        "\n",
        "from sklearn.tree import export_graphviz\n",
        "import graphviz\n",
        "\n",
        "from sklearn.svm import SVR\n",
        "from sklearn.preprocessing import StandardScaler\n",
        "from sklearn.model_selection import train_test_split\n",
        "from sklearn.model_selection import GridSearchCV   # cross validation(구버전)\n",
        "\n",
        "from statsmodels.stats.outliers_influence import variance_inflation_factor\n",
        "from sklearn.linear_model import LinearRegression\n",
        "from sklearn.feature_selection import RFE\n",
        "from sklearn.preprocessing import StandardScaler"
      ],
      "execution_count": 0,
      "outputs": []
    },
    {
      "cell_type": "code",
      "metadata": {
        "id": "jXHFgHTx1Rf0",
        "colab_type": "code",
        "outputId": "64711b53-8630-4ba2-80ff-4bf98c0f6983",
        "colab": {
          "base_uri": "https://localhost:8080/",
          "height": 215
        }
      },
      "source": [
        "df_raw = pd.read_csv(\"/content/drive/My Drive/Colab Notebooks/boston_corrected_D_low.csv\", engine=\"python\")\n",
        "df_raw.head()"
      ],
      "execution_count": 68,
      "outputs": [
        {
          "output_type": "execute_result",
          "data": {
            "text/html": [
              "<div>\n",
              "<style scoped>\n",
              "    .dataframe tbody tr th:only-of-type {\n",
              "        vertical-align: middle;\n",
              "    }\n",
              "\n",
              "    .dataframe tbody tr th {\n",
              "        vertical-align: top;\n",
              "    }\n",
              "\n",
              "    .dataframe thead th {\n",
              "        text-align: right;\n",
              "    }\n",
              "</style>\n",
              "<table border=\"1\" class=\"dataframe\">\n",
              "  <thead>\n",
              "    <tr style=\"text-align: right;\">\n",
              "      <th></th>\n",
              "      <th>TOWN</th>\n",
              "      <th>TOWN#</th>\n",
              "      <th>TRACT</th>\n",
              "      <th>LON</th>\n",
              "      <th>LAT</th>\n",
              "      <th>MEDV</th>\n",
              "      <th>CMEDV</th>\n",
              "      <th>CRIM</th>\n",
              "      <th>ZN</th>\n",
              "      <th>INDUS</th>\n",
              "      <th>CHAS</th>\n",
              "      <th>NOX</th>\n",
              "      <th>RM</th>\n",
              "      <th>AGE</th>\n",
              "      <th>DIS</th>\n",
              "      <th>RAD</th>\n",
              "      <th>TAX</th>\n",
              "      <th>PTRATIO</th>\n",
              "      <th>LSTAT</th>\n",
              "      <th>B2</th>\n",
              "      <th>B3</th>\n",
              "      <th>W</th>\n",
              "      <th>PRICE/LSTAT</th>\n",
              "      <th>W/10</th>\n",
              "      <th>BB</th>\n",
              "      <th>WW</th>\n",
              "      <th>DISCRIM</th>\n",
              "    </tr>\n",
              "  </thead>\n",
              "  <tbody>\n",
              "    <tr>\n",
              "      <th>0</th>\n",
              "      <td>Brookline</td>\n",
              "      <td>45</td>\n",
              "      <td>4011</td>\n",
              "      <td>-71.0850</td>\n",
              "      <td>42.1925</td>\n",
              "      <td>50.0</td>\n",
              "      <td>50.0</td>\n",
              "      <td>0.57834</td>\n",
              "      <td>20.0</td>\n",
              "      <td>3.97</td>\n",
              "      <td>0</td>\n",
              "      <td>0.575</td>\n",
              "      <td>8.297</td>\n",
              "      <td>67.0</td>\n",
              "      <td>2.4216</td>\n",
              "      <td>5</td>\n",
              "      <td>264</td>\n",
              "      <td>13.0</td>\n",
              "      <td>7.44</td>\n",
              "      <td>1.250113</td>\n",
              "      <td>12.501129</td>\n",
              "      <td>98.749887</td>\n",
              "      <td>6.720430</td>\n",
              "      <td>7.498871</td>\n",
              "      <td>0.013790</td>\n",
              "      <td>0.013409</td>\n",
              "      <td>0.000380</td>\n",
              "    </tr>\n",
              "    <tr>\n",
              "      <th>1</th>\n",
              "      <td>Cambridge</td>\n",
              "      <td>28</td>\n",
              "      <td>3545</td>\n",
              "      <td>-71.0770</td>\n",
              "      <td>42.2305</td>\n",
              "      <td>50.0</td>\n",
              "      <td>50.0</td>\n",
              "      <td>2.01019</td>\n",
              "      <td>0.0</td>\n",
              "      <td>19.58</td>\n",
              "      <td>0</td>\n",
              "      <td>0.605</td>\n",
              "      <td>7.929</td>\n",
              "      <td>96.2</td>\n",
              "      <td>2.0459</td>\n",
              "      <td>5</td>\n",
              "      <td>403</td>\n",
              "      <td>14.7</td>\n",
              "      <td>3.70</td>\n",
              "      <td>1.237701</td>\n",
              "      <td>12.377006</td>\n",
              "      <td>98.762299</td>\n",
              "      <td>13.513514</td>\n",
              "      <td>7.622994</td>\n",
              "      <td>0.027453</td>\n",
              "      <td>0.026967</td>\n",
              "      <td>0.000486</td>\n",
              "    </tr>\n",
              "    <tr>\n",
              "      <th>2</th>\n",
              "      <td>Newton</td>\n",
              "      <td>40</td>\n",
              "      <td>3736</td>\n",
              "      <td>-71.1012</td>\n",
              "      <td>42.1975</td>\n",
              "      <td>50.0</td>\n",
              "      <td>50.0</td>\n",
              "      <td>0.52693</td>\n",
              "      <td>0.0</td>\n",
              "      <td>6.20</td>\n",
              "      <td>0</td>\n",
              "      <td>0.504</td>\n",
              "      <td>8.725</td>\n",
              "      <td>83.0</td>\n",
              "      <td>2.8944</td>\n",
              "      <td>8</td>\n",
              "      <td>307</td>\n",
              "      <td>17.4</td>\n",
              "      <td>4.63</td>\n",
              "      <td>1.248061</td>\n",
              "      <td>12.480615</td>\n",
              "      <td>98.751939</td>\n",
              "      <td>10.799136</td>\n",
              "      <td>7.519385</td>\n",
              "      <td>0.022123</td>\n",
              "      <td>0.021548</td>\n",
              "      <td>0.000575</td>\n",
              "    </tr>\n",
              "    <tr>\n",
              "      <th>3</th>\n",
              "      <td>Brookline</td>\n",
              "      <td>45</td>\n",
              "      <td>4001</td>\n",
              "      <td>-71.0679</td>\n",
              "      <td>42.2073</td>\n",
              "      <td>50.0</td>\n",
              "      <td>50.0</td>\n",
              "      <td>0.61154</td>\n",
              "      <td>20.0</td>\n",
              "      <td>3.97</td>\n",
              "      <td>0</td>\n",
              "      <td>0.647</td>\n",
              "      <td>8.704</td>\n",
              "      <td>86.9</td>\n",
              "      <td>1.8010</td>\n",
              "      <td>5</td>\n",
              "      <td>264</td>\n",
              "      <td>13.0</td>\n",
              "      <td>5.12</td>\n",
              "      <td>1.254260</td>\n",
              "      <td>12.542596</td>\n",
              "      <td>98.745740</td>\n",
              "      <td>9.765625</td>\n",
              "      <td>7.457404</td>\n",
              "      <td>0.020105</td>\n",
              "      <td>0.019485</td>\n",
              "      <td>0.000620</td>\n",
              "    </tr>\n",
              "    <tr>\n",
              "      <th>4</th>\n",
              "      <td>Belmont</td>\n",
              "      <td>30</td>\n",
              "      <td>3578</td>\n",
              "      <td>-71.1115</td>\n",
              "      <td>42.2442</td>\n",
              "      <td>50.0</td>\n",
              "      <td>50.0</td>\n",
              "      <td>0.05602</td>\n",
              "      <td>0.0</td>\n",
              "      <td>2.46</td>\n",
              "      <td>0</td>\n",
              "      <td>0.488</td>\n",
              "      <td>7.831</td>\n",
              "      <td>53.6</td>\n",
              "      <td>3.1992</td>\n",
              "      <td>3</td>\n",
              "      <td>193</td>\n",
              "      <td>17.8</td>\n",
              "      <td>4.45</td>\n",
              "      <td>1.256602</td>\n",
              "      <td>12.566019</td>\n",
              "      <td>98.743398</td>\n",
              "      <td>11.235955</td>\n",
              "      <td>7.433981</td>\n",
              "      <td>0.023175</td>\n",
              "      <td>0.022418</td>\n",
              "      <td>0.000757</td>\n",
              "    </tr>\n",
              "  </tbody>\n",
              "</table>\n",
              "</div>"
            ],
            "text/plain": [
              "        TOWN  TOWN#  TRACT      LON  ...      W/10        BB        WW   DISCRIM\n",
              "0  Brookline     45   4011 -71.0850  ...  7.498871  0.013790  0.013409  0.000380\n",
              "1  Cambridge     28   3545 -71.0770  ...  7.622994  0.027453  0.026967  0.000486\n",
              "2     Newton     40   3736 -71.1012  ...  7.519385  0.022123  0.021548  0.000575\n",
              "3  Brookline     45   4001 -71.0679  ...  7.457404  0.020105  0.019485  0.000620\n",
              "4    Belmont     30   3578 -71.1115  ...  7.433981  0.023175  0.022418  0.000757\n",
              "\n",
              "[5 rows x 27 columns]"
            ]
          },
          "metadata": {
            "tags": []
          },
          "execution_count": 68
        }
      ]
    },
    {
      "cell_type": "markdown",
      "metadata": {
        "id": "87Q-fVfDsHwZ",
        "colab_type": "text"
      },
      "source": [
        "\n",
        "\n",
        "# 1.   데이터 정제\n",
        "\n",
        "(1) 통계량 확인, 결측치/ 이상치 확인 >> 처리하기(이상치 대체)\n",
        "\n",
        "(2)  \n",
        "\n"
      ]
    },
    {
      "cell_type": "code",
      "metadata": {
        "id": "onEUiewbrv1d",
        "colab_type": "code",
        "colab": {}
      },
      "source": [
        "## 컬럼별 type 확인 및 결측치 확인\n",
        "# df_raw.info()\n",
        "# df_raw.isnull().sum()"
      ],
      "execution_count": 0,
      "outputs": []
    },
    {
      "cell_type": "markdown",
      "metadata": {
        "id": "QbcC6UiRsmLB",
        "colab_type": "text"
      },
      "source": [
        "결측치는 없는 것으로 확인됨"
      ]
    },
    {
      "cell_type": "code",
      "metadata": {
        "id": "WIymxCfdrW74",
        "colab_type": "code",
        "outputId": "654eaca3-7641-4eb3-b24d-cf52ae2cb246",
        "colab": {
          "base_uri": "https://localhost:8080/",
          "height": 34
        }
      },
      "source": [
        "import seaborn as sns\n",
        "df_raw = df_raw.drop([\"TOWN\",\"TOWN#\",\"TRACT\",\"LON\",\"LAT\",\"MEDV\",\"CMEDV\",\"LSTAT\",\"B2\",\"B3\",\"W\",\"W/10\"], axis = 1)\n",
        "sns.pairplot(df_raw)"
      ],
      "execution_count": 0,
      "outputs": [
        {
          "output_type": "execute_result",
          "data": {
            "text/plain": [
              "<seaborn.axisgrid.PairGrid at 0x7f5733ae9278>"
            ]
          },
          "metadata": {
            "tags": []
          },
          "execution_count": 69
        }
      ]
    },
    {
      "cell_type": "code",
      "metadata": {
        "id": "SoSZ8Ef_RcPA",
        "colab_type": "code",
        "colab": {}
      },
      "source": [
        "df_raw.corr().round(3)"
      ],
      "execution_count": 0,
      "outputs": []
    },
    {
      "cell_type": "code",
      "metadata": {
        "id": "OJe_cIu5spKA",
        "colab_type": "code",
        "outputId": "c9d7eb2c-6d45-45ba-e265-f2b33d043183",
        "colab": {
          "base_uri": "https://localhost:8080/",
          "height": 286
        }
      },
      "source": [
        "df_raw.boxplot()"
      ],
      "execution_count": 61,
      "outputs": [
        {
          "output_type": "execute_result",
          "data": {
            "text/plain": [
              "<matplotlib.axes._subplots.AxesSubplot at 0x7f573bda02b0>"
            ]
          },
          "metadata": {
            "tags": []
          },
          "execution_count": 61
        },
        {
          "output_type": "display_data",
          "data": {
            "image/png": "[encoded data removed]",
            "text/plain": [
              "<Figure size 432x288 with 1 Axes>"
            ]
          },
          "metadata": {
            "tags": []
          }
        }
      ]
    },
    {
      "cell_type": "code",
      "metadata": {
        "id": "dI9c0JDeV4JR",
        "colab_type": "code",
        "colab": {
          "base_uri": "https://localhost:8080/",
          "height": 710
        },
        "outputId": "1947e9ab-7f55-4a72-903f-d808eccf7c76"
      },
      "source": [
        "df_raw_x = df_raw.drop(\"PRICE/LSTAT\", axis=1)\n",
        "df_raw_x_const = add_constant(df_raw_x)\n",
        "df_vif = pd.DataFrame()\n",
        "df_vif[\"variable\"]=df_raw_x_const.columns\n",
        "df_vif[\"VIF\"]=[variance_inflation_factor(df_raw_x_const.values,i) for i in range(df_raw_x_const.shape[1])]\n",
        "\n",
        "df_vif.sort_values(\"VIF\",inplace = True)\n",
        "df_vif.round(3)"
      ],
      "execution_count": 66,
      "outputs": [
        {
          "output_type": "stream",
          "text": [
            "/usr/local/lib/python3.6/dist-packages/numpy/core/fromnumeric.py:2389: FutureWarning: Method .ptp is deprecated and will be removed in a future version. Use numpy.ptp instead.\n",
            "  return ptp(axis=axis, out=out, **kwargs)\n",
            "/usr/local/lib/python3.6/dist-packages/statsmodels/stats/outliers_influence.py:185: RuntimeWarning: divide by zero encountered in double_scalars\n",
            "  vif = 1. / (1. - r_squared_i)\n"
          ],
          "name": "stderr"
        },
        {
          "output_type": "execute_result",
          "data": {
            "text/html": [
              "<div>\n",
              "<style scoped>\n",
              "    .dataframe tbody tr th:only-of-type {\n",
              "        vertical-align: middle;\n",
              "    }\n",
              "\n",
              "    .dataframe tbody tr th {\n",
              "        vertical-align: top;\n",
              "    }\n",
              "\n",
              "    .dataframe thead th {\n",
              "        text-align: right;\n",
              "    }\n",
              "</style>\n",
              "<table border=\"1\" class=\"dataframe\">\n",
              "  <thead>\n",
              "    <tr style=\"text-align: right;\">\n",
              "      <th></th>\n",
              "      <th>variable</th>\n",
              "      <th>VIF</th>\n",
              "    </tr>\n",
              "  </thead>\n",
              "  <tbody>\n",
              "    <tr>\n",
              "      <th>5</th>\n",
              "      <td>CHAS</td>\n",
              "      <td>1.095000e+00</td>\n",
              "    </tr>\n",
              "    <tr>\n",
              "      <th>10</th>\n",
              "      <td>RAD</td>\n",
              "      <td>1.243000e+00</td>\n",
              "    </tr>\n",
              "    <tr>\n",
              "      <th>11</th>\n",
              "      <td>TAX</td>\n",
              "      <td>1.659000e+00</td>\n",
              "    </tr>\n",
              "    <tr>\n",
              "      <th>12</th>\n",
              "      <td>PTRATIO</td>\n",
              "      <td>1.917000e+00</td>\n",
              "    </tr>\n",
              "    <tr>\n",
              "      <th>3</th>\n",
              "      <td>ZN</td>\n",
              "      <td>2.462000e+00</td>\n",
              "    </tr>\n",
              "    <tr>\n",
              "      <th>4</th>\n",
              "      <td>INDUS</td>\n",
              "      <td>2.585000e+00</td>\n",
              "    </tr>\n",
              "    <tr>\n",
              "      <th>8</th>\n",
              "      <td>AGE</td>\n",
              "      <td>2.724000e+00</td>\n",
              "    </tr>\n",
              "    <tr>\n",
              "      <th>2</th>\n",
              "      <td>CRIM</td>\n",
              "      <td>3.290000e+00</td>\n",
              "    </tr>\n",
              "    <tr>\n",
              "      <th>9</th>\n",
              "      <td>DIS</td>\n",
              "      <td>3.922000e+00</td>\n",
              "    </tr>\n",
              "    <tr>\n",
              "      <th>6</th>\n",
              "      <td>NOX</td>\n",
              "      <td>5.033000e+00</td>\n",
              "    </tr>\n",
              "    <tr>\n",
              "      <th>7</th>\n",
              "      <td>RM</td>\n",
              "      <td>6.453000e+00</td>\n",
              "    </tr>\n",
              "    <tr>\n",
              "      <th>1</th>\n",
              "      <td>CMEDV</td>\n",
              "      <td>1.286900e+01</td>\n",
              "    </tr>\n",
              "    <tr>\n",
              "      <th>0</th>\n",
              "      <td>const</td>\n",
              "      <td>7.059310e+02</td>\n",
              "    </tr>\n",
              "    <tr>\n",
              "      <th>15</th>\n",
              "      <td>DISCRIM</td>\n",
              "      <td>2.322598e+08</td>\n",
              "    </tr>\n",
              "    <tr>\n",
              "      <th>14</th>\n",
              "      <td>WW</td>\n",
              "      <td>1.891553e+11</td>\n",
              "    </tr>\n",
              "    <tr>\n",
              "      <th>13</th>\n",
              "      <td>BB</td>\n",
              "      <td>2.016838e+11</td>\n",
              "    </tr>\n",
              "    <tr>\n",
              "      <th>16</th>\n",
              "      <td>DISCRIM^2</td>\n",
              "      <td>inf</td>\n",
              "    </tr>\n",
              "    <tr>\n",
              "      <th>17</th>\n",
              "      <td>DISCRIM^3</td>\n",
              "      <td>inf</td>\n",
              "    </tr>\n",
              "    <tr>\n",
              "      <th>18</th>\n",
              "      <td>DISCRIM2</td>\n",
              "      <td>inf</td>\n",
              "    </tr>\n",
              "    <tr>\n",
              "      <th>19</th>\n",
              "      <td>DISCRIM3</td>\n",
              "      <td>inf</td>\n",
              "    </tr>\n",
              "  </tbody>\n",
              "</table>\n",
              "</div>"
            ],
            "text/plain": [
              "     variable           VIF\n",
              "5        CHAS  1.095000e+00\n",
              "10        RAD  1.243000e+00\n",
              "11        TAX  1.659000e+00\n",
              "12    PTRATIO  1.917000e+00\n",
              "3          ZN  2.462000e+00\n",
              "4       INDUS  2.585000e+00\n",
              "8         AGE  2.724000e+00\n",
              "2        CRIM  3.290000e+00\n",
              "9         DIS  3.922000e+00\n",
              "6         NOX  5.033000e+00\n",
              "7          RM  6.453000e+00\n",
              "1       CMEDV  1.286900e+01\n",
              "0       const  7.059310e+02\n",
              "15    DISCRIM  2.322598e+08\n",
              "14         WW  1.891553e+11\n",
              "13         BB  2.016838e+11\n",
              "16  DISCRIM^2           inf\n",
              "17  DISCRIM^3           inf\n",
              "18   DISCRIM2           inf\n",
              "19   DISCRIM3           inf"
            ]
          },
          "metadata": {
            "tags": []
          },
          "execution_count": 66
        }
      ]
    },
    {
      "cell_type": "code",
      "metadata": {
        "id": "gF3T5QJ8tqG6",
        "colab_type": "code",
        "outputId": "a9b0d07b-71e5-4763-bfdc-326ad56913ba",
        "colab": {
          "base_uri": "https://localhost:8080/",
          "height": 367
        }
      },
      "source": [
        "import seaborn as sns\n",
        "df_raw[\"DISCRIM2\"]=df_raw.DISCRIM * df_raw.DISCRIM\n",
        "df_raw[\"DISCRIM3\"]=df_raw.DISCRIM * df_raw.DISCRIM * df_raw.DISCRIM\n",
        "# df_raw_x = df_raw[[\"DISCRIM\",\"DISCRIM2\",\"DISCRIM3\"]]\n",
        "df_raw"
      ],
      "execution_count": 62,
      "outputs": [
        {
          "output_type": "error",
          "ename": "KeyError",
          "evalue": "ignored",
          "traceback": [
            "\u001b[0;31m---------------------------------------------------------------------------\u001b[0m",
            "\u001b[0;31mKeyError\u001b[0m                                  Traceback (most recent call last)",
            "\u001b[0;32m<ipython-input-62-c23d5b8efd4a>\u001b[0m in \u001b[0;36m<module>\u001b[0;34m()\u001b[0m\n\u001b[1;32m      2\u001b[0m \u001b[0mdf_raw\u001b[0m\u001b[0;34m[\u001b[0m\u001b[0;34m\"DISCRIM2\"\u001b[0m\u001b[0;34m]\u001b[0m\u001b[0;34m=\u001b[0m\u001b[0mdf_raw\u001b[0m\u001b[0;34m.\u001b[0m\u001b[0mDISCRIM\u001b[0m \u001b[0;34m*\u001b[0m \u001b[0mdf_raw\u001b[0m\u001b[0;34m.\u001b[0m\u001b[0mDISCRIM\u001b[0m\u001b[0;34m\u001b[0m\u001b[0;34m\u001b[0m\u001b[0m\n\u001b[1;32m      3\u001b[0m \u001b[0mdf_raw\u001b[0m\u001b[0;34m[\u001b[0m\u001b[0;34m\"DISCRIM3\"\u001b[0m\u001b[0;34m]\u001b[0m\u001b[0;34m=\u001b[0m\u001b[0mdf_raw\u001b[0m\u001b[0;34m.\u001b[0m\u001b[0mDISCRIM\u001b[0m \u001b[0;34m*\u001b[0m \u001b[0mdf_raw\u001b[0m\u001b[0;34m.\u001b[0m\u001b[0mDISCRIM\u001b[0m \u001b[0;34m*\u001b[0m \u001b[0mdf_raw\u001b[0m\u001b[0;34m.\u001b[0m\u001b[0mDISCRIM\u001b[0m\u001b[0;34m\u001b[0m\u001b[0;34m\u001b[0m\u001b[0m\n\u001b[0;32m----> 4\u001b[0;31m \u001b[0mdf_raw_x\u001b[0m \u001b[0;34m=\u001b[0m \u001b[0mdf_raw\u001b[0m\u001b[0;34m[\u001b[0m\u001b[0;34m[\u001b[0m\u001b[0;34m\"MEDV\"\u001b[0m\u001b[0;34m,\u001b[0m\u001b[0;34m\"DISCRIM\"\u001b[0m\u001b[0;34m,\u001b[0m\u001b[0;34m\"DISCRIM2\"\u001b[0m\u001b[0;34m,\u001b[0m\u001b[0;34m\"DISCRIM3\"\u001b[0m\u001b[0;34m]\u001b[0m\u001b[0;34m]\u001b[0m\u001b[0;34m\u001b[0m\u001b[0;34m\u001b[0m\u001b[0m\n\u001b[0m\u001b[1;32m      5\u001b[0m \u001b[0mdf_raw\u001b[0m\u001b[0;34m\u001b[0m\u001b[0;34m\u001b[0m\u001b[0m\n",
            "\u001b[0;32m/usr/local/lib/python3.6/dist-packages/pandas/core/frame.py\u001b[0m in \u001b[0;36m__getitem__\u001b[0;34m(self, key)\u001b[0m\n\u001b[1;32m   2932\u001b[0m                 \u001b[0mkey\u001b[0m \u001b[0;34m=\u001b[0m \u001b[0mlist\u001b[0m\u001b[0;34m(\u001b[0m\u001b[0mkey\u001b[0m\u001b[0;34m)\u001b[0m\u001b[0;34m\u001b[0m\u001b[0;34m\u001b[0m\u001b[0m\n\u001b[1;32m   2933\u001b[0m             indexer = self.loc._convert_to_indexer(key, axis=1,\n\u001b[0;32m-> 2934\u001b[0;31m                                                    raise_missing=True)\n\u001b[0m\u001b[1;32m   2935\u001b[0m \u001b[0;34m\u001b[0m\u001b[0m\n\u001b[1;32m   2936\u001b[0m         \u001b[0;31m# take() does not accept boolean indexers\u001b[0m\u001b[0;34m\u001b[0m\u001b[0;34m\u001b[0m\u001b[0;34m\u001b[0m\u001b[0m\n",
            "\u001b[0;32m/usr/local/lib/python3.6/dist-packages/pandas/core/indexing.py\u001b[0m in \u001b[0;36m_convert_to_indexer\u001b[0;34m(self, obj, axis, is_setter, raise_missing)\u001b[0m\n\u001b[1;32m   1352\u001b[0m                 kwargs = {'raise_missing': True if is_setter else\n\u001b[1;32m   1353\u001b[0m                           raise_missing}\n\u001b[0;32m-> 1354\u001b[0;31m                 \u001b[0;32mreturn\u001b[0m \u001b[0mself\u001b[0m\u001b[0;34m.\u001b[0m\u001b[0m_get_listlike_indexer\u001b[0m\u001b[0;34m(\u001b[0m\u001b[0mobj\u001b[0m\u001b[0;34m,\u001b[0m \u001b[0maxis\u001b[0m\u001b[0;34m,\u001b[0m \u001b[0;34m**\u001b[0m\u001b[0mkwargs\u001b[0m\u001b[0;34m)\u001b[0m\u001b[0;34m[\u001b[0m\u001b[0;36m1\u001b[0m\u001b[0;34m]\u001b[0m\u001b[0;34m\u001b[0m\u001b[0;34m\u001b[0m\u001b[0m\n\u001b[0m\u001b[1;32m   1355\u001b[0m         \u001b[0;32melse\u001b[0m\u001b[0;34m:\u001b[0m\u001b[0;34m\u001b[0m\u001b[0;34m\u001b[0m\u001b[0m\n\u001b[1;32m   1356\u001b[0m             \u001b[0;32mtry\u001b[0m\u001b[0;34m:\u001b[0m\u001b[0;34m\u001b[0m\u001b[0;34m\u001b[0m\u001b[0m\n",
            "\u001b[0;32m/usr/local/lib/python3.6/dist-packages/pandas/core/indexing.py\u001b[0m in \u001b[0;36m_get_listlike_indexer\u001b[0;34m(self, key, axis, raise_missing)\u001b[0m\n\u001b[1;32m   1159\u001b[0m         self._validate_read_indexer(keyarr, indexer,\n\u001b[1;32m   1160\u001b[0m                                     \u001b[0mo\u001b[0m\u001b[0;34m.\u001b[0m\u001b[0m_get_axis_number\u001b[0m\u001b[0;34m(\u001b[0m\u001b[0maxis\u001b[0m\u001b[0;34m)\u001b[0m\u001b[0;34m,\u001b[0m\u001b[0;34m\u001b[0m\u001b[0;34m\u001b[0m\u001b[0m\n\u001b[0;32m-> 1161\u001b[0;31m                                     raise_missing=raise_missing)\n\u001b[0m\u001b[1;32m   1162\u001b[0m         \u001b[0;32mreturn\u001b[0m \u001b[0mkeyarr\u001b[0m\u001b[0;34m,\u001b[0m \u001b[0mindexer\u001b[0m\u001b[0;34m\u001b[0m\u001b[0;34m\u001b[0m\u001b[0m\n\u001b[1;32m   1163\u001b[0m \u001b[0;34m\u001b[0m\u001b[0m\n",
            "\u001b[0;32m/usr/local/lib/python3.6/dist-packages/pandas/core/indexing.py\u001b[0m in \u001b[0;36m_validate_read_indexer\u001b[0;34m(self, key, indexer, axis, raise_missing)\u001b[0m\n\u001b[1;32m   1250\u001b[0m             \u001b[0;32mif\u001b[0m \u001b[0;32mnot\u001b[0m\u001b[0;34m(\u001b[0m\u001b[0mself\u001b[0m\u001b[0;34m.\u001b[0m\u001b[0mname\u001b[0m \u001b[0;34m==\u001b[0m \u001b[0;34m'loc'\u001b[0m \u001b[0;32mand\u001b[0m \u001b[0;32mnot\u001b[0m \u001b[0mraise_missing\u001b[0m\u001b[0;34m)\u001b[0m\u001b[0;34m:\u001b[0m\u001b[0;34m\u001b[0m\u001b[0;34m\u001b[0m\u001b[0m\n\u001b[1;32m   1251\u001b[0m                 \u001b[0mnot_found\u001b[0m \u001b[0;34m=\u001b[0m \u001b[0mlist\u001b[0m\u001b[0;34m(\u001b[0m\u001b[0mset\u001b[0m\u001b[0;34m(\u001b[0m\u001b[0mkey\u001b[0m\u001b[0;34m)\u001b[0m \u001b[0;34m-\u001b[0m \u001b[0mset\u001b[0m\u001b[0;34m(\u001b[0m\u001b[0max\u001b[0m\u001b[0;34m)\u001b[0m\u001b[0;34m)\u001b[0m\u001b[0;34m\u001b[0m\u001b[0;34m\u001b[0m\u001b[0m\n\u001b[0;32m-> 1252\u001b[0;31m                 \u001b[0;32mraise\u001b[0m \u001b[0mKeyError\u001b[0m\u001b[0;34m(\u001b[0m\u001b[0;34m\"{} not in index\"\u001b[0m\u001b[0;34m.\u001b[0m\u001b[0mformat\u001b[0m\u001b[0;34m(\u001b[0m\u001b[0mnot_found\u001b[0m\u001b[0;34m)\u001b[0m\u001b[0;34m)\u001b[0m\u001b[0;34m\u001b[0m\u001b[0;34m\u001b[0m\u001b[0m\n\u001b[0m\u001b[1;32m   1253\u001b[0m \u001b[0;34m\u001b[0m\u001b[0m\n\u001b[1;32m   1254\u001b[0m             \u001b[0;31m# we skip the warning on Categorical/Interval\u001b[0m\u001b[0;34m\u001b[0m\u001b[0;34m\u001b[0m\u001b[0;34m\u001b[0m\u001b[0m\n",
            "\u001b[0;31mKeyError\u001b[0m: \"['MEDV'] not in index\""
          ]
        }
      ]
    },
    {
      "cell_type": "code",
      "metadata": {
        "id": "cR2dxCLsS9Oi",
        "colab_type": "code",
        "outputId": "cd10e859-0f44-4c46-def9-17172276779f",
        "colab": {
          "base_uri": "https://localhost:8080/",
          "height": 527
        }
      },
      "source": [
        "reg_model = smf.ols(formula=\"MEDV~ DISCRIM + DISCRIM2 + DISCRIM3\", data=df_raw)\n",
        "reg_result = reg_model.fit()\n",
        "print(reg_result.summary())"
      ],
      "execution_count": 53,
      "outputs": [
        {
          "output_type": "stream",
          "text": [
            "                            OLS Regression Results                            \n",
            "==============================================================================\n",
            "Dep. Variable:                   MEDV   R-squared:                       0.744\n",
            "Model:                            OLS   Adj. R-squared:                  0.742\n",
            "Method:                 Least Squares   F-statistic:                     347.5\n",
            "Date:                Sat, 20 Jul 2019   Prob (F-statistic):          8.84e-106\n",
            "Time:                        07:34:47   Log-Likelihood:                -1028.7\n",
            "No. Observations:                 363   AIC:                             2065.\n",
            "Df Residuals:                     359   BIC:                             2081.\n",
            "Df Model:                           3                                         \n",
            "Covariance Type:            nonrobust                                         \n",
            "==============================================================================\n",
            "                 coef    std err          t      P>|t|      [0.025      0.975]\n",
            "------------------------------------------------------------------------------\n",
            "Intercept     17.8622      0.340     52.480      0.000      17.193      18.532\n",
            "DISCRIM     2.374e+04   1925.355     12.332      0.000       2e+04    2.75e+04\n",
            "DISCRIM2    3.948e+07   5.08e+06      7.776      0.000    2.95e+07    4.95e+07\n",
            "DISCRIM3   -3.445e+10   4.49e+09     -7.678      0.000   -4.33e+10   -2.56e+10\n",
            "==============================================================================\n",
            "Omnibus:                       79.959   Durbin-Watson:                   1.356\n",
            "Prob(Omnibus):                  0.000   Jarque-Bera (JB):              182.562\n",
            "Skew:                           1.102   Prob(JB):                     2.28e-40\n",
            "Kurtosis:                       5.686   Cond. No.                     2.07e+10\n",
            "==============================================================================\n",
            "\n",
            "Warnings:\n",
            "[1] Standard Errors assume that the covariance matrix of the errors is correctly specified.\n",
            "[2] The smallest eigenvalue is 8.51e-19. This might indicate that there are\n",
            "strong multicollinearity problems or that the design matrix is singular.\n"
          ],
          "name": "stdout"
        }
      ]
    },
    {
      "cell_type": "code",
      "metadata": {
        "id": "FhuHFAWZS9S4",
        "colab_type": "code",
        "outputId": "f9489598-20b5-451a-bda6-acfb0405b078",
        "colab": {
          "base_uri": "https://localhost:8080/",
          "height": 283
        }
      },
      "source": [
        "plt.scatter(reg_result.fittedvalues, reg_result.resid)\n",
        "plt.xlabel(\"fitted value\"); plt.ylabel(\"residual\")\n",
        "plt.axhline(y=0,linestyle=\"--\")\n",
        "mp.rcParams['axes.unicode_minus'] = False"
      ],
      "execution_count": 54,
      "outputs": [
        {
          "output_type": "display_data",
          "data": {
            "image/png": "[encoded data removed]",
            "text/plain": [
              "<Figure size 432x288 with 1 Axes>"
            ]
          },
          "metadata": {
            "tags": []
          }
        }
      ]
    },
    {
      "cell_type": "code",
      "metadata": {
        "id": "lNZTc6vwS9U5",
        "colab_type": "code",
        "outputId": "6e11926a-5a2c-4712-f338-26d789f49f13",
        "colab": {
          "base_uri": "https://localhost:8080/",
          "height": 550
        }
      },
      "source": [
        "qqplot(reg_result.resid, line='q')"
      ],
      "execution_count": 55,
      "outputs": [
        {
          "output_type": "execute_result",
          "data": {
            "image/png": "[encoded data removed]",
            "text/plain": [
              "<Figure size 432x288 with 1 Axes>"
            ]
          },
          "metadata": {
            "tags": []
          },
          "execution_count": 55
        },
        {
          "output_type": "display_data",
          "data": {
            "image/png": "[encoded data removed]",
            "text/plain": [
              "<Figure size 432x288 with 1 Axes>"
            ]
          },
          "metadata": {
            "tags": []
          }
        }
      ]
    },
    {
      "cell_type": "code",
      "metadata": {
        "id": "et8cvvIxS9W-",
        "colab_type": "code",
        "outputId": "c1bc625c-00e0-4fea-b429-050bbb6dda81",
        "colab": {
          "base_uri": "https://localhost:8080/",
          "height": 136
        }
      },
      "source": [
        "from sklearn import linear_model\n",
        "df_raw_y = df_raw[\"MEDV\"]\n",
        "df_raw_x = df_raw[[\"DISCRIM\",\"DISCRIM2\",\"DISCRIM3\"]]\n",
        "\n",
        "clf = linear_model.Lasso(alpha=1.0)\n",
        "result=clf.fit(df_raw_x,df_raw_y)\n",
        "\n",
        "df_LASSO = pd.DataFrame()\n",
        "df_LASSO[\"variable\"]=df_raw_x.columns\n",
        "df_LASSO[\"Coef\"] = pd.DataFrame(result.coef_)\n",
        "df_LASSO"
      ],
      "execution_count": 57,
      "outputs": [
        {
          "output_type": "execute_result",
          "data": {
            "text/html": [
              "<div>\n",
              "<style scoped>\n",
              "    .dataframe tbody tr th:only-of-type {\n",
              "        vertical-align: middle;\n",
              "    }\n",
              "\n",
              "    .dataframe tbody tr th {\n",
              "        vertical-align: top;\n",
              "    }\n",
              "\n",
              "    .dataframe thead th {\n",
              "        text-align: right;\n",
              "    }\n",
              "</style>\n",
              "<table border=\"1\" class=\"dataframe\">\n",
              "  <thead>\n",
              "    <tr style=\"text-align: right;\">\n",
              "      <th></th>\n",
              "      <th>variable</th>\n",
              "      <th>Coef</th>\n",
              "    </tr>\n",
              "  </thead>\n",
              "  <tbody>\n",
              "    <tr>\n",
              "      <th>0</th>\n",
              "      <td>DISCRIM</td>\n",
              "      <td>0.0</td>\n",
              "    </tr>\n",
              "    <tr>\n",
              "      <th>1</th>\n",
              "      <td>DISCRIM2</td>\n",
              "      <td>0.0</td>\n",
              "    </tr>\n",
              "    <tr>\n",
              "      <th>2</th>\n",
              "      <td>DISCRIM3</td>\n",
              "      <td>0.0</td>\n",
              "    </tr>\n",
              "  </tbody>\n",
              "</table>\n",
              "</div>"
            ],
            "text/plain": [
              "   variable  Coef\n",
              "0   DISCRIM   0.0\n",
              "1  DISCRIM2   0.0\n",
              "2  DISCRIM3   0.0"
            ]
          },
          "metadata": {
            "tags": []
          },
          "execution_count": 57
        }
      ]
    },
    {
      "cell_type": "code",
      "metadata": {
        "id": "CKK7ms2pS9ZJ",
        "colab_type": "code",
        "outputId": "6eba25b2-6c06-473c-ee79-9ee867188b07",
        "colab": {
          "base_uri": "https://localhost:8080/",
          "height": 34
        }
      },
      "source": [
        "print(result.intercept_)"
      ],
      "execution_count": 0,
      "outputs": [
        {
          "output_type": "stream",
          "text": [
            "41.0569340895711\n"
          ],
          "name": "stdout"
        }
      ]
    },
    {
      "cell_type": "code",
      "metadata": {
        "id": "NoQwIYTCS9bU",
        "colab_type": "code",
        "colab": {}
      },
      "source": [
        ""
      ],
      "execution_count": 0,
      "outputs": []
    },
    {
      "cell_type": "code",
      "metadata": {
        "id": "5dTa0ZNlS9dB",
        "colab_type": "code",
        "colab": {}
      },
      "source": [
        ""
      ],
      "execution_count": 0,
      "outputs": []
    }
  ]
}